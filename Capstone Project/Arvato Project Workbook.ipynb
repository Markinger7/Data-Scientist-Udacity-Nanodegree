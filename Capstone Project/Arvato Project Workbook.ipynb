{
 "cells": [
  {
   "cell_type": "markdown",
   "metadata": {},
   "source": [
    "# Capstone Project: Create a Customer Segmentation Report for Arvato Financial Services\n",
    "##### by Markus Müller\n",
    "\n",
    "## Content\n",
    "- [Introduction](#intro)\n",
    "- [Part 0: Get to know the data](#part0)\n",
    "- [Part 1: Customer Segmentation Report](#part1)\n",
    "- [Part 2: Supervised Learning Model](#part2)\n",
    "- [Part 3: Kaggle Competition](#part3)\n",
    "\n",
    "\n",
    "<a id='intro'></a>\n",
    "### Introduction\n",
    "\n",
    "\n",
    "\n",
    "In this project, you will analyze demographics data for customers of a mail-order sales company in Germany, comparing it against demographics information for the general population. You'll use unsupervised learning techniques to perform customer segmentation, identifying the parts of the population that best describe the core customer base of the company. Then, you'll apply what you've learned on a third dataset with demographics information for targets of a marketing campaign for the company, and use a model to predict which individuals are most likely to convert into becoming customers for the company. The data that you will use has been provided by our partners at Bertelsmann Arvato Analytics, and represents a real-life data science task.\n",
    "\n",
    "If you completed the first term of this program, you will be familiar with the first part of this project, from the unsupervised learning project. The versions of those two datasets used in this project will include many more features and has not been pre-cleaned. You are also free to choose whatever approach you'd like to analyzing the data rather than follow pre-determined steps. In your work on this project, make sure that you carefully document your steps and decisions, since your main deliverable for this project will be a blog post reporting your findings."
   ]
  },
  {
   "cell_type": "code",
   "execution_count": 1,
   "metadata": {},
   "outputs": [],
   "source": [
    "# import libraries here; add more as necessary\n",
    "import numpy as np\n",
    "import pandas as pd\n",
    "import matplotlib.pyplot as plt\n",
    "\n",
    "from sklearn.impute import SimpleImputer\n",
    "from sklearn.preprocessing import StandardScaler\n",
    "from sklearn.decomposition import PCA\n",
    "from sklearn.cluster import KMeans\n",
    "from sklearn.linear_model import LogisticRegression\n",
    "from sklearn.tree import DecisionTreeClassifier\n",
    "from sklearn.svm import SVC\n",
    "from sklearn.ensemble import GradientBoostingClassifier, RandomForestClassifier, AdaBoostClassifier\n",
    "from sklearn.neural_network import MLPClassifier\n",
    "from sklearn.metrics import roc_auc_score, confusion_matrix\n",
    "from sklearn.model_selection import GridSearchCV, train_test_split, StratifiedKFold, cross_val_score\n",
    "\n",
    "\n",
    "import pickle\n",
    "\n",
    "# magic word for producing visualizations in notebook\n",
    "%matplotlib inline"
   ]
  },
  {
   "cell_type": "markdown",
   "metadata": {},
   "source": [
    "<a id='part0'></a>\n",
    "## Part 0: Get to Know the Data\n",
    "\n",
    "There are four data files associated with this project:\n",
    "\n",
    "- `Udacity_AZDIAS_052018.csv`: Demographics data for the general population of Germany; 891 211 persons (rows) x 366 features (columns).\n",
    "- `Udacity_CUSTOMERS_052018.csv`: Demographics data for customers of a mail-order company; 191 652 persons (rows) x 369 features (columns).\n",
    "- `Udacity_MAILOUT_052018_TRAIN.csv`: Demographics data for individuals who were targets of a marketing campaign; 42 982 persons (rows) x 367 (columns).\n",
    "- `Udacity_MAILOUT_052018_TEST.csv`: Demographics data for individuals who were targets of a marketing campaign; 42 833 persons (rows) x 366 (columns).\n",
    "\n",
    "Each row of the demographics files represents a single person, but also includes information outside of individuals, including information about their household, building, and neighborhood. Use the information from the first two files to figure out how customers (\"CUSTOMERS\") are similar to or differ from the general population at large (\"AZDIAS\"), then use your analysis to make predictions on the other two files (\"MAILOUT\"), predicting which recipients are most likely to become a customer for the mail-order company.\n",
    "\n",
    "The \"CUSTOMERS\" file contains three extra columns ('CUSTOMER_GROUP', 'ONLINE_PURCHASE', and 'PRODUCT_GROUP'), which provide broad information about the customers depicted in the file. The original \"MAILOUT\" file included one additional column, \"RESPONSE\", which indicated whether or not each recipient became a customer of the company. For the \"TRAIN\" subset, this column has been retained, but in the \"TEST\" subset it has been removed; it is against that withheld column that your final predictions will be assessed in the Kaggle competition.\n",
    "\n",
    "Otherwise, all of the remaining columns are the same between the three data files. For more information about the columns depicted in the files, you can refer to two Excel spreadsheets provided in the workspace. [One of them](./DIAS Information Levels - Attributes 2017.xlsx) is a top-level list of attributes and descriptions, organized by informational category. [The other](./DIAS Attributes - Values 2017.xlsx) is a detailed mapping of data values for each feature in alphabetical order.\n",
    "\n",
    "In the below cell, we've provided some initial code to load in the first two datasets. Note for all of the `.csv` data files in this project that they're semicolon (`;`) delimited, so an additional argument in the [`read_csv()`](https://pandas.pydata.org/pandas-docs/stable/generated/pandas.read_csv.html) call has been included to read in the data properly. Also, considering the size of the datasets, it may take some time for them to load completely.\n",
    "\n",
    "You'll notice when the data is loaded in that a warning message will immediately pop up. Before you really start digging into the modeling and analysis, you're going to need to perform some cleaning. Take some time to browse the structure of the data and look over the informational spreadsheets to understand the data values. Make some decisions on which features to keep, which features to drop, and if any revisions need to be made on data formats. It'll be a good idea to create a function with pre-processing steps, since you'll need to clean all of the datasets before you work with them."
   ]
  },
  {
   "cell_type": "code",
   "execution_count": null,
   "metadata": {},
   "outputs": [],
   "source": [
    "# load in the data\n",
    "azdias = pd.read_csv('../../data/Term2/capstone/arvato_data/Udacity_AZDIAS_052018.csv', sep=';')\n",
    "customers = pd.read_csv('../../data/Term2/capstone/arvato_data/Udacity_CUSTOMERS_052018.csv', sep=';')"
   ]
  },
  {
   "cell_type": "code",
   "execution_count": 2,
   "metadata": {},
   "outputs": [
    {
     "name": "stderr",
     "output_type": "stream",
     "text": [
      "/opt/anaconda3/lib/python3.7/site-packages/IPython/core/interactiveshell.py:3058: DtypeWarning: Columns (18,19) have mixed types. Specify dtype option on import or set low_memory=False.\n",
      "  interactivity=interactivity, compiler=compiler, result=result)\n"
     ]
    }
   ],
   "source": [
    "# I downloaded tha data so I can work locally (which is faster for me)\n",
    "# since the data is confidencial I will delete it after the project assessment\n",
    "azdias = pd.read_csv('data/Udacity_AZDIAS_052018.csv', sep=';')"
   ]
  },
  {
   "cell_type": "code",
   "execution_count": 7,
   "metadata": {},
   "outputs": [],
   "source": [
    "# Be sure to add in a lot more cells (both markdown and code) to document your\n",
    "# approach and findings!"
   ]
  },
  {
   "cell_type": "code",
   "execution_count": 3,
   "metadata": {},
   "outputs": [
    {
     "data": {
      "text/html": [
       "<div>\n",
       "<style scoped>\n",
       "    .dataframe tbody tr th:only-of-type {\n",
       "        vertical-align: middle;\n",
       "    }\n",
       "\n",
       "    .dataframe tbody tr th {\n",
       "        vertical-align: top;\n",
       "    }\n",
       "\n",
       "    .dataframe thead th {\n",
       "        text-align: right;\n",
       "    }\n",
       "</style>\n",
       "<table border=\"1\" class=\"dataframe\">\n",
       "  <thead>\n",
       "    <tr style=\"text-align: right;\">\n",
       "      <th></th>\n",
       "      <th>LNR</th>\n",
       "      <th>AGER_TYP</th>\n",
       "      <th>AKT_DAT_KL</th>\n",
       "      <th>ALTER_HH</th>\n",
       "      <th>ALTER_KIND1</th>\n",
       "      <th>ALTER_KIND2</th>\n",
       "      <th>ALTER_KIND3</th>\n",
       "      <th>ALTER_KIND4</th>\n",
       "      <th>ALTERSKATEGORIE_FEIN</th>\n",
       "      <th>ANZ_HAUSHALTE_AKTIV</th>\n",
       "      <th>...</th>\n",
       "      <th>VHN</th>\n",
       "      <th>VK_DHT4A</th>\n",
       "      <th>VK_DISTANZ</th>\n",
       "      <th>VK_ZG11</th>\n",
       "      <th>W_KEIT_KIND_HH</th>\n",
       "      <th>WOHNDAUER_2008</th>\n",
       "      <th>WOHNLAGE</th>\n",
       "      <th>ZABEOTYP</th>\n",
       "      <th>ANREDE_KZ</th>\n",
       "      <th>ALTERSKATEGORIE_GROB</th>\n",
       "    </tr>\n",
       "  </thead>\n",
       "  <tbody>\n",
       "    <tr>\n",
       "      <td>0</td>\n",
       "      <td>910215</td>\n",
       "      <td>-1</td>\n",
       "      <td>NaN</td>\n",
       "      <td>NaN</td>\n",
       "      <td>NaN</td>\n",
       "      <td>NaN</td>\n",
       "      <td>NaN</td>\n",
       "      <td>NaN</td>\n",
       "      <td>NaN</td>\n",
       "      <td>NaN</td>\n",
       "      <td>...</td>\n",
       "      <td>NaN</td>\n",
       "      <td>NaN</td>\n",
       "      <td>NaN</td>\n",
       "      <td>NaN</td>\n",
       "      <td>NaN</td>\n",
       "      <td>NaN</td>\n",
       "      <td>NaN</td>\n",
       "      <td>3</td>\n",
       "      <td>1</td>\n",
       "      <td>2</td>\n",
       "    </tr>\n",
       "    <tr>\n",
       "      <td>1</td>\n",
       "      <td>910220</td>\n",
       "      <td>-1</td>\n",
       "      <td>9.0</td>\n",
       "      <td>0.0</td>\n",
       "      <td>NaN</td>\n",
       "      <td>NaN</td>\n",
       "      <td>NaN</td>\n",
       "      <td>NaN</td>\n",
       "      <td>21.0</td>\n",
       "      <td>11.0</td>\n",
       "      <td>...</td>\n",
       "      <td>4.0</td>\n",
       "      <td>8.0</td>\n",
       "      <td>11.0</td>\n",
       "      <td>10.0</td>\n",
       "      <td>3.0</td>\n",
       "      <td>9.0</td>\n",
       "      <td>4.0</td>\n",
       "      <td>5</td>\n",
       "      <td>2</td>\n",
       "      <td>1</td>\n",
       "    </tr>\n",
       "    <tr>\n",
       "      <td>2</td>\n",
       "      <td>910225</td>\n",
       "      <td>-1</td>\n",
       "      <td>9.0</td>\n",
       "      <td>17.0</td>\n",
       "      <td>NaN</td>\n",
       "      <td>NaN</td>\n",
       "      <td>NaN</td>\n",
       "      <td>NaN</td>\n",
       "      <td>17.0</td>\n",
       "      <td>10.0</td>\n",
       "      <td>...</td>\n",
       "      <td>2.0</td>\n",
       "      <td>9.0</td>\n",
       "      <td>9.0</td>\n",
       "      <td>6.0</td>\n",
       "      <td>3.0</td>\n",
       "      <td>9.0</td>\n",
       "      <td>2.0</td>\n",
       "      <td>5</td>\n",
       "      <td>2</td>\n",
       "      <td>3</td>\n",
       "    </tr>\n",
       "    <tr>\n",
       "      <td>3</td>\n",
       "      <td>910226</td>\n",
       "      <td>2</td>\n",
       "      <td>1.0</td>\n",
       "      <td>13.0</td>\n",
       "      <td>NaN</td>\n",
       "      <td>NaN</td>\n",
       "      <td>NaN</td>\n",
       "      <td>NaN</td>\n",
       "      <td>13.0</td>\n",
       "      <td>1.0</td>\n",
       "      <td>...</td>\n",
       "      <td>0.0</td>\n",
       "      <td>7.0</td>\n",
       "      <td>10.0</td>\n",
       "      <td>11.0</td>\n",
       "      <td>NaN</td>\n",
       "      <td>9.0</td>\n",
       "      <td>7.0</td>\n",
       "      <td>3</td>\n",
       "      <td>2</td>\n",
       "      <td>4</td>\n",
       "    </tr>\n",
       "    <tr>\n",
       "      <td>4</td>\n",
       "      <td>910241</td>\n",
       "      <td>-1</td>\n",
       "      <td>1.0</td>\n",
       "      <td>20.0</td>\n",
       "      <td>NaN</td>\n",
       "      <td>NaN</td>\n",
       "      <td>NaN</td>\n",
       "      <td>NaN</td>\n",
       "      <td>14.0</td>\n",
       "      <td>3.0</td>\n",
       "      <td>...</td>\n",
       "      <td>2.0</td>\n",
       "      <td>3.0</td>\n",
       "      <td>5.0</td>\n",
       "      <td>4.0</td>\n",
       "      <td>2.0</td>\n",
       "      <td>9.0</td>\n",
       "      <td>3.0</td>\n",
       "      <td>4</td>\n",
       "      <td>1</td>\n",
       "      <td>3</td>\n",
       "    </tr>\n",
       "    <tr>\n",
       "      <td>...</td>\n",
       "      <td>...</td>\n",
       "      <td>...</td>\n",
       "      <td>...</td>\n",
       "      <td>...</td>\n",
       "      <td>...</td>\n",
       "      <td>...</td>\n",
       "      <td>...</td>\n",
       "      <td>...</td>\n",
       "      <td>...</td>\n",
       "      <td>...</td>\n",
       "      <td>...</td>\n",
       "      <td>...</td>\n",
       "      <td>...</td>\n",
       "      <td>...</td>\n",
       "      <td>...</td>\n",
       "      <td>...</td>\n",
       "      <td>...</td>\n",
       "      <td>...</td>\n",
       "      <td>...</td>\n",
       "      <td>...</td>\n",
       "      <td>...</td>\n",
       "    </tr>\n",
       "    <tr>\n",
       "      <td>891216</td>\n",
       "      <td>825761</td>\n",
       "      <td>-1</td>\n",
       "      <td>5.0</td>\n",
       "      <td>17.0</td>\n",
       "      <td>NaN</td>\n",
       "      <td>NaN</td>\n",
       "      <td>NaN</td>\n",
       "      <td>NaN</td>\n",
       "      <td>17.0</td>\n",
       "      <td>15.0</td>\n",
       "      <td>...</td>\n",
       "      <td>2.0</td>\n",
       "      <td>4.0</td>\n",
       "      <td>7.0</td>\n",
       "      <td>8.0</td>\n",
       "      <td>3.0</td>\n",
       "      <td>4.0</td>\n",
       "      <td>3.0</td>\n",
       "      <td>4</td>\n",
       "      <td>2</td>\n",
       "      <td>3</td>\n",
       "    </tr>\n",
       "    <tr>\n",
       "      <td>891217</td>\n",
       "      <td>825771</td>\n",
       "      <td>-1</td>\n",
       "      <td>9.0</td>\n",
       "      <td>16.0</td>\n",
       "      <td>NaN</td>\n",
       "      <td>NaN</td>\n",
       "      <td>NaN</td>\n",
       "      <td>NaN</td>\n",
       "      <td>16.0</td>\n",
       "      <td>11.0</td>\n",
       "      <td>...</td>\n",
       "      <td>4.0</td>\n",
       "      <td>6.0</td>\n",
       "      <td>9.0</td>\n",
       "      <td>6.0</td>\n",
       "      <td>6.0</td>\n",
       "      <td>9.0</td>\n",
       "      <td>5.0</td>\n",
       "      <td>6</td>\n",
       "      <td>1</td>\n",
       "      <td>2</td>\n",
       "    </tr>\n",
       "    <tr>\n",
       "      <td>891218</td>\n",
       "      <td>825772</td>\n",
       "      <td>-1</td>\n",
       "      <td>1.0</td>\n",
       "      <td>17.0</td>\n",
       "      <td>NaN</td>\n",
       "      <td>NaN</td>\n",
       "      <td>NaN</td>\n",
       "      <td>NaN</td>\n",
       "      <td>17.0</td>\n",
       "      <td>3.0</td>\n",
       "      <td>...</td>\n",
       "      <td>2.0</td>\n",
       "      <td>7.0</td>\n",
       "      <td>10.0</td>\n",
       "      <td>8.0</td>\n",
       "      <td>NaN</td>\n",
       "      <td>5.0</td>\n",
       "      <td>7.0</td>\n",
       "      <td>4</td>\n",
       "      <td>2</td>\n",
       "      <td>2</td>\n",
       "    </tr>\n",
       "    <tr>\n",
       "      <td>891219</td>\n",
       "      <td>825776</td>\n",
       "      <td>-1</td>\n",
       "      <td>9.0</td>\n",
       "      <td>0.0</td>\n",
       "      <td>17.0</td>\n",
       "      <td>NaN</td>\n",
       "      <td>NaN</td>\n",
       "      <td>NaN</td>\n",
       "      <td>20.0</td>\n",
       "      <td>7.0</td>\n",
       "      <td>...</td>\n",
       "      <td>4.0</td>\n",
       "      <td>9.0</td>\n",
       "      <td>8.0</td>\n",
       "      <td>5.0</td>\n",
       "      <td>1.0</td>\n",
       "      <td>9.0</td>\n",
       "      <td>5.0</td>\n",
       "      <td>5</td>\n",
       "      <td>1</td>\n",
       "      <td>1</td>\n",
       "    </tr>\n",
       "    <tr>\n",
       "      <td>891220</td>\n",
       "      <td>825787</td>\n",
       "      <td>-1</td>\n",
       "      <td>1.0</td>\n",
       "      <td>0.0</td>\n",
       "      <td>NaN</td>\n",
       "      <td>NaN</td>\n",
       "      <td>NaN</td>\n",
       "      <td>NaN</td>\n",
       "      <td>NaN</td>\n",
       "      <td>10.0</td>\n",
       "      <td>...</td>\n",
       "      <td>3.0</td>\n",
       "      <td>8.0</td>\n",
       "      <td>10.0</td>\n",
       "      <td>7.0</td>\n",
       "      <td>6.0</td>\n",
       "      <td>3.0</td>\n",
       "      <td>4.0</td>\n",
       "      <td>3</td>\n",
       "      <td>1</td>\n",
       "      <td>4</td>\n",
       "    </tr>\n",
       "  </tbody>\n",
       "</table>\n",
       "<p>891221 rows × 366 columns</p>\n",
       "</div>"
      ],
      "text/plain": [
       "           LNR  AGER_TYP  AKT_DAT_KL  ALTER_HH  ALTER_KIND1  ALTER_KIND2  \\\n",
       "0       910215        -1         NaN       NaN          NaN          NaN   \n",
       "1       910220        -1         9.0       0.0          NaN          NaN   \n",
       "2       910225        -1         9.0      17.0          NaN          NaN   \n",
       "3       910226         2         1.0      13.0          NaN          NaN   \n",
       "4       910241        -1         1.0      20.0          NaN          NaN   \n",
       "...        ...       ...         ...       ...          ...          ...   \n",
       "891216  825761        -1         5.0      17.0          NaN          NaN   \n",
       "891217  825771        -1         9.0      16.0          NaN          NaN   \n",
       "891218  825772        -1         1.0      17.0          NaN          NaN   \n",
       "891219  825776        -1         9.0       0.0         17.0          NaN   \n",
       "891220  825787        -1         1.0       0.0          NaN          NaN   \n",
       "\n",
       "        ALTER_KIND3  ALTER_KIND4  ALTERSKATEGORIE_FEIN  ANZ_HAUSHALTE_AKTIV  \\\n",
       "0               NaN          NaN                   NaN                  NaN   \n",
       "1               NaN          NaN                  21.0                 11.0   \n",
       "2               NaN          NaN                  17.0                 10.0   \n",
       "3               NaN          NaN                  13.0                  1.0   \n",
       "4               NaN          NaN                  14.0                  3.0   \n",
       "...             ...          ...                   ...                  ...   \n",
       "891216          NaN          NaN                  17.0                 15.0   \n",
       "891217          NaN          NaN                  16.0                 11.0   \n",
       "891218          NaN          NaN                  17.0                  3.0   \n",
       "891219          NaN          NaN                  20.0                  7.0   \n",
       "891220          NaN          NaN                   NaN                 10.0   \n",
       "\n",
       "        ...  VHN  VK_DHT4A  VK_DISTANZ  VK_ZG11  W_KEIT_KIND_HH  \\\n",
       "0       ...  NaN       NaN         NaN      NaN             NaN   \n",
       "1       ...  4.0       8.0        11.0     10.0             3.0   \n",
       "2       ...  2.0       9.0         9.0      6.0             3.0   \n",
       "3       ...  0.0       7.0        10.0     11.0             NaN   \n",
       "4       ...  2.0       3.0         5.0      4.0             2.0   \n",
       "...     ...  ...       ...         ...      ...             ...   \n",
       "891216  ...  2.0       4.0         7.0      8.0             3.0   \n",
       "891217  ...  4.0       6.0         9.0      6.0             6.0   \n",
       "891218  ...  2.0       7.0        10.0      8.0             NaN   \n",
       "891219  ...  4.0       9.0         8.0      5.0             1.0   \n",
       "891220  ...  3.0       8.0        10.0      7.0             6.0   \n",
       "\n",
       "        WOHNDAUER_2008  WOHNLAGE ZABEOTYP ANREDE_KZ ALTERSKATEGORIE_GROB  \n",
       "0                  NaN       NaN        3         1                    2  \n",
       "1                  9.0       4.0        5         2                    1  \n",
       "2                  9.0       2.0        5         2                    3  \n",
       "3                  9.0       7.0        3         2                    4  \n",
       "4                  9.0       3.0        4         1                    3  \n",
       "...                ...       ...      ...       ...                  ...  \n",
       "891216             4.0       3.0        4         2                    3  \n",
       "891217             9.0       5.0        6         1                    2  \n",
       "891218             5.0       7.0        4         2                    2  \n",
       "891219             9.0       5.0        5         1                    1  \n",
       "891220             3.0       4.0        3         1                    4  \n",
       "\n",
       "[891221 rows x 366 columns]"
      ]
     },
     "execution_count": 3,
     "metadata": {},
     "output_type": "execute_result"
    }
   ],
   "source": [
    "azdias"
   ]
  },
  {
   "cell_type": "code",
   "execution_count": 9,
   "metadata": {},
   "outputs": [
    {
     "name": "stdout",
     "output_type": "stream",
     "text": [
      "<class 'pandas.core.frame.DataFrame'>\n",
      "RangeIndex: 891221 entries, 0 to 891220\n",
      "Columns: 366 entries, LNR to ALTERSKATEGORIE_GROB\n",
      "dtypes: float64(267), int64(93), object(6)\n",
      "memory usage: 2.4+ GB\n"
     ]
    }
   ],
   "source": [
    "azdias.info()"
   ]
  },
  {
   "cell_type": "markdown",
   "metadata": {},
   "source": [
    "#### Checking for duplicates"
   ]
  },
  {
   "cell_type": "code",
   "execution_count": 10,
   "metadata": {},
   "outputs": [
    {
     "data": {
      "text/plain": [
       "0"
      ]
     },
     "execution_count": 10,
     "metadata": {},
     "output_type": "execute_result"
    }
   ],
   "source": [
    "azdias.duplicated().sum()"
   ]
  },
  {
   "cell_type": "markdown",
   "metadata": {},
   "source": [
    "There are no duplicates in the datasets "
   ]
  },
  {
   "cell_type": "markdown",
   "metadata": {},
   "source": [
    "#### Checking for missing values\n",
    "\n",
    "Form the visuall assessment is is clear that the datasets contain missing values (NaNs), but there are also other encodings for missing or unknown data like -1. A quick check in the provided Excel sheets with the explanation of the attributes and the possible value each can be, -1 is, as assumed, also a code for unkown, as well as 9 and 0 in some cases.\n",
    "A possible solution is to look at the Excel and hardcode the unknown values, but we can use pandas for this.\n",
    "\n",
    "When cheching for missing values I noticed that the len of the Attributes in the Excel don't match with the columns in the azdias DataFrame."
   ]
  },
  {
   "cell_type": "code",
   "execution_count": 4,
   "metadata": {},
   "outputs": [],
   "source": [
    "# load the Excel file\n",
    "attributes_values = pd.read_excel('data/DIAS Attributes - Values 2017.xlsx', skiprows=1)\n",
    "attributes_values.drop(columns='Unnamed: 0', inplace=True)"
   ]
  },
  {
   "cell_type": "code",
   "execution_count": 5,
   "metadata": {},
   "outputs": [
    {
     "data": {
      "text/html": [
       "<div>\n",
       "<style scoped>\n",
       "    .dataframe tbody tr th:only-of-type {\n",
       "        vertical-align: middle;\n",
       "    }\n",
       "\n",
       "    .dataframe tbody tr th {\n",
       "        vertical-align: top;\n",
       "    }\n",
       "\n",
       "    .dataframe thead th {\n",
       "        text-align: right;\n",
       "    }\n",
       "</style>\n",
       "<table border=\"1\" class=\"dataframe\">\n",
       "  <thead>\n",
       "    <tr style=\"text-align: right;\">\n",
       "      <th></th>\n",
       "      <th>Attribute</th>\n",
       "      <th>Description</th>\n",
       "      <th>Value</th>\n",
       "      <th>Meaning</th>\n",
       "    </tr>\n",
       "  </thead>\n",
       "  <tbody>\n",
       "    <tr>\n",
       "      <td>0</td>\n",
       "      <td>AGER_TYP</td>\n",
       "      <td>best-ager typology</td>\n",
       "      <td>-1</td>\n",
       "      <td>unknown</td>\n",
       "    </tr>\n",
       "    <tr>\n",
       "      <td>1</td>\n",
       "      <td>NaN</td>\n",
       "      <td>NaN</td>\n",
       "      <td>0</td>\n",
       "      <td>no classification possible</td>\n",
       "    </tr>\n",
       "    <tr>\n",
       "      <td>2</td>\n",
       "      <td>NaN</td>\n",
       "      <td>NaN</td>\n",
       "      <td>1</td>\n",
       "      <td>passive elderly</td>\n",
       "    </tr>\n",
       "    <tr>\n",
       "      <td>3</td>\n",
       "      <td>NaN</td>\n",
       "      <td>NaN</td>\n",
       "      <td>2</td>\n",
       "      <td>cultural elderly</td>\n",
       "    </tr>\n",
       "    <tr>\n",
       "      <td>4</td>\n",
       "      <td>NaN</td>\n",
       "      <td>NaN</td>\n",
       "      <td>3</td>\n",
       "      <td>experience-driven elderly</td>\n",
       "    </tr>\n",
       "    <tr>\n",
       "      <td>5</td>\n",
       "      <td>ALTERSKATEGORIE_GROB</td>\n",
       "      <td>age classification through prename analysis</td>\n",
       "      <td>-1, 0</td>\n",
       "      <td>unknown</td>\n",
       "    </tr>\n",
       "    <tr>\n",
       "      <td>6</td>\n",
       "      <td>NaN</td>\n",
       "      <td>NaN</td>\n",
       "      <td>1</td>\n",
       "      <td>&lt; 30 years</td>\n",
       "    </tr>\n",
       "    <tr>\n",
       "      <td>7</td>\n",
       "      <td>NaN</td>\n",
       "      <td>NaN</td>\n",
       "      <td>2</td>\n",
       "      <td>30 - 45 years</td>\n",
       "    </tr>\n",
       "    <tr>\n",
       "      <td>8</td>\n",
       "      <td>NaN</td>\n",
       "      <td>NaN</td>\n",
       "      <td>3</td>\n",
       "      <td>46 - 60 years</td>\n",
       "    </tr>\n",
       "    <tr>\n",
       "      <td>9</td>\n",
       "      <td>NaN</td>\n",
       "      <td>NaN</td>\n",
       "      <td>4</td>\n",
       "      <td>&gt; 60 years</td>\n",
       "    </tr>\n",
       "  </tbody>\n",
       "</table>\n",
       "</div>"
      ],
      "text/plain": [
       "              Attribute                                   Description  Value  \\\n",
       "0              AGER_TYP                            best-ager typology     -1   \n",
       "1                   NaN                                           NaN      0   \n",
       "2                   NaN                                           NaN      1   \n",
       "3                   NaN                                           NaN      2   \n",
       "4                   NaN                                           NaN      3   \n",
       "5  ALTERSKATEGORIE_GROB  age classification through prename analysis   -1, 0   \n",
       "6                   NaN                                           NaN      1   \n",
       "7                   NaN                                           NaN      2   \n",
       "8                   NaN                                           NaN      3   \n",
       "9                   NaN                                           NaN      4   \n",
       "\n",
       "                      Meaning  \n",
       "0                     unknown  \n",
       "1  no classification possible  \n",
       "2             passive elderly  \n",
       "3            cultural elderly  \n",
       "4   experience-driven elderly  \n",
       "5                     unknown  \n",
       "6                  < 30 years  \n",
       "7               30 - 45 years  \n",
       "8               46 - 60 years  \n",
       "9                  > 60 years  "
      ]
     },
     "execution_count": 5,
     "metadata": {},
     "output_type": "execute_result"
    }
   ],
   "source": [
    "attributes_values.head(10)"
   ]
  },
  {
   "cell_type": "code",
   "execution_count": 6,
   "metadata": {},
   "outputs": [],
   "source": [
    "# check if count of Attributes fit the columns of the DataFrame\n",
    "attributes = list(attributes_values['Attribute'].dropna())"
   ]
  },
  {
   "cell_type": "code",
   "execution_count": 7,
   "metadata": {},
   "outputs": [
    {
     "data": {
      "text/plain": [
       "314"
      ]
     },
     "execution_count": 7,
     "metadata": {},
     "output_type": "execute_result"
    }
   ],
   "source": [
    "len(attributes)"
   ]
  },
  {
   "cell_type": "code",
   "execution_count": 8,
   "metadata": {},
   "outputs": [
    {
     "data": {
      "text/plain": [
       "366"
      ]
     },
     "execution_count": 8,
     "metadata": {},
     "output_type": "execute_result"
    }
   ],
   "source": [
    "len(azdias.columns)"
   ]
  },
  {
   "cell_type": "markdown",
   "metadata": {},
   "source": [
    "The azdias DataFrame has 366 columns, so there as to be some Attributes that are not in the Excel file. Since I don't have any description of those 53 entries, I am going to drop them "
   ]
  },
  {
   "cell_type": "code",
   "execution_count": 9,
   "metadata": {},
   "outputs": [],
   "source": [
    "# https://stackoverflow.com/questions/52976664/python-differences-between-two-lists\n",
    "def difference(list1, list2):\n",
    "    return len(list(set(list1) - set(list2)))"
   ]
  },
  {
   "cell_type": "code",
   "execution_count": 10,
   "metadata": {},
   "outputs": [
    {
     "data": {
      "text/plain": [
       "42"
      ]
     },
     "execution_count": 10,
     "metadata": {},
     "output_type": "execute_result"
    }
   ],
   "source": [
    "difference(attributes, azdias)"
   ]
  },
  {
   "cell_type": "code",
   "execution_count": 11,
   "metadata": {},
   "outputs": [
    {
     "data": {
      "text/plain": [
       "94"
      ]
     },
     "execution_count": 11,
     "metadata": {},
     "output_type": "execute_result"
    }
   ],
   "source": [
    "difference(azdias, attributes)"
   ]
  },
  {
   "cell_type": "code",
   "execution_count": 12,
   "metadata": {},
   "outputs": [],
   "source": [
    "def intersection(list1, list2):\n",
    "    return len(list(set(list1) & set(list2)))"
   ]
  },
  {
   "cell_type": "code",
   "execution_count": 13,
   "metadata": {},
   "outputs": [
    {
     "data": {
      "text/plain": [
       "272"
      ]
     },
     "execution_count": 13,
     "metadata": {},
     "output_type": "execute_result"
    }
   ],
   "source": [
    "intersection(azdias, attributes)"
   ]
  },
  {
   "cell_type": "code",
   "execution_count": 14,
   "metadata": {},
   "outputs": [],
   "source": [
    "intersected_cols = list(set(azdias) & set(attributes))"
   ]
  },
  {
   "cell_type": "markdown",
   "metadata": {},
   "source": [
    "So there are 42 attributes missing in the azdias dataset that are in the Excel file and 94 attributes that are in the datatset but not in th Excel file. This leaves us with an intersection of 272 attributs for which we have a description and the data."
   ]
  },
  {
   "cell_type": "code",
   "execution_count": 15,
   "metadata": {},
   "outputs": [],
   "source": [
    "# https://stackoverflow.com/questions/56891518/how-to-drop-columns-if-they-are-not-presented-in-specific-list-in-pandas\n",
    "azdias = azdias[azdias.columns.intersection(intersected_cols)]"
   ]
  },
  {
   "cell_type": "code",
   "execution_count": 16,
   "metadata": {},
   "outputs": [
    {
     "data": {
      "text/plain": [
       "(891221, 272)"
      ]
     },
     "execution_count": 16,
     "metadata": {},
     "output_type": "execute_result"
    }
   ],
   "source": [
    "# now we have only the attributes for which we have a discription\n",
    "azdias.shape"
   ]
  },
  {
   "cell_type": "markdown",
   "metadata": {},
   "source": [
    "##### create a dataframe with the values for missing vlaues\n",
    "problem: 0 and 9 aren't always used for unknown/missing values."
   ]
  },
  {
   "cell_type": "code",
   "execution_count": 17,
   "metadata": {},
   "outputs": [
    {
     "data": {
      "text/html": [
       "<div>\n",
       "<style scoped>\n",
       "    .dataframe tbody tr th:only-of-type {\n",
       "        vertical-align: middle;\n",
       "    }\n",
       "\n",
       "    .dataframe tbody tr th {\n",
       "        vertical-align: top;\n",
       "    }\n",
       "\n",
       "    .dataframe thead th {\n",
       "        text-align: right;\n",
       "    }\n",
       "</style>\n",
       "<table border=\"1\" class=\"dataframe\">\n",
       "  <thead>\n",
       "    <tr style=\"text-align: right;\">\n",
       "      <th></th>\n",
       "      <th>Attribute</th>\n",
       "      <th>Description</th>\n",
       "      <th>Value</th>\n",
       "      <th>Meaning</th>\n",
       "    </tr>\n",
       "  </thead>\n",
       "  <tbody>\n",
       "    <tr>\n",
       "      <td>0</td>\n",
       "      <td>AGER_TYP</td>\n",
       "      <td>best-ager typology</td>\n",
       "      <td>-1</td>\n",
       "      <td>unknown</td>\n",
       "    </tr>\n",
       "    <tr>\n",
       "      <td>5</td>\n",
       "      <td>ALTERSKATEGORIE_GROB</td>\n",
       "      <td>age classification through prename analysis</td>\n",
       "      <td>-1, 0</td>\n",
       "      <td>unknown</td>\n",
       "    </tr>\n",
       "    <tr>\n",
       "      <td>33</td>\n",
       "      <td>ANREDE_KZ</td>\n",
       "      <td>gender</td>\n",
       "      <td>-1, 0</td>\n",
       "      <td>unknown</td>\n",
       "    </tr>\n",
       "    <tr>\n",
       "      <td>40</td>\n",
       "      <td>BALLRAUM</td>\n",
       "      <td>distance to next urban centre</td>\n",
       "      <td>-1</td>\n",
       "      <td>unknown</td>\n",
       "    </tr>\n",
       "    <tr>\n",
       "      <td>48</td>\n",
       "      <td>BIP_FLAG</td>\n",
       "      <td>business-flag indicating companies in the buil...</td>\n",
       "      <td>-1</td>\n",
       "      <td>unknown</td>\n",
       "    </tr>\n",
       "  </tbody>\n",
       "</table>\n",
       "</div>"
      ],
      "text/plain": [
       "               Attribute                                        Description  \\\n",
       "0               AGER_TYP                                 best-ager typology   \n",
       "5   ALTERSKATEGORIE_GROB       age classification through prename analysis    \n",
       "33             ANREDE_KZ                                             gender   \n",
       "40              BALLRAUM                     distance to next urban centre    \n",
       "48              BIP_FLAG  business-flag indicating companies in the buil...   \n",
       "\n",
       "    Value  Meaning  \n",
       "0      -1  unknown  \n",
       "5   -1, 0  unknown  \n",
       "33  -1, 0  unknown  \n",
       "40     -1  unknown  \n",
       "48     -1  unknown  "
      ]
     },
     "execution_count": 17,
     "metadata": {},
     "output_type": "execute_result"
    }
   ],
   "source": [
    "# to get the unkown values: filter the DataFrame for unknown in column Meaning\n",
    "unknown_vals = attributes_values[attributes_values['Meaning'].isin(['unknown'])]\n",
    "unknown_vals.head()"
   ]
  },
  {
   "cell_type": "code",
   "execution_count": 18,
   "metadata": {},
   "outputs": [
    {
     "name": "stderr",
     "output_type": "stream",
     "text": [
      "/opt/anaconda3/lib/python3.7/site-packages/ipykernel_launcher.py:1: SettingWithCopyWarning: \n",
      "A value is trying to be set on a copy of a slice from a DataFrame.\n",
      "Try using .loc[row_indexer,col_indexer] = value instead\n",
      "\n",
      "See the caveats in the documentation: http://pandas.pydata.org/pandas-docs/stable/user_guide/indexing.html#returning-a-view-versus-a-copy\n",
      "  \"\"\"Entry point for launching an IPython kernel.\n"
     ]
    }
   ],
   "source": [
    "unknown_vals['Value_split'] = unknown_vals['Value'].astype(str).str.split(',')"
   ]
  },
  {
   "cell_type": "code",
   "execution_count": 19,
   "metadata": {},
   "outputs": [
    {
     "data": {
      "text/plain": [
       "['-1']"
      ]
     },
     "execution_count": 19,
     "metadata": {},
     "output_type": "execute_result"
    }
   ],
   "source": [
    "# check if we can access the values to use in a for loop\n",
    "unknown_vals.loc[unknown_vals['Attribute'] == 'AGER_TYP', 'Value_split'].iloc[0]"
   ]
  },
  {
   "cell_type": "code",
   "execution_count": 20,
   "metadata": {},
   "outputs": [
    {
     "data": {
      "text/plain": [
       "0        -1\n",
       "1        -1\n",
       "2        -1\n",
       "3         2\n",
       "4        -1\n",
       "         ..\n",
       "891216   -1\n",
       "891217   -1\n",
       "891218   -1\n",
       "891219   -1\n",
       "891220   -1\n",
       "Name: AGER_TYP, Length: 891221, dtype: int64"
      ]
     },
     "execution_count": 20,
     "metadata": {},
     "output_type": "execute_result"
    }
   ],
   "source": [
    "azdias['AGER_TYP']"
   ]
  },
  {
   "cell_type": "code",
   "execution_count": 21,
   "metadata": {},
   "outputs": [
    {
     "data": {
      "text/plain": [
       "0     True\n",
       "1     True\n",
       "2     True\n",
       "3    False\n",
       "4     True\n",
       "Name: AGER_TYP, dtype: bool"
      ]
     },
     "execution_count": 21,
     "metadata": {},
     "output_type": "execute_result"
    }
   ],
   "source": [
    "# check mapping to find unkonwn/missing values\n",
    "azdias.loc[:, 'AGER_TYP'].isin(['-1']).head()"
   ]
  },
  {
   "cell_type": "code",
   "execution_count": 22,
   "metadata": {},
   "outputs": [],
   "source": [
    "# find value and replace with np.NaN\n",
    "azdias.loc[0, 'AGER_TYP'] = np.NaN"
   ]
  },
  {
   "cell_type": "code",
   "execution_count": 23,
   "metadata": {},
   "outputs": [
    {
     "name": "stdout",
     "output_type": "stream",
     "text": [
      "AGER_TYP\n",
      "ALTERSKATEGORIE_GROB\n",
      "ANREDE_KZ\n",
      "BALLRAUM\n",
      "BIP_FLAG\n",
      "CAMEO_DEUG_2015\n",
      "CAMEO_DEUINTL_2015\n",
      "CJT_GESAMTTYP\n",
      "D19_KK_KUNDENTYP\n",
      "EWDICHTE\n",
      "FINANZTYP\n",
      "FINANZ_ANLEGER\n",
      "FINANZ_HAUSBAUER\n",
      "FINANZ_MINIMALIST\n",
      "FINANZ_SPARER\n",
      "FINANZ_UNAUFFAELLIGER\n",
      "FINANZ_VORSORGER\n",
      "GEBAEUDETYP\n",
      "GEOSCORE_KLS7\n",
      "HAUSHALTSSTRUKTUR\n",
      "HEALTH_TYP\n",
      "HH_EINKOMMEN_SCORE\n",
      "INNENSTADT\n",
      "KBA05_ALTER1\n",
      "KBA05_ALTER2\n",
      "KBA05_ALTER3\n",
      "KBA05_ALTER4\n",
      "KBA05_ANHANG\n",
      "KBA05_ANTG1\n",
      "KBA05_ANTG2\n",
      "KBA05_ANTG3\n",
      "KBA05_ANTG4\n",
      "nan\n",
      "KBA05_BAUMAX\n",
      "KBA05_CCM1\n",
      "KBA05_CCM2\n",
      "KBA05_CCM3\n",
      "KBA05_CCM4\n",
      "KBA05_DIESEL\n",
      "KBA05_FRAU\n",
      "KBA05_GBZ\n",
      "KBA05_HERST1\n",
      "KBA05_HERST2\n",
      "KBA05_HERST3\n",
      "KBA05_HERST4\n",
      "KBA05_HERST5\n",
      "KBA05_HERSTTEMP\n",
      "KBA05_KRSAQUOT\n",
      "KBA05_KRSHERST1\n",
      "KBA05_KRSHERST2\n",
      "KBA05_KRSHERST3\n",
      "KBA05_KRSKLEIN\n",
      "KBA05_KRSOBER\n",
      "KBA05_KRSVAN\n",
      "KBA05_KRSZUL\n",
      "KBA05_KW1\n",
      "KBA05_KW2\n",
      "KBA05_KW3\n",
      "KBA05_MAXAH\n",
      "KBA05_MAXBJ\n",
      "KBA05_MAXHERST\n",
      "KBA05_MAXSEG\n",
      "KBA05_MAXVORB\n",
      "KBA05_MOD1\n",
      "KBA05_MOD2\n",
      "KBA05_MOD3\n",
      "KBA05_MOD4\n",
      "KBA05_MOD8\n",
      "KBA05_MODTEMP\n",
      "KBA05_MOTOR\n",
      "KBA05_MOTRAD\n",
      "KBA05_SEG1\n",
      "KBA05_SEG10\n",
      "KBA05_SEG2\n",
      "KBA05_SEG3\n",
      "KBA05_SEG4\n",
      "KBA05_SEG5\n",
      "KBA05_SEG6\n",
      "KBA05_SEG7\n",
      "KBA05_SEG8\n",
      "KBA05_SEG9\n",
      "KBA05_VORB0\n",
      "KBA05_VORB1\n",
      "KBA05_VORB2\n",
      "KBA05_ZUL1\n",
      "KBA05_ZUL2\n",
      "KBA05_ZUL3\n",
      "KBA05_ZUL4\n",
      "KBA13_ALTERHALTER_30\n",
      "KBA13_ALTERHALTER_45\n",
      "KBA13_ALTERHALTER_60\n",
      "KBA13_ALTERHALTER_61\n",
      "KBA13_AUDI\n",
      "KBA13_AUTOQUOTE\n",
      "KBA13_BJ_1999\n",
      "KBA13_BJ_2000\n",
      "KBA13_BJ_2004\n",
      "KBA13_BJ_2006\n",
      "KBA13_BJ_2008\n",
      "KBA13_BJ_2009\n",
      "KBA13_BMW\n",
      "KBA13_CCM_1000\n",
      "KBA13_CCM_1200\n",
      "KBA13_CCM_1400\n",
      "KBA13_CCM_0_1400\n",
      "KBA13_CCM_1500\n",
      "KBA13_CCM_1400_2500\n",
      "KBA13_CCM_1600\n",
      "KBA13_CCM_1800\n",
      "KBA13_CCM_2000\n",
      "KBA13_CCM_2500\n",
      "KBA13_CCM_2501\n",
      "KBA13_CCM_3000\n",
      "KBA13_CCM_3001\n",
      "KBA13_FAB_ASIEN\n",
      "KBA13_FAB_SONSTIGE\n",
      "KBA13_FIAT\n",
      "KBA13_FORD\n",
      "KBA13_HALTER_20\n",
      "KBA13_HALTER_25\n",
      "KBA13_HALTER_30\n",
      "KBA13_HALTER_35\n",
      "KBA13_HALTER_40\n",
      "KBA13_HALTER_45\n",
      "KBA13_HALTER_50\n",
      "KBA13_HALTER_55\n",
      "KBA13_HALTER_60\n",
      "KBA13_HALTER_65\n",
      "KBA13_HALTER_66\n",
      "KBA13_HERST_ASIEN\n",
      "KBA13_HERST_AUDI_VW\n",
      "KBA13_HERST_BMW_BENZ\n",
      "KBA13_HERST_EUROPA\n",
      "KBA13_HERST_FORD_OPEL\n",
      "KBA13_HERST_SONST\n",
      "KBA13_KMH_110\n",
      "KBA13_KMH_140\n",
      "KBA13_KMH_180\n",
      "KBA13_KMH_0_140\n",
      "KBA13_KMH_140_210\n",
      "KBA13_KMH_211\n",
      "KBA13_KMH_250\n",
      "KBA13_KMH_251\n",
      "KBA13_KRSAQUOT\n",
      "KBA13_KRSHERST_AUDI_VW\n",
      "KBA13_KRSHERST_BMW_BENZ\n",
      "KBA13_KRSHERST_FORD_OPEL\n",
      "KBA13_KRSSEG_KLEIN\n",
      "KBA13_KRSSEG_OBER\n",
      "KBA13_KRSSEG_VAN\n",
      "KBA13_KRSZUL_NEU\n",
      "KBA13_KW_30\n",
      "KBA13_KW_40\n",
      "KBA13_KW_50\n",
      "KBA13_KW_60\n",
      "KBA13_KW_0_60\n",
      "KBA13_KW_70\n",
      "KBA13_KW_61_120\n",
      "KBA13_KW_80\n",
      "KBA13_KW_90\n",
      "KBA13_KW_110\n",
      "KBA13_KW_120\n",
      "KBA13_KW_121\n",
      "KBA13_MAZDA\n",
      "KBA13_MERCEDES\n",
      "KBA13_MOTOR\n",
      "KBA13_NISSAN\n",
      "KBA13_OPEL\n",
      "KBA13_PEUGEOT\n",
      "KBA13_RENAULT\n",
      "KBA13_SEG_GELAENDEWAGEN\n",
      "KBA13_SEG_GROSSRAUMVANS\n",
      "KBA13_SEG_KLEINST\n",
      "KBA13_SEG_KLEINWAGEN\n",
      "KBA13_SEG_KOMPAKTKLASSE\n",
      "KBA13_SEG_MINIVANS\n",
      "KBA13_SEG_MINIWAGEN\n",
      "KBA13_SEG_MITTELKLASSE\n",
      "KBA13_SEG_OBEREMITTELKLASSE\n",
      "KBA13_SEG_OBERKLASSE\n",
      "KBA13_SEG_SONSTIGE\n",
      "KBA13_SEG_SPORTWAGEN\n",
      "KBA13_SEG_UTILITIES\n",
      "KBA13_SEG_VAN\n",
      "KBA13_SEG_WOHNMOBILE\n",
      "KBA13_SITZE_4\n",
      "KBA13_SITZE_5\n",
      "KBA13_SITZE_6\n",
      "KBA13_TOYOTA\n",
      "KBA13_VORB_0\n",
      "KBA13_VORB_1\n",
      "KBA13_VORB_1_2\n",
      "KBA13_VORB_2\n",
      "KBA13_VORB_3\n",
      "KBA13_VW\n",
      "KKK\n",
      "NATIONALITAET_KZ\n",
      "ORTSGR_KLS9\n",
      "OST_WEST_KZ\n",
      "PLZ8_ANTG1\n",
      "PLZ8_ANTG2\n",
      "PLZ8_ANTG3\n",
      "PLZ8_ANTG4\n",
      "PLZ8_GBZ\n",
      "PLZ8_HHZ\n",
      "PRAEGENDE_JUGENDJAHRE\n",
      "REGIOTYP\n",
      "nan\n",
      "RETOURTYP_BK_S\n",
      "SEMIO_DOM\n",
      "SEMIO_ERL\n",
      "SEMIO_FAM\n",
      "SEMIO_KAEM\n",
      "SEMIO_KRIT\n",
      "SEMIO_KULT\n",
      "SEMIO_LUST\n",
      "SEMIO_MAT\n",
      "SEMIO_PFLICHT\n",
      "SEMIO_RAT\n",
      "SEMIO_REL\n",
      "SEMIO_SOZ\n",
      "SEMIO_TRADV\n",
      "SEMIO_VERT\n",
      "SHOPPER_TYP\n",
      "SOHO_FLAG\n",
      "TITEL_KZ\n",
      "VERS_TYP\n",
      "WOHNDAUER_2008\n",
      "WOHNLAGE\n",
      "WACHSTUMSGEBIET_NB\n",
      "W_KEIT_KIND_HH\n",
      "ZABEOTYP\n"
     ]
    }
   ],
   "source": [
    "# loop through the attributes from the unknown DataFrame\n",
    "for row in unknown_vals['Attribute']:\n",
    "    print(row)\n",
    "    if row in azdias.columns:\n",
    "        find_na = unknown_vals.loc[unknown_vals['Attribute'] == row, 'Value_split'].iloc[0]\n",
    "        find_idx = azdias.loc[:, row].isin(find_na)\n",
    "        azdias.loc[find_idx, row] = np.NaN\n",
    "    else:\n",
    "        continue"
   ]
  },
  {
   "cell_type": "code",
   "execution_count": 24,
   "metadata": {},
   "outputs": [
    {
     "data": {
      "text/html": [
       "<div>\n",
       "<style scoped>\n",
       "    .dataframe tbody tr th:only-of-type {\n",
       "        vertical-align: middle;\n",
       "    }\n",
       "\n",
       "    .dataframe tbody tr th {\n",
       "        vertical-align: top;\n",
       "    }\n",
       "\n",
       "    .dataframe thead th {\n",
       "        text-align: right;\n",
       "    }\n",
       "</style>\n",
       "<table border=\"1\" class=\"dataframe\">\n",
       "  <thead>\n",
       "    <tr style=\"text-align: right;\">\n",
       "      <th></th>\n",
       "      <th>AGER_TYP</th>\n",
       "      <th>ALTER_HH</th>\n",
       "      <th>ANZ_HAUSHALTE_AKTIV</th>\n",
       "      <th>ANZ_HH_TITEL</th>\n",
       "      <th>ANZ_PERSONEN</th>\n",
       "      <th>ANZ_TITEL</th>\n",
       "      <th>BALLRAUM</th>\n",
       "      <th>CAMEO_DEU_2015</th>\n",
       "      <th>CAMEO_DEUG_2015</th>\n",
       "      <th>CJT_GESAMTTYP</th>\n",
       "      <th>...</th>\n",
       "      <th>SEMIO_VERT</th>\n",
       "      <th>SHOPPER_TYP</th>\n",
       "      <th>TITEL_KZ</th>\n",
       "      <th>VERS_TYP</th>\n",
       "      <th>W_KEIT_KIND_HH</th>\n",
       "      <th>WOHNDAUER_2008</th>\n",
       "      <th>WOHNLAGE</th>\n",
       "      <th>ZABEOTYP</th>\n",
       "      <th>ANREDE_KZ</th>\n",
       "      <th>ALTERSKATEGORIE_GROB</th>\n",
       "    </tr>\n",
       "  </thead>\n",
       "  <tbody>\n",
       "    <tr>\n",
       "      <td>0</td>\n",
       "      <td>NaN</td>\n",
       "      <td>NaN</td>\n",
       "      <td>NaN</td>\n",
       "      <td>NaN</td>\n",
       "      <td>NaN</td>\n",
       "      <td>NaN</td>\n",
       "      <td>NaN</td>\n",
       "      <td>NaN</td>\n",
       "      <td>NaN</td>\n",
       "      <td>2.0</td>\n",
       "      <td>...</td>\n",
       "      <td>1.0</td>\n",
       "      <td>NaN</td>\n",
       "      <td>NaN</td>\n",
       "      <td>NaN</td>\n",
       "      <td>NaN</td>\n",
       "      <td>NaN</td>\n",
       "      <td>NaN</td>\n",
       "      <td>3.0</td>\n",
       "      <td>1.0</td>\n",
       "      <td>2.0</td>\n",
       "    </tr>\n",
       "    <tr>\n",
       "      <td>1</td>\n",
       "      <td>NaN</td>\n",
       "      <td>0.0</td>\n",
       "      <td>11.0</td>\n",
       "      <td>0.0</td>\n",
       "      <td>2.0</td>\n",
       "      <td>0.0</td>\n",
       "      <td>6.0</td>\n",
       "      <td>8A</td>\n",
       "      <td>8</td>\n",
       "      <td>5.0</td>\n",
       "      <td>...</td>\n",
       "      <td>1.0</td>\n",
       "      <td>3.0</td>\n",
       "      <td>NaN</td>\n",
       "      <td>2.0</td>\n",
       "      <td>3.0</td>\n",
       "      <td>9.0</td>\n",
       "      <td>4.0</td>\n",
       "      <td>5.0</td>\n",
       "      <td>2.0</td>\n",
       "      <td>1.0</td>\n",
       "    </tr>\n",
       "    <tr>\n",
       "      <td>2</td>\n",
       "      <td>NaN</td>\n",
       "      <td>17.0</td>\n",
       "      <td>10.0</td>\n",
       "      <td>0.0</td>\n",
       "      <td>1.0</td>\n",
       "      <td>0.0</td>\n",
       "      <td>2.0</td>\n",
       "      <td>4C</td>\n",
       "      <td>4</td>\n",
       "      <td>3.0</td>\n",
       "      <td>...</td>\n",
       "      <td>4.0</td>\n",
       "      <td>2.0</td>\n",
       "      <td>NaN</td>\n",
       "      <td>1.0</td>\n",
       "      <td>3.0</td>\n",
       "      <td>9.0</td>\n",
       "      <td>2.0</td>\n",
       "      <td>5.0</td>\n",
       "      <td>2.0</td>\n",
       "      <td>3.0</td>\n",
       "    </tr>\n",
       "    <tr>\n",
       "      <td>3</td>\n",
       "      <td>2.0</td>\n",
       "      <td>13.0</td>\n",
       "      <td>1.0</td>\n",
       "      <td>0.0</td>\n",
       "      <td>0.0</td>\n",
       "      <td>0.0</td>\n",
       "      <td>4.0</td>\n",
       "      <td>2A</td>\n",
       "      <td>2</td>\n",
       "      <td>2.0</td>\n",
       "      <td>...</td>\n",
       "      <td>4.0</td>\n",
       "      <td>1.0</td>\n",
       "      <td>NaN</td>\n",
       "      <td>1.0</td>\n",
       "      <td>NaN</td>\n",
       "      <td>9.0</td>\n",
       "      <td>7.0</td>\n",
       "      <td>3.0</td>\n",
       "      <td>2.0</td>\n",
       "      <td>4.0</td>\n",
       "    </tr>\n",
       "    <tr>\n",
       "      <td>4</td>\n",
       "      <td>NaN</td>\n",
       "      <td>20.0</td>\n",
       "      <td>3.0</td>\n",
       "      <td>0.0</td>\n",
       "      <td>4.0</td>\n",
       "      <td>0.0</td>\n",
       "      <td>2.0</td>\n",
       "      <td>6B</td>\n",
       "      <td>6</td>\n",
       "      <td>5.0</td>\n",
       "      <td>...</td>\n",
       "      <td>7.0</td>\n",
       "      <td>2.0</td>\n",
       "      <td>NaN</td>\n",
       "      <td>2.0</td>\n",
       "      <td>2.0</td>\n",
       "      <td>9.0</td>\n",
       "      <td>3.0</td>\n",
       "      <td>4.0</td>\n",
       "      <td>1.0</td>\n",
       "      <td>3.0</td>\n",
       "    </tr>\n",
       "  </tbody>\n",
       "</table>\n",
       "<p>5 rows × 272 columns</p>\n",
       "</div>"
      ],
      "text/plain": [
       "   AGER_TYP  ALTER_HH  ANZ_HAUSHALTE_AKTIV  ANZ_HH_TITEL  ANZ_PERSONEN  \\\n",
       "0       NaN       NaN                  NaN           NaN           NaN   \n",
       "1       NaN       0.0                 11.0           0.0           2.0   \n",
       "2       NaN      17.0                 10.0           0.0           1.0   \n",
       "3       2.0      13.0                  1.0           0.0           0.0   \n",
       "4       NaN      20.0                  3.0           0.0           4.0   \n",
       "\n",
       "   ANZ_TITEL  BALLRAUM CAMEO_DEU_2015 CAMEO_DEUG_2015  CJT_GESAMTTYP  ...  \\\n",
       "0        NaN       NaN            NaN             NaN            2.0  ...   \n",
       "1        0.0       6.0             8A               8            5.0  ...   \n",
       "2        0.0       2.0             4C               4            3.0  ...   \n",
       "3        0.0       4.0             2A               2            2.0  ...   \n",
       "4        0.0       2.0             6B               6            5.0  ...   \n",
       "\n",
       "   SEMIO_VERT  SHOPPER_TYP  TITEL_KZ  VERS_TYP  W_KEIT_KIND_HH  \\\n",
       "0         1.0          NaN       NaN       NaN             NaN   \n",
       "1         1.0          3.0       NaN       2.0             3.0   \n",
       "2         4.0          2.0       NaN       1.0             3.0   \n",
       "3         4.0          1.0       NaN       1.0             NaN   \n",
       "4         7.0          2.0       NaN       2.0             2.0   \n",
       "\n",
       "   WOHNDAUER_2008  WOHNLAGE  ZABEOTYP  ANREDE_KZ  ALTERSKATEGORIE_GROB  \n",
       "0             NaN       NaN       3.0        1.0                   2.0  \n",
       "1             9.0       4.0       5.0        2.0                   1.0  \n",
       "2             9.0       2.0       5.0        2.0                   3.0  \n",
       "3             9.0       7.0       3.0        2.0                   4.0  \n",
       "4             9.0       3.0       4.0        1.0                   3.0  \n",
       "\n",
       "[5 rows x 272 columns]"
      ]
     },
     "execution_count": 24,
     "metadata": {},
     "output_type": "execute_result"
    }
   ],
   "source": [
    "# Now the -1 in the AGER_TYP column is now NaN\n",
    "azdias.head()"
   ]
  },
  {
   "cell_type": "markdown",
   "metadata": {},
   "source": [
    "##### check null values"
   ]
  },
  {
   "cell_type": "code",
   "execution_count": 25,
   "metadata": {},
   "outputs": [],
   "source": [
    "# devide the total null values with the shape of the whole DataFrame to get the proportions\n",
    "count_na_col = azdias.shape[0] - azdias.count(axis=0)"
   ]
  },
  {
   "cell_type": "code",
   "execution_count": 26,
   "metadata": {},
   "outputs": [
    {
     "data": {
      "text/plain": [
       "Text(0.5, 0, 'Missing values')"
      ]
     },
     "execution_count": 26,
     "metadata": {},
     "output_type": "execute_result"
    },
    {
     "data": {
      "image/png": "[encoded data removed]",
      "text/plain": [
       "<Figure size 504x360 with 1 Axes>"
      ]
     },
     "metadata": {
      "needs_background": "light"
     },
     "output_type": "display_data"
    }
   ],
   "source": [
    "fig = plt.figure(figsize=(7,5))\n",
    "\n",
    "ax = plt.subplot()\n",
    "ax.hist(count_na_col, bins=25)\n",
    "ax.set_ylabel('Count of columns')\n",
    "ax.set_xlabel('Missing values')\n",
    "# plt.savefig('hist_col_na.png', dpi=200, bbox_inches='tight')"
   ]
  },
  {
   "cell_type": "markdown",
   "metadata": {},
   "source": [
    "Based on the histogram I am going to remove columns with more than 200000 missing values a column."
   ]
  },
  {
   "cell_type": "code",
   "execution_count": 27,
   "metadata": {},
   "outputs": [
    {
     "data": {
      "text/plain": [
       "Index(['AGER_TYP', 'D19_BANKEN_ONLINE_QUOTE_12', 'D19_GESAMT_ONLINE_QUOTE_12',\n",
       "       'D19_KONSUMTYP', 'D19_VERSAND_ONLINE_QUOTE_12', 'KBA05_BAUMAX',\n",
       "       'TITEL_KZ'],\n",
       "      dtype='object')"
      ]
     },
     "execution_count": 27,
     "metadata": {},
     "output_type": "execute_result"
    }
   ],
   "source": [
    "count_na_col[count_na_col > 200000].index"
   ]
  },
  {
   "cell_type": "code",
   "execution_count": 28,
   "metadata": {},
   "outputs": [],
   "source": [
    "# drop cloumns\n",
    "azdias.drop(columns=count_na_col[count_na_col > 200000].index, inplace=True)"
   ]
  },
  {
   "cell_type": "code",
   "execution_count": 29,
   "metadata": {},
   "outputs": [
    {
     "data": {
      "text/plain": [
       "(891221, 265)"
      ]
     },
     "execution_count": 29,
     "metadata": {},
     "output_type": "execute_result"
    }
   ],
   "source": [
    "azdias.shape"
   ]
  },
  {
   "cell_type": "markdown",
   "metadata": {},
   "source": [
    "##### check for missing values on the row level"
   ]
  },
  {
   "cell_type": "code",
   "execution_count": 30,
   "metadata": {},
   "outputs": [],
   "source": [
    "count_na_row = azdias.shape[1] - azdias.count(axis=1)"
   ]
  },
  {
   "cell_type": "code",
   "execution_count": 31,
   "metadata": {},
   "outputs": [
    {
     "data": {
      "text/plain": [
       "Text(0.5, 0, 'Missing values')"
      ]
     },
     "execution_count": 31,
     "metadata": {},
     "output_type": "execute_result"
    },
    {
     "data": {
      "image/png": "[encoded data removed]",
      "text/plain": [
       "<Figure size 504x360 with 1 Axes>"
      ]
     },
     "metadata": {
      "needs_background": "light"
     },
     "output_type": "display_data"
    }
   ],
   "source": [
    "fig = plt.figure(figsize=(7,5))\n",
    "\n",
    "ax = plt.subplot()\n",
    "ax.hist(count_na_row, bins=25)\n",
    "ax.set_ylabel('Count of columns')\n",
    "ax.set_xlabel('Missing values')\n",
    "# plt.savefig('hist_row_na.png', dpi=200, bbox_inches='tight');"
   ]
  },
  {
   "cell_type": "markdown",
   "metadata": {},
   "source": [
    "Based on the histogram, I am going to drop rows that have more than 50 missing values "
   ]
  },
  {
   "cell_type": "code",
   "execution_count": 32,
   "metadata": {},
   "outputs": [
    {
     "data": {
      "text/plain": [
       "Int64Index([     0,     11,     12,     13,     14,     15,     17,     20,\n",
       "                23,     24,\n",
       "            ...\n",
       "            891164, 891169, 891170, 891171, 891172, 891173, 891175, 891185,\n",
       "            891187, 891203],\n",
       "           dtype='int64', length=153933)"
      ]
     },
     "execution_count": 32,
     "metadata": {},
     "output_type": "execute_result"
    }
   ],
   "source": [
    "count_na_row[count_na_row > 50].index"
   ]
  },
  {
   "cell_type": "code",
   "execution_count": 33,
   "metadata": {},
   "outputs": [],
   "source": [
    "azdias.drop(index=count_na_row[count_na_row > 50].index, inplace=True)"
   ]
  },
  {
   "cell_type": "code",
   "execution_count": 34,
   "metadata": {},
   "outputs": [
    {
     "data": {
      "text/plain": [
       "(737288, 265)"
      ]
     },
     "execution_count": 34,
     "metadata": {},
     "output_type": "execute_result"
    }
   ],
   "source": [
    "azdias.shape"
   ]
  },
  {
   "cell_type": "markdown",
   "metadata": {},
   "source": [
    "### Preprocess Features\n",
    "- check if features are numeric, to use them for the ML algorithms"
   ]
  },
  {
   "cell_type": "code",
   "execution_count": 35,
   "metadata": {},
   "outputs": [
    {
     "name": "stdout",
     "output_type": "stream",
     "text": [
      "<class 'pandas.core.frame.DataFrame'>\n",
      "Int64Index: 737288 entries, 1 to 891220\n",
      "Data columns (total 3 columns):\n",
      "CAMEO_DEU_2015     734232 non-null object\n",
      "CAMEO_DEUG_2015    734232 non-null object\n",
      "OST_WEST_KZ        737288 non-null object\n",
      "dtypes: object(3)\n",
      "memory usage: 22.5+ MB\n"
     ]
    }
   ],
   "source": [
    "# only five features aren't numerical \n",
    "azdias.select_dtypes('O').info()"
   ]
  },
  {
   "cell_type": "code",
   "execution_count": 36,
   "metadata": {},
   "outputs": [
    {
     "data": {
      "text/html": [
       "<div>\n",
       "<style scoped>\n",
       "    .dataframe tbody tr th:only-of-type {\n",
       "        vertical-align: middle;\n",
       "    }\n",
       "\n",
       "    .dataframe tbody tr th {\n",
       "        vertical-align: top;\n",
       "    }\n",
       "\n",
       "    .dataframe thead th {\n",
       "        text-align: right;\n",
       "    }\n",
       "</style>\n",
       "<table border=\"1\" class=\"dataframe\">\n",
       "  <thead>\n",
       "    <tr style=\"text-align: right;\">\n",
       "      <th></th>\n",
       "      <th>CAMEO_DEU_2015</th>\n",
       "      <th>CAMEO_DEUG_2015</th>\n",
       "      <th>OST_WEST_KZ</th>\n",
       "    </tr>\n",
       "  </thead>\n",
       "  <tbody>\n",
       "    <tr>\n",
       "      <td>1</td>\n",
       "      <td>8A</td>\n",
       "      <td>8</td>\n",
       "      <td>W</td>\n",
       "    </tr>\n",
       "    <tr>\n",
       "      <td>2</td>\n",
       "      <td>4C</td>\n",
       "      <td>4</td>\n",
       "      <td>W</td>\n",
       "    </tr>\n",
       "    <tr>\n",
       "      <td>3</td>\n",
       "      <td>2A</td>\n",
       "      <td>2</td>\n",
       "      <td>W</td>\n",
       "    </tr>\n",
       "    <tr>\n",
       "      <td>4</td>\n",
       "      <td>6B</td>\n",
       "      <td>6</td>\n",
       "      <td>W</td>\n",
       "    </tr>\n",
       "    <tr>\n",
       "      <td>5</td>\n",
       "      <td>8C</td>\n",
       "      <td>8</td>\n",
       "      <td>W</td>\n",
       "    </tr>\n",
       "  </tbody>\n",
       "</table>\n",
       "</div>"
      ],
      "text/plain": [
       "  CAMEO_DEU_2015 CAMEO_DEUG_2015 OST_WEST_KZ\n",
       "1             8A               8           W\n",
       "2             4C               4           W\n",
       "3             2A               2           W\n",
       "4             6B               6           W\n",
       "5             8C               8           W"
      ]
     },
     "execution_count": 36,
     "metadata": {},
     "output_type": "execute_result"
    }
   ],
   "source": [
    "azdias.select_dtypes('O').head()"
   ]
  },
  {
   "cell_type": "code",
   "execution_count": 37,
   "metadata": {},
   "outputs": [
    {
     "data": {
      "text/plain": [
       "6B    54006\n",
       "8A    50776\n",
       "4C    43988\n",
       "2D    32906\n",
       "7A    32630\n",
       "3C    32565\n",
       "3D    32176\n",
       "8B    31262\n",
       "4A    30254\n",
       "8C    30147\n",
       "9D    26746\n",
       "9B    25888\n",
       "7B    22921\n",
       "9C    22919\n",
       "9A    20057\n",
       "2C    17742\n",
       "8D    16675\n",
       "6E    15598\n",
       "5D    14071\n",
       "2B    14042\n",
       "6C    13868\n",
       "2A    11921\n",
       "1D    11457\n",
       "1A    10167\n",
       "5A     9721\n",
       "5B     9691\n",
       "5C     9050\n",
       "4B     8284\n",
       "7C     8127\n",
       "4D     8051\n",
       "6A     6416\n",
       "3A     5871\n",
       "6D     5756\n",
       "3B     5709\n",
       "6F     5048\n",
       "4E     5005\n",
       "1E     4783\n",
       "7D     4431\n",
       "7E     4375\n",
       "1C     4012\n",
       "5F     3939\n",
       "9E     3841\n",
       "1B     3815\n",
       "5E     3241\n",
       "XX      284\n",
       "Name: CAMEO_DEU_2015, dtype: int64"
      ]
     },
     "execution_count": 37,
     "metadata": {},
     "output_type": "execute_result"
    }
   ],
   "source": [
    "# CAMEO_DEU has a lot of different categories so I will drop it, beause it would add a more compelxity to the model\n",
    "azdias.CAMEO_DEU_2015.value_counts()"
   ]
  },
  {
   "cell_type": "code",
   "execution_count": 38,
   "metadata": {},
   "outputs": [
    {
     "data": {
      "text/plain": [
       "8      74754\n",
       "6      58203\n",
       "9      57473\n",
       "4      55290\n",
       "8.0    54106\n",
       "2      44419\n",
       "3      44192\n",
       "6.0    42489\n",
       "9.0    41978\n",
       "7      41861\n",
       "4.0    40292\n",
       "2.0    32192\n",
       "3.0    32129\n",
       "7.0    30623\n",
       "5      28976\n",
       "5.0    20737\n",
       "1      19840\n",
       "1.0    14394\n",
       "X        284\n",
       "Name: CAMEO_DEUG_2015, dtype: int64"
      ]
     },
     "execution_count": 38,
     "metadata": {},
     "output_type": "execute_result"
    }
   ],
   "source": [
    "# The column seems to contain different dtypes: ints and floats \n",
    "azdias.CAMEO_DEUG_2015.value_counts()"
   ]
  },
  {
   "cell_type": "code",
   "execution_count": 39,
   "metadata": {},
   "outputs": [
    {
     "data": {
      "text/plain": [
       "W    582290\n",
       "O    154998\n",
       "Name: OST_WEST_KZ, dtype: int64"
      ]
     },
     "execution_count": 39,
     "metadata": {},
     "output_type": "execute_result"
    }
   ],
   "source": [
    "azdias.OST_WEST_KZ.value_counts()"
   ]
  },
  {
   "cell_type": "markdown",
   "metadata": {},
   "source": [
    "Result\n",
    "- drop CAMEO_DEU_2015, to to many categories\n",
    "- CAMEO_DEUG_2016: remove XX replace with np.NaN\n",
    "- OST_WEST_KZ: get dummies\n",
    "\n",
    "##### drop CAMEO_DEU_2015, due to to many categories"
   ]
  },
  {
   "cell_type": "code",
   "execution_count": 40,
   "metadata": {},
   "outputs": [],
   "source": [
    "azdias.drop(columns='CAMEO_DEU_2015', inplace=True)"
   ]
  },
  {
   "cell_type": "markdown",
   "metadata": {},
   "source": [
    "##### CAMEO_DEUG_2016: remove XX replace with np.NaN"
   ]
  },
  {
   "cell_type": "code",
   "execution_count": 41,
   "metadata": {},
   "outputs": [],
   "source": [
    "azdias.CAMEO_DEUG_2015.replace('X', np.NaN, inplace=True)"
   ]
  },
  {
   "cell_type": "code",
   "execution_count": 42,
   "metadata": {},
   "outputs": [],
   "source": [
    "azdias['CAMEO_DEUG_2015'] = pd.to_numeric(azdias.CAMEO_DEUG_2015)"
   ]
  },
  {
   "cell_type": "code",
   "execution_count": 43,
   "metadata": {},
   "outputs": [
    {
     "data": {
      "text/plain": [
       "8.0    128860\n",
       "6.0    100692\n",
       "9.0     99451\n",
       "4.0     95582\n",
       "2.0     76611\n",
       "3.0     76321\n",
       "7.0     72484\n",
       "5.0     49713\n",
       "1.0     34234\n",
       "Name: CAMEO_DEUG_2015, dtype: int64"
      ]
     },
     "execution_count": 43,
     "metadata": {},
     "output_type": "execute_result"
    }
   ],
   "source": [
    "azdias['CAMEO_DEUG_2015'].value_counts()"
   ]
  },
  {
   "cell_type": "markdown",
   "metadata": {},
   "source": [
    "##### OST_WEST_KZ: get dummies"
   ]
  },
  {
   "cell_type": "code",
   "execution_count": 44,
   "metadata": {},
   "outputs": [],
   "source": [
    "azdias['OST_WEST_KZ'] = pd.get_dummies(azdias.OST_WEST_KZ, drop_first=True)"
   ]
  },
  {
   "cell_type": "code",
   "execution_count": 45,
   "metadata": {},
   "outputs": [
    {
     "data": {
      "text/plain": [
       "1    582290\n",
       "0    154998\n",
       "Name: OST_WEST_KZ, dtype: int64"
      ]
     },
     "execution_count": 45,
     "metadata": {},
     "output_type": "execute_result"
    }
   ],
   "source": [
    "azdias['OST_WEST_KZ'].value_counts()"
   ]
  },
  {
   "cell_type": "markdown",
   "metadata": {},
   "source": [
    "The dataset also contains features that are numerical but repersent categorical/ordinal or nominal data. I looked at the provided Excel file and checked for such features."
   ]
  },
  {
   "cell_type": "code",
   "execution_count": 46,
   "metadata": {},
   "outputs": [
    {
     "data": {
      "text/plain": [
       "1         21.0\n",
       "2          3.0\n",
       "3          0.0\n",
       "4         32.0\n",
       "5          8.0\n",
       "          ... \n",
       "891216     2.0\n",
       "891217     2.0\n",
       "891218     0.0\n",
       "891219    29.0\n",
       "891220     6.0\n",
       "Name: LP_LEBENSPHASE_FEIN, Length: 737288, dtype: float64"
      ]
     },
     "execution_count": 46,
     "metadata": {},
     "output_type": "execute_result"
    }
   ],
   "source": [
    "# column used to check if Attribute is in the DataFrame\n",
    "azdias.LP_LEBENSPHASE_FEIN"
   ]
  },
  {
   "cell_type": "code",
   "execution_count": 47,
   "metadata": {},
   "outputs": [
    {
     "data": {
      "text/plain": [
       "3.0    235402\n",
       "7.0    161356\n",
       "4.0    127406\n",
       "2.0     94544\n",
       "5.0     67924\n",
       "1.0     41440\n",
       "8.0      9199\n",
       "0.0        17\n",
       "Name: WOHNLAGE, dtype: int64"
      ]
     },
     "execution_count": 47,
     "metadata": {},
     "output_type": "execute_result"
    }
   ],
   "source": [
    "# WOHNlage has a 0 for no score calculated to make it ordinal and use it later I will replace 0 with np.NaN\n",
    "azdias.WOHNLAGE.value_counts()"
   ]
  },
  {
   "cell_type": "code",
   "execution_count": 48,
   "metadata": {},
   "outputs": [],
   "source": [
    "azdias.WOHNLAGE.replace(0.0, np.NaN, inplace=True)"
   ]
  },
  {
   "cell_type": "code",
   "execution_count": 49,
   "metadata": {},
   "outputs": [],
   "source": [
    "dummy_features = ['ANREDE_KZ', 'CJT_GESAMTTYP', 'GEBAEUDETYP', 'GEBAEUDETYP_RASTER', 'HEALTH_TYP', 'KBA05_HERSTTEMP', 'KBA05_MAXHERST','KBA05_MODTEMP', \n",
    "                  'NATIONALITAET_KZ', 'SHOPPER_TYP', 'VERS_TYP']\n",
    "\n",
    "drop_cols = ['GFK_URLAUBERTYP', 'LP_FAMILIE_FEIN', 'LP_LEBENSPHASE_GROB', 'LP_FAMILIE_GROB', 'LP_LEBENSPHASE_FEIN']"
   ]
  },
  {
   "cell_type": "code",
   "execution_count": 50,
   "metadata": {},
   "outputs": [],
   "source": [
    "# drop columns\n",
    "azdias.drop(columns=drop_cols, inplace=True)"
   ]
  },
  {
   "cell_type": "code",
   "execution_count": 51,
   "metadata": {},
   "outputs": [],
   "source": [
    "# get unique columns to use for clean function\n",
    "azdias_columns = azdias.columns"
   ]
  },
  {
   "cell_type": "code",
   "execution_count": 52,
   "metadata": {},
   "outputs": [],
   "source": [
    "# make dummies\n",
    "for col in dummy_features:\n",
    "    dummies = pd.get_dummies(azdias[col], prefix=col)\n",
    "    azdias = pd.concat([azdias, dummies], axis = 1)"
   ]
  },
  {
   "cell_type": "code",
   "execution_count": 53,
   "metadata": {},
   "outputs": [
    {
     "data": {
      "text/html": [
       "<div>\n",
       "<style scoped>\n",
       "    .dataframe tbody tr th:only-of-type {\n",
       "        vertical-align: middle;\n",
       "    }\n",
       "\n",
       "    .dataframe tbody tr th {\n",
       "        vertical-align: top;\n",
       "    }\n",
       "\n",
       "    .dataframe thead th {\n",
       "        text-align: right;\n",
       "    }\n",
       "</style>\n",
       "<table border=\"1\" class=\"dataframe\">\n",
       "  <thead>\n",
       "    <tr style=\"text-align: right;\">\n",
       "      <th></th>\n",
       "      <th>ALTER_HH</th>\n",
       "      <th>ANZ_HAUSHALTE_AKTIV</th>\n",
       "      <th>ANZ_HH_TITEL</th>\n",
       "      <th>ANZ_PERSONEN</th>\n",
       "      <th>ANZ_TITEL</th>\n",
       "      <th>BALLRAUM</th>\n",
       "      <th>CAMEO_DEUG_2015</th>\n",
       "      <th>CJT_GESAMTTYP</th>\n",
       "      <th>D19_BANKEN_ANZ_12</th>\n",
       "      <th>D19_BANKEN_ANZ_24</th>\n",
       "      <th>...</th>\n",
       "      <th>KBA05_MODTEMP_6.0</th>\n",
       "      <th>NATIONALITAET_KZ_1.0</th>\n",
       "      <th>NATIONALITAET_KZ_2.0</th>\n",
       "      <th>NATIONALITAET_KZ_3.0</th>\n",
       "      <th>SHOPPER_TYP_0.0</th>\n",
       "      <th>SHOPPER_TYP_1.0</th>\n",
       "      <th>SHOPPER_TYP_2.0</th>\n",
       "      <th>SHOPPER_TYP_3.0</th>\n",
       "      <th>VERS_TYP_1.0</th>\n",
       "      <th>VERS_TYP_2.0</th>\n",
       "    </tr>\n",
       "  </thead>\n",
       "  <tbody>\n",
       "    <tr>\n",
       "      <td>1</td>\n",
       "      <td>0.0</td>\n",
       "      <td>11.0</td>\n",
       "      <td>0.0</td>\n",
       "      <td>2.0</td>\n",
       "      <td>0.0</td>\n",
       "      <td>6.0</td>\n",
       "      <td>8.0</td>\n",
       "      <td>5.0</td>\n",
       "      <td>0</td>\n",
       "      <td>0</td>\n",
       "      <td>...</td>\n",
       "      <td>0</td>\n",
       "      <td>1</td>\n",
       "      <td>0</td>\n",
       "      <td>0</td>\n",
       "      <td>0</td>\n",
       "      <td>0</td>\n",
       "      <td>0</td>\n",
       "      <td>1</td>\n",
       "      <td>0</td>\n",
       "      <td>1</td>\n",
       "    </tr>\n",
       "    <tr>\n",
       "      <td>2</td>\n",
       "      <td>17.0</td>\n",
       "      <td>10.0</td>\n",
       "      <td>0.0</td>\n",
       "      <td>1.0</td>\n",
       "      <td>0.0</td>\n",
       "      <td>2.0</td>\n",
       "      <td>4.0</td>\n",
       "      <td>3.0</td>\n",
       "      <td>0</td>\n",
       "      <td>0</td>\n",
       "      <td>...</td>\n",
       "      <td>0</td>\n",
       "      <td>1</td>\n",
       "      <td>0</td>\n",
       "      <td>0</td>\n",
       "      <td>0</td>\n",
       "      <td>0</td>\n",
       "      <td>1</td>\n",
       "      <td>0</td>\n",
       "      <td>1</td>\n",
       "      <td>0</td>\n",
       "    </tr>\n",
       "    <tr>\n",
       "      <td>3</td>\n",
       "      <td>13.0</td>\n",
       "      <td>1.0</td>\n",
       "      <td>0.0</td>\n",
       "      <td>0.0</td>\n",
       "      <td>0.0</td>\n",
       "      <td>4.0</td>\n",
       "      <td>2.0</td>\n",
       "      <td>2.0</td>\n",
       "      <td>0</td>\n",
       "      <td>0</td>\n",
       "      <td>...</td>\n",
       "      <td>0</td>\n",
       "      <td>1</td>\n",
       "      <td>0</td>\n",
       "      <td>0</td>\n",
       "      <td>0</td>\n",
       "      <td>1</td>\n",
       "      <td>0</td>\n",
       "      <td>0</td>\n",
       "      <td>1</td>\n",
       "      <td>0</td>\n",
       "    </tr>\n",
       "    <tr>\n",
       "      <td>4</td>\n",
       "      <td>20.0</td>\n",
       "      <td>3.0</td>\n",
       "      <td>0.0</td>\n",
       "      <td>4.0</td>\n",
       "      <td>0.0</td>\n",
       "      <td>2.0</td>\n",
       "      <td>6.0</td>\n",
       "      <td>5.0</td>\n",
       "      <td>3</td>\n",
       "      <td>5</td>\n",
       "      <td>...</td>\n",
       "      <td>0</td>\n",
       "      <td>1</td>\n",
       "      <td>0</td>\n",
       "      <td>0</td>\n",
       "      <td>0</td>\n",
       "      <td>0</td>\n",
       "      <td>1</td>\n",
       "      <td>0</td>\n",
       "      <td>0</td>\n",
       "      <td>1</td>\n",
       "    </tr>\n",
       "    <tr>\n",
       "      <td>5</td>\n",
       "      <td>10.0</td>\n",
       "      <td>5.0</td>\n",
       "      <td>0.0</td>\n",
       "      <td>1.0</td>\n",
       "      <td>0.0</td>\n",
       "      <td>6.0</td>\n",
       "      <td>8.0</td>\n",
       "      <td>2.0</td>\n",
       "      <td>0</td>\n",
       "      <td>0</td>\n",
       "      <td>...</td>\n",
       "      <td>0</td>\n",
       "      <td>1</td>\n",
       "      <td>0</td>\n",
       "      <td>0</td>\n",
       "      <td>1</td>\n",
       "      <td>0</td>\n",
       "      <td>0</td>\n",
       "      <td>0</td>\n",
       "      <td>0</td>\n",
       "      <td>1</td>\n",
       "    </tr>\n",
       "  </tbody>\n",
       "</table>\n",
       "<p>5 rows × 307 columns</p>\n",
       "</div>"
      ],
      "text/plain": [
       "   ALTER_HH  ANZ_HAUSHALTE_AKTIV  ANZ_HH_TITEL  ANZ_PERSONEN  ANZ_TITEL  \\\n",
       "1       0.0                 11.0           0.0           2.0        0.0   \n",
       "2      17.0                 10.0           0.0           1.0        0.0   \n",
       "3      13.0                  1.0           0.0           0.0        0.0   \n",
       "4      20.0                  3.0           0.0           4.0        0.0   \n",
       "5      10.0                  5.0           0.0           1.0        0.0   \n",
       "\n",
       "   BALLRAUM  CAMEO_DEUG_2015  CJT_GESAMTTYP  D19_BANKEN_ANZ_12  \\\n",
       "1       6.0              8.0            5.0                  0   \n",
       "2       2.0              4.0            3.0                  0   \n",
       "3       4.0              2.0            2.0                  0   \n",
       "4       2.0              6.0            5.0                  3   \n",
       "5       6.0              8.0            2.0                  0   \n",
       "\n",
       "   D19_BANKEN_ANZ_24  ...  KBA05_MODTEMP_6.0  NATIONALITAET_KZ_1.0  \\\n",
       "1                  0  ...                  0                     1   \n",
       "2                  0  ...                  0                     1   \n",
       "3                  0  ...                  0                     1   \n",
       "4                  5  ...                  0                     1   \n",
       "5                  0  ...                  0                     1   \n",
       "\n",
       "   NATIONALITAET_KZ_2.0  NATIONALITAET_KZ_3.0  SHOPPER_TYP_0.0  \\\n",
       "1                     0                     0                0   \n",
       "2                     0                     0                0   \n",
       "3                     0                     0                0   \n",
       "4                     0                     0                0   \n",
       "5                     0                     0                1   \n",
       "\n",
       "   SHOPPER_TYP_1.0  SHOPPER_TYP_2.0  SHOPPER_TYP_3.0  VERS_TYP_1.0  \\\n",
       "1                0                0                1             0   \n",
       "2                0                1                0             1   \n",
       "3                1                0                0             1   \n",
       "4                0                1                0             0   \n",
       "5                0                0                0             0   \n",
       "\n",
       "   VERS_TYP_2.0  \n",
       "1             1  \n",
       "2             0  \n",
       "3             0  \n",
       "4             1  \n",
       "5             1  \n",
       "\n",
       "[5 rows x 307 columns]"
      ]
     },
     "execution_count": 53,
     "metadata": {},
     "output_type": "execute_result"
    }
   ],
   "source": [
    "azdias.head()"
   ]
  },
  {
   "cell_type": "code",
   "execution_count": 54,
   "metadata": {},
   "outputs": [],
   "source": [
    "# drope base columns\n",
    "azdias.drop(columns=dummy_features, inplace=True)"
   ]
  },
  {
   "cell_type": "code",
   "execution_count": 55,
   "metadata": {},
   "outputs": [],
   "source": [
    "# azdias.to_csv('azdias_clean.csv', index=False)"
   ]
  },
  {
   "cell_type": "code",
   "execution_count": 56,
   "metadata": {},
   "outputs": [
    {
     "data": {
      "text/plain": [
       "(737288, 296)"
      ]
     },
     "execution_count": 56,
     "metadata": {},
     "output_type": "execute_result"
    }
   ],
   "source": [
    "azdias.shape"
   ]
  },
  {
   "cell_type": "markdown",
   "metadata": {},
   "source": [
    "### Cleaning Function for Customers"
   ]
  },
  {
   "cell_type": "code",
   "execution_count": 59,
   "metadata": {},
   "outputs": [],
   "source": [
    "# load customers dataset\n",
    "customers = pd.read_csv('data/Udacity_CUSTOMERS_052018.csv', sep=';')"
   ]
  },
  {
   "cell_type": "code",
   "execution_count": 57,
   "metadata": {},
   "outputs": [],
   "source": [
    "def clean(df_new, df_clean_columns, unknown_vals, dummy_features):\n",
    "    '''\n",
    "    Input\n",
    "        df_new: customers DataFrame with the origianl data\n",
    "        df_columns: columns from clean DataFrame \n",
    "        unknown_vals: DataFrame with the unknown values for the attributes\n",
    "        dummy_features: list with the vraibales for dummy transformation\n",
    "    \n",
    "    Return\n",
    "        clean customers DataFrame\n",
    "    '''\n",
    "    # assign local variables\n",
    "    customers = df_new\n",
    "    azdias = azdias_columns\n",
    "    \n",
    "    # make sure the columns are equal in both datasets\n",
    "    \n",
    "    # creat list with insected columns\n",
    "    intersected_cols = list(set(customers) & set(azdias))\n",
    "    customers = customers[customers.columns.intersection(intersected_cols)]\n",
    "\n",
    "    print('customers DataFrame has been filtered')\n",
    "    \n",
    "    # replace unknown values with np.NaN\n",
    "    for row in unknown_vals['Attribute']:\n",
    "        if row in customers.columns:\n",
    "            find_na = unknown_vals.loc[unknown_vals['Attribute'] == row, 'Value_split'].iloc[0]\n",
    "            find_idx = customers.loc[:, row].isin(find_na)\n",
    "            customers.loc[find_idx, row] = np.NaN\n",
    "        else:\n",
    "            continue\n",
    "    \n",
    "    print('unkown values have been replaced with np.NaN')\n",
    "    \n",
    "    # process features\n",
    "    customers['CAMEO_DEUG_2015'].replace('X', np.NaN, inplace=True)\n",
    "    customers['CAMEO_DEUG_2015'] = pd.to_numeric(customers['CAMEO_DEUG_2015'])\n",
    "    \n",
    "    customers['OST_WEST_KZ'] = pd.get_dummies(customers['OST_WEST_KZ'], drop_first=True)\n",
    "    \n",
    "    customers['WOHNLAGE'].replace(0.0, np.NaN, inplace=True)\n",
    "    \n",
    "    print('features have been processed')\n",
    "    \n",
    "    # create dummies\n",
    "    for col in dummy_features:\n",
    "        dummies = pd.get_dummies(customers[col], prefix=col)\n",
    "        customers = pd.concat([customers, dummies], axis = 1)\n",
    "        \n",
    "    customers.drop(columns=dummy_features, inplace=True)\n",
    "    \n",
    "    print('finish')\n",
    "    \n",
    "    return customers"
   ]
  },
  {
   "cell_type": "code",
   "execution_count": 61,
   "metadata": {},
   "outputs": [
    {
     "name": "stdout",
     "output_type": "stream",
     "text": [
      "customers DataFrame has been filtered\n"
     ]
    },
    {
     "name": "stderr",
     "output_type": "stream",
     "text": [
      "/opt/anaconda3/lib/python3.7/site-packages/pandas/core/indexing.py:494: SettingWithCopyWarning: \n",
      "A value is trying to be set on a copy of a slice from a DataFrame.\n",
      "Try using .loc[row_indexer,col_indexer] = value instead\n",
      "\n",
      "See the caveats in the documentation: http://pandas.pydata.org/pandas-docs/stable/user_guide/indexing.html#returning-a-view-versus-a-copy\n",
      "  self.obj[item] = s\n"
     ]
    },
    {
     "name": "stdout",
     "output_type": "stream",
     "text": [
      "unkown values have been replaced with np.NaN\n",
      "features have been processed\n"
     ]
    },
    {
     "name": "stderr",
     "output_type": "stream",
     "text": [
      "/opt/anaconda3/lib/python3.7/site-packages/pandas/core/generic.py:6786: SettingWithCopyWarning: \n",
      "A value is trying to be set on a copy of a slice from a DataFrame\n",
      "\n",
      "See the caveats in the documentation: http://pandas.pydata.org/pandas-docs/stable/user_guide/indexing.html#returning-a-view-versus-a-copy\n",
      "  self._update_inplace(new_data)\n",
      "/opt/anaconda3/lib/python3.7/site-packages/ipykernel_launcher.py:37: SettingWithCopyWarning: \n",
      "A value is trying to be set on a copy of a slice from a DataFrame.\n",
      "Try using .loc[row_indexer,col_indexer] = value instead\n",
      "\n",
      "See the caveats in the documentation: http://pandas.pydata.org/pandas-docs/stable/user_guide/indexing.html#returning-a-view-versus-a-copy\n",
      "/opt/anaconda3/lib/python3.7/site-packages/ipykernel_launcher.py:39: SettingWithCopyWarning: \n",
      "A value is trying to be set on a copy of a slice from a DataFrame.\n",
      "Try using .loc[row_indexer,col_indexer] = value instead\n",
      "\n",
      "See the caveats in the documentation: http://pandas.pydata.org/pandas-docs/stable/user_guide/indexing.html#returning-a-view-versus-a-copy\n"
     ]
    },
    {
     "name": "stdout",
     "output_type": "stream",
     "text": [
      "finish\n"
     ]
    }
   ],
   "source": [
    "customers = clean(customers, azdias_columns, unknown_vals, dummy_features)"
   ]
  },
  {
   "cell_type": "code",
   "execution_count": 62,
   "metadata": {},
   "outputs": [
    {
     "data": {
      "text/html": [
       "<div>\n",
       "<style scoped>\n",
       "    .dataframe tbody tr th:only-of-type {\n",
       "        vertical-align: middle;\n",
       "    }\n",
       "\n",
       "    .dataframe tbody tr th {\n",
       "        vertical-align: top;\n",
       "    }\n",
       "\n",
       "    .dataframe thead th {\n",
       "        text-align: right;\n",
       "    }\n",
       "</style>\n",
       "<table border=\"1\" class=\"dataframe\">\n",
       "  <thead>\n",
       "    <tr style=\"text-align: right;\">\n",
       "      <th></th>\n",
       "      <th>ALTER_HH</th>\n",
       "      <th>ANZ_HAUSHALTE_AKTIV</th>\n",
       "      <th>ANZ_HH_TITEL</th>\n",
       "      <th>ANZ_PERSONEN</th>\n",
       "      <th>ANZ_TITEL</th>\n",
       "      <th>BALLRAUM</th>\n",
       "      <th>CAMEO_DEUG_2015</th>\n",
       "      <th>D19_BANKEN_ANZ_12</th>\n",
       "      <th>D19_BANKEN_ANZ_24</th>\n",
       "      <th>D19_BANKEN_DATUM</th>\n",
       "      <th>...</th>\n",
       "      <th>KBA05_MODTEMP_6.0</th>\n",
       "      <th>NATIONALITAET_KZ_1.0</th>\n",
       "      <th>NATIONALITAET_KZ_2.0</th>\n",
       "      <th>NATIONALITAET_KZ_3.0</th>\n",
       "      <th>SHOPPER_TYP_0.0</th>\n",
       "      <th>SHOPPER_TYP_1.0</th>\n",
       "      <th>SHOPPER_TYP_2.0</th>\n",
       "      <th>SHOPPER_TYP_3.0</th>\n",
       "      <th>VERS_TYP_1.0</th>\n",
       "      <th>VERS_TYP_2.0</th>\n",
       "    </tr>\n",
       "  </thead>\n",
       "  <tbody>\n",
       "    <tr>\n",
       "      <td>0</td>\n",
       "      <td>10.0</td>\n",
       "      <td>1.0</td>\n",
       "      <td>0.0</td>\n",
       "      <td>2.0</td>\n",
       "      <td>0.0</td>\n",
       "      <td>3.0</td>\n",
       "      <td>1.0</td>\n",
       "      <td>0</td>\n",
       "      <td>0</td>\n",
       "      <td>10</td>\n",
       "      <td>...</td>\n",
       "      <td>0</td>\n",
       "      <td>1</td>\n",
       "      <td>0</td>\n",
       "      <td>0</td>\n",
       "      <td>0</td>\n",
       "      <td>0</td>\n",
       "      <td>0</td>\n",
       "      <td>1</td>\n",
       "      <td>1</td>\n",
       "      <td>0</td>\n",
       "    </tr>\n",
       "    <tr>\n",
       "      <td>1</td>\n",
       "      <td>11.0</td>\n",
       "      <td>NaN</td>\n",
       "      <td>NaN</td>\n",
       "      <td>3.0</td>\n",
       "      <td>0.0</td>\n",
       "      <td>NaN</td>\n",
       "      <td>NaN</td>\n",
       "      <td>0</td>\n",
       "      <td>1</td>\n",
       "      <td>6</td>\n",
       "      <td>...</td>\n",
       "      <td>0</td>\n",
       "      <td>1</td>\n",
       "      <td>0</td>\n",
       "      <td>0</td>\n",
       "      <td>0</td>\n",
       "      <td>0</td>\n",
       "      <td>0</td>\n",
       "      <td>1</td>\n",
       "      <td>1</td>\n",
       "      <td>0</td>\n",
       "    </tr>\n",
       "    <tr>\n",
       "      <td>2</td>\n",
       "      <td>6.0</td>\n",
       "      <td>1.0</td>\n",
       "      <td>0.0</td>\n",
       "      <td>1.0</td>\n",
       "      <td>0.0</td>\n",
       "      <td>7.0</td>\n",
       "      <td>5.0</td>\n",
       "      <td>0</td>\n",
       "      <td>0</td>\n",
       "      <td>10</td>\n",
       "      <td>...</td>\n",
       "      <td>0</td>\n",
       "      <td>1</td>\n",
       "      <td>0</td>\n",
       "      <td>0</td>\n",
       "      <td>0</td>\n",
       "      <td>1</td>\n",
       "      <td>0</td>\n",
       "      <td>0</td>\n",
       "      <td>0</td>\n",
       "      <td>1</td>\n",
       "    </tr>\n",
       "    <tr>\n",
       "      <td>3</td>\n",
       "      <td>8.0</td>\n",
       "      <td>0.0</td>\n",
       "      <td>NaN</td>\n",
       "      <td>0.0</td>\n",
       "      <td>0.0</td>\n",
       "      <td>7.0</td>\n",
       "      <td>4.0</td>\n",
       "      <td>0</td>\n",
       "      <td>0</td>\n",
       "      <td>10</td>\n",
       "      <td>...</td>\n",
       "      <td>0</td>\n",
       "      <td>1</td>\n",
       "      <td>0</td>\n",
       "      <td>0</td>\n",
       "      <td>1</td>\n",
       "      <td>0</td>\n",
       "      <td>0</td>\n",
       "      <td>0</td>\n",
       "      <td>1</td>\n",
       "      <td>0</td>\n",
       "    </tr>\n",
       "    <tr>\n",
       "      <td>4</td>\n",
       "      <td>20.0</td>\n",
       "      <td>7.0</td>\n",
       "      <td>0.0</td>\n",
       "      <td>4.0</td>\n",
       "      <td>0.0</td>\n",
       "      <td>3.0</td>\n",
       "      <td>7.0</td>\n",
       "      <td>1</td>\n",
       "      <td>2</td>\n",
       "      <td>3</td>\n",
       "      <td>...</td>\n",
       "      <td>0</td>\n",
       "      <td>1</td>\n",
       "      <td>0</td>\n",
       "      <td>0</td>\n",
       "      <td>0</td>\n",
       "      <td>1</td>\n",
       "      <td>0</td>\n",
       "      <td>0</td>\n",
       "      <td>0</td>\n",
       "      <td>1</td>\n",
       "    </tr>\n",
       "    <tr>\n",
       "      <td>...</td>\n",
       "      <td>...</td>\n",
       "      <td>...</td>\n",
       "      <td>...</td>\n",
       "      <td>...</td>\n",
       "      <td>...</td>\n",
       "      <td>...</td>\n",
       "      <td>...</td>\n",
       "      <td>...</td>\n",
       "      <td>...</td>\n",
       "      <td>...</td>\n",
       "      <td>...</td>\n",
       "      <td>...</td>\n",
       "      <td>...</td>\n",
       "      <td>...</td>\n",
       "      <td>...</td>\n",
       "      <td>...</td>\n",
       "      <td>...</td>\n",
       "      <td>...</td>\n",
       "      <td>...</td>\n",
       "      <td>...</td>\n",
       "      <td>...</td>\n",
       "    </tr>\n",
       "    <tr>\n",
       "      <td>191647</td>\n",
       "      <td>9.0</td>\n",
       "      <td>1.0</td>\n",
       "      <td>0.0</td>\n",
       "      <td>1.0</td>\n",
       "      <td>0.0</td>\n",
       "      <td>1.0</td>\n",
       "      <td>1.0</td>\n",
       "      <td>0</td>\n",
       "      <td>1</td>\n",
       "      <td>7</td>\n",
       "      <td>...</td>\n",
       "      <td>0</td>\n",
       "      <td>1</td>\n",
       "      <td>0</td>\n",
       "      <td>0</td>\n",
       "      <td>0</td>\n",
       "      <td>1</td>\n",
       "      <td>0</td>\n",
       "      <td>0</td>\n",
       "      <td>0</td>\n",
       "      <td>1</td>\n",
       "    </tr>\n",
       "    <tr>\n",
       "      <td>191648</td>\n",
       "      <td>0.0</td>\n",
       "      <td>0.0</td>\n",
       "      <td>NaN</td>\n",
       "      <td>0.0</td>\n",
       "      <td>0.0</td>\n",
       "      <td>6.0</td>\n",
       "      <td>5.0</td>\n",
       "      <td>0</td>\n",
       "      <td>0</td>\n",
       "      <td>10</td>\n",
       "      <td>...</td>\n",
       "      <td>0</td>\n",
       "      <td>1</td>\n",
       "      <td>0</td>\n",
       "      <td>0</td>\n",
       "      <td>0</td>\n",
       "      <td>0</td>\n",
       "      <td>0</td>\n",
       "      <td>1</td>\n",
       "      <td>0</td>\n",
       "      <td>1</td>\n",
       "    </tr>\n",
       "    <tr>\n",
       "      <td>191649</td>\n",
       "      <td>15.0</td>\n",
       "      <td>1.0</td>\n",
       "      <td>0.0</td>\n",
       "      <td>3.0</td>\n",
       "      <td>0.0</td>\n",
       "      <td>7.0</td>\n",
       "      <td>4.0</td>\n",
       "      <td>0</td>\n",
       "      <td>0</td>\n",
       "      <td>10</td>\n",
       "      <td>...</td>\n",
       "      <td>0</td>\n",
       "      <td>1</td>\n",
       "      <td>0</td>\n",
       "      <td>0</td>\n",
       "      <td>1</td>\n",
       "      <td>0</td>\n",
       "      <td>0</td>\n",
       "      <td>0</td>\n",
       "      <td>1</td>\n",
       "      <td>0</td>\n",
       "    </tr>\n",
       "    <tr>\n",
       "      <td>191650</td>\n",
       "      <td>13.0</td>\n",
       "      <td>4.0</td>\n",
       "      <td>0.0</td>\n",
       "      <td>4.0</td>\n",
       "      <td>0.0</td>\n",
       "      <td>3.0</td>\n",
       "      <td>4.0</td>\n",
       "      <td>1</td>\n",
       "      <td>1</td>\n",
       "      <td>5</td>\n",
       "      <td>...</td>\n",
       "      <td>0</td>\n",
       "      <td>1</td>\n",
       "      <td>0</td>\n",
       "      <td>0</td>\n",
       "      <td>0</td>\n",
       "      <td>0</td>\n",
       "      <td>1</td>\n",
       "      <td>0</td>\n",
       "      <td>1</td>\n",
       "      <td>0</td>\n",
       "    </tr>\n",
       "    <tr>\n",
       "      <td>191651</td>\n",
       "      <td>0.0</td>\n",
       "      <td>1.0</td>\n",
       "      <td>0.0</td>\n",
       "      <td>3.0</td>\n",
       "      <td>0.0</td>\n",
       "      <td>3.0</td>\n",
       "      <td>5.0</td>\n",
       "      <td>1</td>\n",
       "      <td>1</td>\n",
       "      <td>5</td>\n",
       "      <td>...</td>\n",
       "      <td>0</td>\n",
       "      <td>1</td>\n",
       "      <td>0</td>\n",
       "      <td>0</td>\n",
       "      <td>0</td>\n",
       "      <td>1</td>\n",
       "      <td>0</td>\n",
       "      <td>0</td>\n",
       "      <td>1</td>\n",
       "      <td>0</td>\n",
       "    </tr>\n",
       "  </tbody>\n",
       "</table>\n",
       "<p>191652 rows × 295 columns</p>\n",
       "</div>"
      ],
      "text/plain": [
       "        ALTER_HH  ANZ_HAUSHALTE_AKTIV  ANZ_HH_TITEL  ANZ_PERSONEN  ANZ_TITEL  \\\n",
       "0           10.0                  1.0           0.0           2.0        0.0   \n",
       "1           11.0                  NaN           NaN           3.0        0.0   \n",
       "2            6.0                  1.0           0.0           1.0        0.0   \n",
       "3            8.0                  0.0           NaN           0.0        0.0   \n",
       "4           20.0                  7.0           0.0           4.0        0.0   \n",
       "...          ...                  ...           ...           ...        ...   \n",
       "191647       9.0                  1.0           0.0           1.0        0.0   \n",
       "191648       0.0                  0.0           NaN           0.0        0.0   \n",
       "191649      15.0                  1.0           0.0           3.0        0.0   \n",
       "191650      13.0                  4.0           0.0           4.0        0.0   \n",
       "191651       0.0                  1.0           0.0           3.0        0.0   \n",
       "\n",
       "        BALLRAUM  CAMEO_DEUG_2015  D19_BANKEN_ANZ_12  D19_BANKEN_ANZ_24  \\\n",
       "0            3.0              1.0                  0                  0   \n",
       "1            NaN              NaN                  0                  1   \n",
       "2            7.0              5.0                  0                  0   \n",
       "3            7.0              4.0                  0                  0   \n",
       "4            3.0              7.0                  1                  2   \n",
       "...          ...              ...                ...                ...   \n",
       "191647       1.0              1.0                  0                  1   \n",
       "191648       6.0              5.0                  0                  0   \n",
       "191649       7.0              4.0                  0                  0   \n",
       "191650       3.0              4.0                  1                  1   \n",
       "191651       3.0              5.0                  1                  1   \n",
       "\n",
       "        D19_BANKEN_DATUM  ...  KBA05_MODTEMP_6.0  NATIONALITAET_KZ_1.0  \\\n",
       "0                     10  ...                  0                     1   \n",
       "1                      6  ...                  0                     1   \n",
       "2                     10  ...                  0                     1   \n",
       "3                     10  ...                  0                     1   \n",
       "4                      3  ...                  0                     1   \n",
       "...                  ...  ...                ...                   ...   \n",
       "191647                 7  ...                  0                     1   \n",
       "191648                10  ...                  0                     1   \n",
       "191649                10  ...                  0                     1   \n",
       "191650                 5  ...                  0                     1   \n",
       "191651                 5  ...                  0                     1   \n",
       "\n",
       "        NATIONALITAET_KZ_2.0  NATIONALITAET_KZ_3.0  SHOPPER_TYP_0.0  \\\n",
       "0                          0                     0                0   \n",
       "1                          0                     0                0   \n",
       "2                          0                     0                0   \n",
       "3                          0                     0                1   \n",
       "4                          0                     0                0   \n",
       "...                      ...                   ...              ...   \n",
       "191647                     0                     0                0   \n",
       "191648                     0                     0                0   \n",
       "191649                     0                     0                1   \n",
       "191650                     0                     0                0   \n",
       "191651                     0                     0                0   \n",
       "\n",
       "        SHOPPER_TYP_1.0  SHOPPER_TYP_2.0  SHOPPER_TYP_3.0  VERS_TYP_1.0  \\\n",
       "0                     0                0                1             1   \n",
       "1                     0                0                1             1   \n",
       "2                     1                0                0             0   \n",
       "3                     0                0                0             1   \n",
       "4                     1                0                0             0   \n",
       "...                 ...              ...              ...           ...   \n",
       "191647                1                0                0             0   \n",
       "191648                0                0                1             0   \n",
       "191649                0                0                0             1   \n",
       "191650                0                1                0             1   \n",
       "191651                1                0                0             1   \n",
       "\n",
       "        VERS_TYP_2.0  \n",
       "0                  0  \n",
       "1                  0  \n",
       "2                  1  \n",
       "3                  0  \n",
       "4                  1  \n",
       "...              ...  \n",
       "191647             1  \n",
       "191648             1  \n",
       "191649             0  \n",
       "191650             0  \n",
       "191651             0  \n",
       "\n",
       "[191652 rows x 295 columns]"
      ]
     },
     "execution_count": 62,
     "metadata": {},
     "output_type": "execute_result"
    }
   ],
   "source": [
    "customers"
   ]
  },
  {
   "cell_type": "code",
   "execution_count": 63,
   "metadata": {},
   "outputs": [
    {
     "data": {
      "text/plain": [
       "(295, 296)"
      ]
     },
     "execution_count": 63,
     "metadata": {},
     "output_type": "execute_result"
    }
   ],
   "source": [
    "customers.shape[1], azdias.shape[1]"
   ]
  },
  {
   "cell_type": "code",
   "execution_count": 64,
   "metadata": {},
   "outputs": [
    {
     "data": {
      "text/plain": [
       "{'GEBAEUDETYP_5.0'}"
      ]
     },
     "execution_count": 64,
     "metadata": {},
     "output_type": "execute_result"
    }
   ],
   "source": [
    "# azdias has one dummy variable more than customers\n",
    "set(azdias) - set(customers)"
   ]
  },
  {
   "cell_type": "code",
   "execution_count": 65,
   "metadata": {},
   "outputs": [],
   "source": [
    "# we need to drop this dummy variable, otherwise it will lead to problems later on at the scaling process\n",
    "azdias.drop(columns='GEBAEUDETYP_5.0', inplace=True)"
   ]
  },
  {
   "cell_type": "markdown",
   "metadata": {},
   "source": [
    "### Imputation and scaling features"
   ]
  },
  {
   "cell_type": "code",
   "execution_count": 66,
   "metadata": {},
   "outputs": [],
   "source": [
    "imputer = SimpleImputer(strategy='median')\n",
    "scaler = StandardScaler()"
   ]
  },
  {
   "cell_type": "code",
   "execution_count": 67,
   "metadata": {},
   "outputs": [],
   "source": [
    "# impute median\n",
    "azdias_imp = pd.DataFrame(imputer.fit_transform(azdias))\n",
    "customers_imp = pd.DataFrame(imputer.fit_transform(customers))"
   ]
  },
  {
   "cell_type": "code",
   "execution_count": 68,
   "metadata": {},
   "outputs": [],
   "source": [
    "# scale features\n",
    "azdias_sc = pd.DataFrame(scaler.fit_transform(azdias_imp), columns = azdias.columns)\n",
    "customers_sc = pd.DataFrame(scaler.transform(customers_imp), columns = customers.columns)"
   ]
  },
  {
   "cell_type": "code",
   "execution_count": 69,
   "metadata": {},
   "outputs": [
    {
     "data": {
      "text/html": [
       "<div>\n",
       "<style scoped>\n",
       "    .dataframe tbody tr th:only-of-type {\n",
       "        vertical-align: middle;\n",
       "    }\n",
       "\n",
       "    .dataframe tbody tr th {\n",
       "        vertical-align: top;\n",
       "    }\n",
       "\n",
       "    .dataframe thead th {\n",
       "        text-align: right;\n",
       "    }\n",
       "</style>\n",
       "<table border=\"1\" class=\"dataframe\">\n",
       "  <thead>\n",
       "    <tr style=\"text-align: right;\">\n",
       "      <th></th>\n",
       "      <th>ALTER_HH</th>\n",
       "      <th>ANZ_HAUSHALTE_AKTIV</th>\n",
       "      <th>ANZ_HH_TITEL</th>\n",
       "      <th>ANZ_PERSONEN</th>\n",
       "      <th>ANZ_TITEL</th>\n",
       "      <th>BALLRAUM</th>\n",
       "      <th>CAMEO_DEUG_2015</th>\n",
       "      <th>D19_BANKEN_ANZ_12</th>\n",
       "      <th>D19_BANKEN_ANZ_24</th>\n",
       "      <th>D19_BANKEN_DATUM</th>\n",
       "      <th>...</th>\n",
       "      <th>KBA05_MODTEMP_6.0</th>\n",
       "      <th>NATIONALITAET_KZ_1.0</th>\n",
       "      <th>NATIONALITAET_KZ_2.0</th>\n",
       "      <th>NATIONALITAET_KZ_3.0</th>\n",
       "      <th>SHOPPER_TYP_0.0</th>\n",
       "      <th>SHOPPER_TYP_1.0</th>\n",
       "      <th>SHOPPER_TYP_2.0</th>\n",
       "      <th>SHOPPER_TYP_3.0</th>\n",
       "      <th>VERS_TYP_1.0</th>\n",
       "      <th>VERS_TYP_2.0</th>\n",
       "    </tr>\n",
       "  </thead>\n",
       "  <tbody>\n",
       "    <tr>\n",
       "      <td>0</td>\n",
       "      <td>-1.430675</td>\n",
       "      <td>0.186813</td>\n",
       "      <td>-0.125303</td>\n",
       "      <td>0.224688</td>\n",
       "      <td>-0.06066</td>\n",
       "      <td>0.850057</td>\n",
       "      <td>0.979671</td>\n",
       "      <td>-0.237853</td>\n",
       "      <td>-0.306633</td>\n",
       "      <td>0.442306</td>\n",
       "      <td>...</td>\n",
       "      <td>-0.071433</td>\n",
       "      <td>0.442567</td>\n",
       "      <td>-0.295836</td>\n",
       "      <td>-0.205764</td>\n",
       "      <td>-0.448850</td>\n",
       "      <td>-0.658336</td>\n",
       "      <td>-0.601069</td>\n",
       "      <td>1.891938</td>\n",
       "      <td>-0.907560</td>\n",
       "      <td>0.995693</td>\n",
       "    </tr>\n",
       "    <tr>\n",
       "      <td>1</td>\n",
       "      <td>0.801403</td>\n",
       "      <td>0.120634</td>\n",
       "      <td>-0.125303</td>\n",
       "      <td>-0.634469</td>\n",
       "      <td>-0.06066</td>\n",
       "      <td>-0.980372</td>\n",
       "      <td>-0.631281</td>\n",
       "      <td>-0.237853</td>\n",
       "      <td>-0.306633</td>\n",
       "      <td>0.442306</td>\n",
       "      <td>...</td>\n",
       "      <td>-0.071433</td>\n",
       "      <td>0.442567</td>\n",
       "      <td>-0.295836</td>\n",
       "      <td>-0.205764</td>\n",
       "      <td>-0.448850</td>\n",
       "      <td>-0.658336</td>\n",
       "      <td>1.663701</td>\n",
       "      <td>-0.528559</td>\n",
       "      <td>1.101855</td>\n",
       "      <td>-1.004325</td>\n",
       "    </tr>\n",
       "    <tr>\n",
       "      <td>2</td>\n",
       "      <td>0.276209</td>\n",
       "      <td>-0.474979</td>\n",
       "      <td>-0.125303</td>\n",
       "      <td>-1.493626</td>\n",
       "      <td>-0.06066</td>\n",
       "      <td>-0.065157</td>\n",
       "      <td>-1.436757</td>\n",
       "      <td>-0.237853</td>\n",
       "      <td>-0.306633</td>\n",
       "      <td>0.442306</td>\n",
       "      <td>...</td>\n",
       "      <td>-0.071433</td>\n",
       "      <td>0.442567</td>\n",
       "      <td>-0.295836</td>\n",
       "      <td>-0.205764</td>\n",
       "      <td>-0.448850</td>\n",
       "      <td>1.518982</td>\n",
       "      <td>-0.601069</td>\n",
       "      <td>-0.528559</td>\n",
       "      <td>1.101855</td>\n",
       "      <td>-1.004325</td>\n",
       "    </tr>\n",
       "    <tr>\n",
       "      <td>3</td>\n",
       "      <td>1.195299</td>\n",
       "      <td>-0.342620</td>\n",
       "      <td>-0.125303</td>\n",
       "      <td>1.943002</td>\n",
       "      <td>-0.06066</td>\n",
       "      <td>-0.980372</td>\n",
       "      <td>0.174195</td>\n",
       "      <td>5.175356</td>\n",
       "      <td>6.173409</td>\n",
       "      <td>-2.351066</td>\n",
       "      <td>...</td>\n",
       "      <td>-0.071433</td>\n",
       "      <td>0.442567</td>\n",
       "      <td>-0.295836</td>\n",
       "      <td>-0.205764</td>\n",
       "      <td>-0.448850</td>\n",
       "      <td>-0.658336</td>\n",
       "      <td>1.663701</td>\n",
       "      <td>-0.528559</td>\n",
       "      <td>-0.907560</td>\n",
       "      <td>0.995693</td>\n",
       "    </tr>\n",
       "    <tr>\n",
       "      <td>4</td>\n",
       "      <td>-0.117688</td>\n",
       "      <td>-0.210262</td>\n",
       "      <td>-0.125303</td>\n",
       "      <td>-0.634469</td>\n",
       "      <td>-0.06066</td>\n",
       "      <td>0.850057</td>\n",
       "      <td>0.979671</td>\n",
       "      <td>-0.237853</td>\n",
       "      <td>-0.306633</td>\n",
       "      <td>0.442306</td>\n",
       "      <td>...</td>\n",
       "      <td>-0.071433</td>\n",
       "      <td>0.442567</td>\n",
       "      <td>-0.295836</td>\n",
       "      <td>-0.205764</td>\n",
       "      <td>2.227918</td>\n",
       "      <td>-0.658336</td>\n",
       "      <td>-0.601069</td>\n",
       "      <td>-0.528559</td>\n",
       "      <td>-0.907560</td>\n",
       "      <td>0.995693</td>\n",
       "    </tr>\n",
       "  </tbody>\n",
       "</table>\n",
       "<p>5 rows × 295 columns</p>\n",
       "</div>"
      ],
      "text/plain": [
       "   ALTER_HH  ANZ_HAUSHALTE_AKTIV  ANZ_HH_TITEL  ANZ_PERSONEN  ANZ_TITEL  \\\n",
       "0 -1.430675             0.186813     -0.125303      0.224688   -0.06066   \n",
       "1  0.801403             0.120634     -0.125303     -0.634469   -0.06066   \n",
       "2  0.276209            -0.474979     -0.125303     -1.493626   -0.06066   \n",
       "3  1.195299            -0.342620     -0.125303      1.943002   -0.06066   \n",
       "4 -0.117688            -0.210262     -0.125303     -0.634469   -0.06066   \n",
       "\n",
       "   BALLRAUM  CAMEO_DEUG_2015  D19_BANKEN_ANZ_12  D19_BANKEN_ANZ_24  \\\n",
       "0  0.850057         0.979671          -0.237853          -0.306633   \n",
       "1 -0.980372        -0.631281          -0.237853          -0.306633   \n",
       "2 -0.065157        -1.436757          -0.237853          -0.306633   \n",
       "3 -0.980372         0.174195           5.175356           6.173409   \n",
       "4  0.850057         0.979671          -0.237853          -0.306633   \n",
       "\n",
       "   D19_BANKEN_DATUM  ...  KBA05_MODTEMP_6.0  NATIONALITAET_KZ_1.0  \\\n",
       "0          0.442306  ...          -0.071433              0.442567   \n",
       "1          0.442306  ...          -0.071433              0.442567   \n",
       "2          0.442306  ...          -0.071433              0.442567   \n",
       "3         -2.351066  ...          -0.071433              0.442567   \n",
       "4          0.442306  ...          -0.071433              0.442567   \n",
       "\n",
       "   NATIONALITAET_KZ_2.0  NATIONALITAET_KZ_3.0  SHOPPER_TYP_0.0  \\\n",
       "0             -0.295836             -0.205764        -0.448850   \n",
       "1             -0.295836             -0.205764        -0.448850   \n",
       "2             -0.295836             -0.205764        -0.448850   \n",
       "3             -0.295836             -0.205764        -0.448850   \n",
       "4             -0.295836             -0.205764         2.227918   \n",
       "\n",
       "   SHOPPER_TYP_1.0  SHOPPER_TYP_2.0  SHOPPER_TYP_3.0  VERS_TYP_1.0  \\\n",
       "0        -0.658336        -0.601069         1.891938     -0.907560   \n",
       "1        -0.658336         1.663701        -0.528559      1.101855   \n",
       "2         1.518982        -0.601069        -0.528559      1.101855   \n",
       "3        -0.658336         1.663701        -0.528559     -0.907560   \n",
       "4        -0.658336        -0.601069        -0.528559     -0.907560   \n",
       "\n",
       "   VERS_TYP_2.0  \n",
       "0      0.995693  \n",
       "1     -1.004325  \n",
       "2     -1.004325  \n",
       "3      0.995693  \n",
       "4      0.995693  \n",
       "\n",
       "[5 rows x 295 columns]"
      ]
     },
     "execution_count": 69,
     "metadata": {},
     "output_type": "execute_result"
    }
   ],
   "source": [
    "azdias_sc.head()"
   ]
  },
  {
   "cell_type": "code",
   "execution_count": 70,
   "metadata": {},
   "outputs": [
    {
     "data": {
      "text/html": [
       "<div>\n",
       "<style scoped>\n",
       "    .dataframe tbody tr th:only-of-type {\n",
       "        vertical-align: middle;\n",
       "    }\n",
       "\n",
       "    .dataframe tbody tr th {\n",
       "        vertical-align: top;\n",
       "    }\n",
       "\n",
       "    .dataframe thead th {\n",
       "        text-align: right;\n",
       "    }\n",
       "</style>\n",
       "<table border=\"1\" class=\"dataframe\">\n",
       "  <thead>\n",
       "    <tr style=\"text-align: right;\">\n",
       "      <th></th>\n",
       "      <th>ALTER_HH</th>\n",
       "      <th>ANZ_HAUSHALTE_AKTIV</th>\n",
       "      <th>ANZ_HH_TITEL</th>\n",
       "      <th>ANZ_PERSONEN</th>\n",
       "      <th>ANZ_TITEL</th>\n",
       "      <th>BALLRAUM</th>\n",
       "      <th>CAMEO_DEUG_2015</th>\n",
       "      <th>D19_BANKEN_ANZ_12</th>\n",
       "      <th>D19_BANKEN_ANZ_24</th>\n",
       "      <th>D19_BANKEN_DATUM</th>\n",
       "      <th>...</th>\n",
       "      <th>KBA05_MODTEMP_6.0</th>\n",
       "      <th>NATIONALITAET_KZ_1.0</th>\n",
       "      <th>NATIONALITAET_KZ_2.0</th>\n",
       "      <th>NATIONALITAET_KZ_3.0</th>\n",
       "      <th>SHOPPER_TYP_0.0</th>\n",
       "      <th>SHOPPER_TYP_1.0</th>\n",
       "      <th>SHOPPER_TYP_2.0</th>\n",
       "      <th>SHOPPER_TYP_3.0</th>\n",
       "      <th>VERS_TYP_1.0</th>\n",
       "      <th>VERS_TYP_2.0</th>\n",
       "    </tr>\n",
       "  </thead>\n",
       "  <tbody>\n",
       "    <tr>\n",
       "      <td>0</td>\n",
       "      <td>-0.117688</td>\n",
       "      <td>-0.474979</td>\n",
       "      <td>-0.125303</td>\n",
       "      <td>0.224688</td>\n",
       "      <td>-0.06066</td>\n",
       "      <td>-0.522764</td>\n",
       "      <td>-1.839495</td>\n",
       "      <td>-0.237853</td>\n",
       "      <td>-0.306633</td>\n",
       "      <td>0.442306</td>\n",
       "      <td>...</td>\n",
       "      <td>-0.071433</td>\n",
       "      <td>0.442567</td>\n",
       "      <td>-0.295836</td>\n",
       "      <td>-0.205764</td>\n",
       "      <td>-0.448850</td>\n",
       "      <td>-0.658336</td>\n",
       "      <td>-0.601069</td>\n",
       "      <td>1.891938</td>\n",
       "      <td>1.101855</td>\n",
       "      <td>-1.004325</td>\n",
       "    </tr>\n",
       "    <tr>\n",
       "      <td>1</td>\n",
       "      <td>0.013611</td>\n",
       "      <td>-0.474979</td>\n",
       "      <td>-0.125303</td>\n",
       "      <td>1.083845</td>\n",
       "      <td>-0.06066</td>\n",
       "      <td>0.392450</td>\n",
       "      <td>-0.631281</td>\n",
       "      <td>-0.237853</td>\n",
       "      <td>0.989375</td>\n",
       "      <td>-1.792391</td>\n",
       "      <td>...</td>\n",
       "      <td>-0.071433</td>\n",
       "      <td>0.442567</td>\n",
       "      <td>-0.295836</td>\n",
       "      <td>-0.205764</td>\n",
       "      <td>-0.448850</td>\n",
       "      <td>-0.658336</td>\n",
       "      <td>-0.601069</td>\n",
       "      <td>1.891938</td>\n",
       "      <td>1.101855</td>\n",
       "      <td>-1.004325</td>\n",
       "    </tr>\n",
       "    <tr>\n",
       "      <td>2</td>\n",
       "      <td>-0.642882</td>\n",
       "      <td>-0.474979</td>\n",
       "      <td>-0.125303</td>\n",
       "      <td>-0.634469</td>\n",
       "      <td>-0.06066</td>\n",
       "      <td>1.307664</td>\n",
       "      <td>-0.228543</td>\n",
       "      <td>-0.237853</td>\n",
       "      <td>-0.306633</td>\n",
       "      <td>0.442306</td>\n",
       "      <td>...</td>\n",
       "      <td>-0.071433</td>\n",
       "      <td>0.442567</td>\n",
       "      <td>-0.295836</td>\n",
       "      <td>-0.205764</td>\n",
       "      <td>-0.448850</td>\n",
       "      <td>1.518982</td>\n",
       "      <td>-0.601069</td>\n",
       "      <td>-0.528559</td>\n",
       "      <td>-0.907560</td>\n",
       "      <td>0.995693</td>\n",
       "    </tr>\n",
       "    <tr>\n",
       "      <td>3</td>\n",
       "      <td>-0.380285</td>\n",
       "      <td>-0.541158</td>\n",
       "      <td>-0.125303</td>\n",
       "      <td>-1.493626</td>\n",
       "      <td>-0.06066</td>\n",
       "      <td>1.307664</td>\n",
       "      <td>-0.631281</td>\n",
       "      <td>-0.237853</td>\n",
       "      <td>-0.306633</td>\n",
       "      <td>0.442306</td>\n",
       "      <td>...</td>\n",
       "      <td>-0.071433</td>\n",
       "      <td>0.442567</td>\n",
       "      <td>-0.295836</td>\n",
       "      <td>-0.205764</td>\n",
       "      <td>2.227918</td>\n",
       "      <td>-0.658336</td>\n",
       "      <td>-0.601069</td>\n",
       "      <td>-0.528559</td>\n",
       "      <td>1.101855</td>\n",
       "      <td>-1.004325</td>\n",
       "    </tr>\n",
       "    <tr>\n",
       "      <td>4</td>\n",
       "      <td>1.195299</td>\n",
       "      <td>-0.077904</td>\n",
       "      <td>-0.125303</td>\n",
       "      <td>1.943002</td>\n",
       "      <td>-0.06066</td>\n",
       "      <td>-0.522764</td>\n",
       "      <td>0.576933</td>\n",
       "      <td>1.566550</td>\n",
       "      <td>2.285383</td>\n",
       "      <td>-3.468414</td>\n",
       "      <td>...</td>\n",
       "      <td>-0.071433</td>\n",
       "      <td>0.442567</td>\n",
       "      <td>-0.295836</td>\n",
       "      <td>-0.205764</td>\n",
       "      <td>-0.448850</td>\n",
       "      <td>1.518982</td>\n",
       "      <td>-0.601069</td>\n",
       "      <td>-0.528559</td>\n",
       "      <td>-0.907560</td>\n",
       "      <td>0.995693</td>\n",
       "    </tr>\n",
       "  </tbody>\n",
       "</table>\n",
       "<p>5 rows × 295 columns</p>\n",
       "</div>"
      ],
      "text/plain": [
       "   ALTER_HH  ANZ_HAUSHALTE_AKTIV  ANZ_HH_TITEL  ANZ_PERSONEN  ANZ_TITEL  \\\n",
       "0 -0.117688            -0.474979     -0.125303      0.224688   -0.06066   \n",
       "1  0.013611            -0.474979     -0.125303      1.083845   -0.06066   \n",
       "2 -0.642882            -0.474979     -0.125303     -0.634469   -0.06066   \n",
       "3 -0.380285            -0.541158     -0.125303     -1.493626   -0.06066   \n",
       "4  1.195299            -0.077904     -0.125303      1.943002   -0.06066   \n",
       "\n",
       "   BALLRAUM  CAMEO_DEUG_2015  D19_BANKEN_ANZ_12  D19_BANKEN_ANZ_24  \\\n",
       "0 -0.522764        -1.839495          -0.237853          -0.306633   \n",
       "1  0.392450        -0.631281          -0.237853           0.989375   \n",
       "2  1.307664        -0.228543          -0.237853          -0.306633   \n",
       "3  1.307664        -0.631281          -0.237853          -0.306633   \n",
       "4 -0.522764         0.576933           1.566550           2.285383   \n",
       "\n",
       "   D19_BANKEN_DATUM  ...  KBA05_MODTEMP_6.0  NATIONALITAET_KZ_1.0  \\\n",
       "0          0.442306  ...          -0.071433              0.442567   \n",
       "1         -1.792391  ...          -0.071433              0.442567   \n",
       "2          0.442306  ...          -0.071433              0.442567   \n",
       "3          0.442306  ...          -0.071433              0.442567   \n",
       "4         -3.468414  ...          -0.071433              0.442567   \n",
       "\n",
       "   NATIONALITAET_KZ_2.0  NATIONALITAET_KZ_3.0  SHOPPER_TYP_0.0  \\\n",
       "0             -0.295836             -0.205764        -0.448850   \n",
       "1             -0.295836             -0.205764        -0.448850   \n",
       "2             -0.295836             -0.205764        -0.448850   \n",
       "3             -0.295836             -0.205764         2.227918   \n",
       "4             -0.295836             -0.205764        -0.448850   \n",
       "\n",
       "   SHOPPER_TYP_1.0  SHOPPER_TYP_2.0  SHOPPER_TYP_3.0  VERS_TYP_1.0  \\\n",
       "0        -0.658336        -0.601069         1.891938      1.101855   \n",
       "1        -0.658336        -0.601069         1.891938      1.101855   \n",
       "2         1.518982        -0.601069        -0.528559     -0.907560   \n",
       "3        -0.658336        -0.601069        -0.528559      1.101855   \n",
       "4         1.518982        -0.601069        -0.528559     -0.907560   \n",
       "\n",
       "   VERS_TYP_2.0  \n",
       "0     -1.004325  \n",
       "1     -1.004325  \n",
       "2      0.995693  \n",
       "3     -1.004325  \n",
       "4      0.995693  \n",
       "\n",
       "[5 rows x 295 columns]"
      ]
     },
     "execution_count": 70,
     "metadata": {},
     "output_type": "execute_result"
    }
   ],
   "source": [
    "customers_sc.head()"
   ]
  },
  {
   "cell_type": "markdown",
   "metadata": {},
   "source": [
    "### Are there highly corrleated features?\n",
    "\n",
    "https://stackoverflow.com/questions/29294983/how-to-calculate-correlation-between-all-columns-and-remove-highly-correlated-on"
   ]
  },
  {
   "cell_type": "code",
   "execution_count": 71,
   "metadata": {},
   "outputs": [],
   "source": [
    "azdias_corr_matrix = azdias_sc.corr().abs()"
   ]
  },
  {
   "cell_type": "code",
   "execution_count": 72,
   "metadata": {},
   "outputs": [],
   "source": [
    "azdias_upper = azdias_corr_matrix.where(np.triu(np.ones(azdias_corr_matrix.shape), k=1).astype(np.bool))"
   ]
  },
  {
   "cell_type": "code",
   "execution_count": 73,
   "metadata": {},
   "outputs": [],
   "source": [
    "azdias_to_drop = [column for column in azdias_upper.columns if any(azdias_upper[column] > 0.95)]"
   ]
  },
  {
   "cell_type": "code",
   "execution_count": 74,
   "metadata": {},
   "outputs": [
    {
     "data": {
      "text/plain": [
       "['D19_VERSAND_ONLINE_DATUM',\n",
       " 'KBA13_HERST_SONST',\n",
       " 'KBA13_KMH_250',\n",
       " 'LP_STATUS_GROB',\n",
       " 'ANREDE_KZ_2.0',\n",
       " 'KBA05_MODTEMP_5.0']"
      ]
     },
     "execution_count": 74,
     "metadata": {},
     "output_type": "execute_result"
    }
   ],
   "source": [
    "azdias_to_drop"
   ]
  },
  {
   "cell_type": "code",
   "execution_count": 75,
   "metadata": {},
   "outputs": [],
   "source": [
    "customers_corr_matrix = customers_sc.corr().abs()"
   ]
  },
  {
   "cell_type": "code",
   "execution_count": 76,
   "metadata": {},
   "outputs": [],
   "source": [
    "customers_upper = customers_corr_matrix.where(np.triu(np.ones(customers_corr_matrix.shape), k=1).astype(np.bool))"
   ]
  },
  {
   "cell_type": "code",
   "execution_count": 77,
   "metadata": {},
   "outputs": [],
   "source": [
    "customers_to_drop = [column for column in customers_upper.columns if any(customers_upper[column] > 0.95)]"
   ]
  },
  {
   "cell_type": "code",
   "execution_count": 78,
   "metadata": {},
   "outputs": [
    {
     "data": {
      "text/plain": [
       "['KBA13_HERST_SONST',\n",
       " 'KBA13_KMH_250',\n",
       " 'LP_STATUS_GROB',\n",
       " 'ANREDE_KZ_2.0',\n",
       " 'KBA05_MODTEMP_5.0']"
      ]
     },
     "execution_count": 78,
     "metadata": {},
     "output_type": "execute_result"
    }
   ],
   "source": [
    "customers_to_drop"
   ]
  },
  {
   "cell_type": "code",
   "execution_count": 79,
   "metadata": {},
   "outputs": [],
   "source": [
    "# drop highly correlated columns\n",
    "# use customers_to_drop so all columns expect D19_VERSOND_ONLINE_DATUM \n",
    "azdias_sc.drop(columns= customers_to_drop, inplace= True)\n",
    "customers_sc.drop(columns= customers_to_drop, inplace= True)"
   ]
  },
  {
   "cell_type": "markdown",
   "metadata": {},
   "source": [
    "<a id='part1'></a>\n",
    "## Part 1: Customer Segmentation Report\n",
    "\n",
    "The main bulk of your analysis will come in this part of the project. Here, you should use unsupervised learning techniques to describe the relationship between the demographics of the company's existing customers and the general population of Germany. By the end of this part, you should be able to describe parts of the general population that are more likely to be part of the mail-order company's main customer base, and which parts of the general population are less so."
   ]
  },
  {
   "cell_type": "code",
   "execution_count": 80,
   "metadata": {},
   "outputs": [],
   "source": [
    "# code from the Book: Hands on Machine Learning with Scikit Learn\n",
    "pca = PCA()\n",
    "pca.fit(azdias_sc)\n",
    "cumsum = np.cumsum(pca.explained_variance_ratio_)"
   ]
  },
  {
   "cell_type": "code",
   "execution_count": 160,
   "metadata": {},
   "outputs": [
    {
     "data": {
      "image/png": "[encoded data removed]",
      "text/plain": [
       "<Figure size 720x360 with 1 Axes>"
      ]
     },
     "metadata": {
      "needs_background": "light"
     },
     "output_type": "display_data"
    }
   ],
   "source": [
    "# plot cumsum to get the explained varaiance per dimension added\n",
    "fig = plt.figure(figsize=(10,5))\n",
    "\n",
    "ax = plt.subplot()\n",
    "ax.plot(cumsum)\n",
    "ax.set_ylabel('Explained Variance')\n",
    "ax.set_xlabel('Dimensions')\n",
    "plt.grid()\n",
    "# plt.savefig('pca.png', dpi=200, bbox_inches='tight');"
   ]
  },
  {
   "cell_type": "markdown",
   "metadata": {},
   "source": [
    "According to the book 'Hands on Machine Learning', it is important to choose a number of dimensions that add up to a sufficiently large portion of variance, like 95%. So in this case we can reduce the number of dimensions to 150 to get roughly 95% explained variance.\n",
    "\n",
    "In the next step I will reduce to dimensions for both datasets:"
   ]
  },
  {
   "cell_type": "code",
   "execution_count": 84,
   "metadata": {},
   "outputs": [],
   "source": [
    "# create a function for fit and transfrom\n",
    "def pca_fit_transform(n, df):\n",
    "    '''\n",
    "    Input\n",
    "        n: number of components\n",
    "        df: scaled DataFrame\n",
    "    \n",
    "    Return\n",
    "        pca: model with a fitted pca\n",
    "        pca_p: pca for population\n",
    "        \n",
    "    '''\n",
    "    pca = PCA(n)\n",
    "    x_pca = pca.fit_transform(df)\n",
    "    return pca, x_pca\n",
    "\n",
    "# create a function for transforming a new DataFrame\n",
    "def pca_transform(pca, df):\n",
    "    '''\n",
    "    Input\n",
    "        pca: fitted model\n",
    "        df: new scaled DataFrame\n",
    "    \n",
    "    Return\n",
    "        transformed DataFrame\n",
    "    '''\n",
    "    trans_x_pca = pca.transform(df)\n",
    "    return trans_x_pca"
   ]
  },
  {
   "cell_type": "code",
   "execution_count": 85,
   "metadata": {},
   "outputs": [],
   "source": [
    "# fit a pca with 150 components and transform the data\n",
    "pca, population_pca = pca_fit_transform(7, azdias_sc)"
   ]
  },
  {
   "cell_type": "code",
   "execution_count": 90,
   "metadata": {},
   "outputs": [],
   "source": [
    "# use the pca_tranform to transfrom customers with the fitted pca\n",
    "# reduction customers\n",
    "customers_pca = pca_transform(pca, customers_sc)"
   ]
  },
  {
   "cell_type": "markdown",
   "metadata": {},
   "source": [
    "### Interpretation of the first Principal Components\n",
    "Because the first components are the ones that explain the most variance of all all, I will briefly analyze the first three of them:"
   ]
  },
  {
   "cell_type": "code",
   "execution_count": 91,
   "metadata": {},
   "outputs": [],
   "source": [
    "# test DataFrame with weights of each attribute for the PC\n",
    "df= pd.DataFrame({'Attributes':list(azdias_sc.columns), \n",
    "              'Weights':pca.components_[0]})#"
   ]
  },
  {
   "cell_type": "code",
   "execution_count": 92,
   "metadata": {},
   "outputs": [
    {
     "data": {
      "text/html": [
       "<div>\n",
       "<style scoped>\n",
       "    .dataframe tbody tr th:only-of-type {\n",
       "        vertical-align: middle;\n",
       "    }\n",
       "\n",
       "    .dataframe tbody tr th {\n",
       "        vertical-align: top;\n",
       "    }\n",
       "\n",
       "    .dataframe thead th {\n",
       "        text-align: right;\n",
       "    }\n",
       "</style>\n",
       "<table border=\"1\" class=\"dataframe\">\n",
       "  <thead>\n",
       "    <tr style=\"text-align: right;\">\n",
       "      <th></th>\n",
       "      <th>Attributes</th>\n",
       "      <th>Weights</th>\n",
       "    </tr>\n",
       "  </thead>\n",
       "  <tbody>\n",
       "    <tr>\n",
       "      <td>39</td>\n",
       "      <td>HH_EINKOMMEN_SCORE</td>\n",
       "      <td>0.153005</td>\n",
       "    </tr>\n",
       "    <tr>\n",
       "      <td>6</td>\n",
       "      <td>CAMEO_DEUG_2015</td>\n",
       "      <td>0.151200</td>\n",
       "    </tr>\n",
       "    <tr>\n",
       "      <td>217</td>\n",
       "      <td>PLZ8_ANTG3</td>\n",
       "      <td>0.145514</td>\n",
       "    </tr>\n",
       "    <tr>\n",
       "      <td>218</td>\n",
       "      <td>PLZ8_ANTG4</td>\n",
       "      <td>0.140001</td>\n",
       "    </tr>\n",
       "    <tr>\n",
       "      <td>219</td>\n",
       "      <td>PLZ8_BAUMAX</td>\n",
       "      <td>0.139414</td>\n",
       "    </tr>\n",
       "    <tr>\n",
       "      <td>...</td>\n",
       "      <td>...</td>\n",
       "      <td>...</td>\n",
       "    </tr>\n",
       "    <tr>\n",
       "      <td>57</td>\n",
       "      <td>KBA05_GBZ</td>\n",
       "      <td>-0.139179</td>\n",
       "    </tr>\n",
       "    <tr>\n",
       "      <td>209</td>\n",
       "      <td>LP_STATUS_FEIN</td>\n",
       "      <td>-0.142852</td>\n",
       "    </tr>\n",
       "    <tr>\n",
       "      <td>46</td>\n",
       "      <td>KBA05_ANTG1</td>\n",
       "      <td>-0.148108</td>\n",
       "    </tr>\n",
       "    <tr>\n",
       "      <td>215</td>\n",
       "      <td>PLZ8_ANTG1</td>\n",
       "      <td>-0.150945</td>\n",
       "    </tr>\n",
       "    <tr>\n",
       "      <td>211</td>\n",
       "      <td>MOBI_REGIO</td>\n",
       "      <td>-0.155277</td>\n",
       "    </tr>\n",
       "  </tbody>\n",
       "</table>\n",
       "<p>290 rows × 2 columns</p>\n",
       "</div>"
      ],
      "text/plain": [
       "             Attributes   Weights\n",
       "39   HH_EINKOMMEN_SCORE  0.153005\n",
       "6       CAMEO_DEUG_2015  0.151200\n",
       "217          PLZ8_ANTG3  0.145514\n",
       "218          PLZ8_ANTG4  0.140001\n",
       "219         PLZ8_BAUMAX  0.139414\n",
       "..                  ...       ...\n",
       "57            KBA05_GBZ -0.139179\n",
       "209      LP_STATUS_FEIN -0.142852\n",
       "46          KBA05_ANTG1 -0.148108\n",
       "215          PLZ8_ANTG1 -0.150945\n",
       "211          MOBI_REGIO -0.155277\n",
       "\n",
       "[290 rows x 2 columns]"
      ]
     },
     "execution_count": 92,
     "metadata": {},
     "output_type": "execute_result"
    }
   ],
   "source": [
    "df.sort_values('Weights', ascending=False)"
   ]
  },
  {
   "cell_type": "code",
   "execution_count": 201,
   "metadata": {},
   "outputs": [],
   "source": [
    "# make a function to view the highest and lowest items in each PC\n",
    "def top_components(df_columns, pca_comp, n_pca):\n",
    "    '''\n",
    "    Input\n",
    "        df_columns: base DataFrame with columns names\n",
    "        pca_comp: pca.components\n",
    "        n_values: how many features\n",
    "        \n",
    "    Return\n",
    "        prints head and tail of important Attributes\n",
    "    '''\n",
    "    df = pd.DataFrame({'Attributes':list(df_columns), \n",
    "              'Weights':pca_comp[n_pca]})\n",
    "    \n",
    "    df.sort_values('Weights', ascending=False, inplace=True)\n",
    "    \n",
    "    print(df.head(5))\n",
    "    print('-'*40)\n",
    "    print(df.tail(5))"
   ]
  },
  {
   "cell_type": "markdown",
   "metadata": {},
   "source": [
    "##### Most important attributes for PC 1"
   ]
  },
  {
   "cell_type": "code",
   "execution_count": 202,
   "metadata": {},
   "outputs": [
    {
     "name": "stdout",
     "output_type": "stream",
     "text": [
      "             Attributes   Weights\n",
      "39   HH_EINKOMMEN_SCORE  0.153005\n",
      "6       CAMEO_DEUG_2015  0.151200\n",
      "217          PLZ8_ANTG3  0.145514\n",
      "218          PLZ8_ANTG4  0.140001\n",
      "219         PLZ8_BAUMAX  0.139414\n",
      "----------------------------------------\n",
      "         Attributes   Weights\n",
      "57        KBA05_GBZ -0.139179\n",
      "209  LP_STATUS_FEIN -0.142852\n",
      "46      KBA05_ANTG1 -0.148108\n",
      "215      PLZ8_ANTG1 -0.150945\n",
      "211      MOBI_REGIO -0.155277\n"
     ]
    }
   ],
   "source": [
    "top_components(azdias_sc.columns, pca.components_, 0)"
   ]
  },
  {
   "cell_type": "markdown",
   "metadata": {},
   "source": [
    "The first component is related to wealth, status and houses:\n",
    "- HH_EINKOMMEN_SCORE: estimated household income\n",
    "- CAMEO_DEUG_2015: social status of the individual (upper class -> urban working class)\n",
    "- PLZ8_ANTG1/3/4: number of family houses in the neighborhood\n",
    "- MOBI_REGIO’: moving patterns (high mobility -> very low mobility)\n",
    "- LP_Status_FEIN: social status (typical low-income earners -> top earners)\n"
   ]
  },
  {
   "cell_type": "markdown",
   "metadata": {},
   "source": [
    "##### Most important attributes for PC 2"
   ]
  },
  {
   "cell_type": "code",
   "execution_count": 203,
   "metadata": {},
   "outputs": [
    {
     "name": "stdout",
     "output_type": "stream",
     "text": [
      "                      Attributes   Weights\n",
      "145         KBA13_HERST_BMW_BENZ  0.177528\n",
      "190  KBA13_SEG_OBEREMITTELKLASSE  0.155661\n",
      "115                    KBA13_BMW  0.150668\n",
      "176               KBA13_MERCEDES  0.148630\n",
      "29                      EWDICHTE  0.148098\n",
      "----------------------------------------\n",
      "               Attributes   Weights\n",
      "138       KBA13_HALTER_50 -0.123801\n",
      "139       KBA13_HALTER_55 -0.126007\n",
      "132       KBA13_HALTER_20 -0.133269\n",
      "198         KBA13_SITZE_5 -0.140398\n",
      "104  KBA13_ALTERHALTER_60 -0.141130\n"
     ]
    }
   ],
   "source": [
    "top_components(azdias_sc.columns, pca.components_, 1)"
   ]
  },
  {
   "cell_type": "markdown",
   "metadata": {},
   "source": [
    "the second component is related to cars:\n",
    "- KBA13_HERST_BMW_BENZ: share of BMW & Mercedes Benz within the PLZ8 and the age of the owners\n",
    "- KBA13_SEG_OBERMITTELKLASSE: share of upper middle-class cars and upper-class cars (BMW5er, BMW7er etc.)\n",
    "- KBA13_HALTER_50/55/20: Age of care owner \n"
   ]
  },
  {
   "cell_type": "markdown",
   "metadata": {},
   "source": [
    "##### Most important attributes for PC 3"
   ]
  },
  {
   "cell_type": "code",
   "execution_count": 204,
   "metadata": {},
   "outputs": [
    {
     "name": "stdout",
     "output_type": "stream",
     "text": [
      "                Attributes   Weights\n",
      "212      ONLINE_AFFINITAET  0.209780\n",
      "222  PRAEGENDE_JUGENDJAHRE  0.207522\n",
      "33           FINANZ_SPARER  0.195805\n",
      "13       D19_GESAMT_ANZ_24  0.188159\n",
      "12       D19_GESAMT_ANZ_12  0.182375\n",
      "----------------------------------------\n",
      "                   Attributes   Weights\n",
      "14           D19_GESAMT_DATUM -0.170457\n",
      "26   D19_VERSAND_ONLINE_DATUM -0.170872\n",
      "35           FINANZ_VORSORGER -0.176798\n",
      "16    D19_GESAMT_ONLINE_DATUM -0.179028\n",
      "244      ALTERSKATEGORIE_GROB -0.183153\n"
     ]
    }
   ],
   "source": [
    "top_components(azdias_sc.columns, pca.components_, 2)"
   ]
  },
  {
   "cell_type": "markdown",
   "metadata": {},
   "source": [
    "The third component is related to age, financial decisions and transactions:\n",
    "- PRAEGENDE_JUGENDJAHRE: dominating movement in the person's youth (avantgarde or mainstream)\n",
    "- FINANZ _SPARER: financial typology: money saver (very high -> very low)\n",
    "- D19_GESAMT_ANZ_24: transaction activity TOTAL POOL in the last 24 months (no transaction -> very high activity)\n",
    "- FINANZ_VORSORGER: financial typology be prepared (very high -> very low)\n",
    "- ALTERSKATEGORIE_GROB: age classification through prename analysis\n"
   ]
  },
  {
   "cell_type": "markdown",
   "metadata": {},
   "source": [
    "Now that we reduced the number of dimensions in both datasets and get a brief understanding of the first components, it is time to cluster them to see if there are any differences between the clusters from the general population and the ones from the customers population. To archive this I will use KMeans."
   ]
  },
  {
   "cell_type": "code",
   "execution_count": 100,
   "metadata": {},
   "outputs": [
    {
     "data": {
      "text/plain": [
       "array([[ 0.88698503,  5.94434172,  2.10749447, ..., -1.7276972 ,\n",
       "         3.65125758, -3.39920863],\n",
       "       [-1.68979859,  1.92429061, -1.8845825 , ..., -2.86801134,\n",
       "        -5.92353378, -4.2113686 ],\n",
       "       [-4.68512966, -1.23050606, -4.25094003, ..., -0.49497752,\n",
       "         0.85332784, -1.13897913],\n",
       "       ...,\n",
       "       [-2.92713173, -0.71812957,  2.82613108, ..., -1.41374107,\n",
       "         2.61587406, -3.83583148],\n",
       "       [ 8.62772136, -1.46138914,  3.18909008, ...,  1.07406788,\n",
       "         1.1760768 ,  3.46181332],\n",
       "       [-0.32164296, -0.69732174, -4.01209706, ..., -2.14094175,\n",
       "        -2.96190213,  1.44257911]])"
      ]
     },
     "execution_count": 100,
     "metadata": {},
     "output_type": "execute_result"
    }
   ],
   "source": [
    "population_pca"
   ]
  },
  {
   "cell_type": "code",
   "execution_count": 107,
   "metadata": {},
   "outputs": [
    {
     "name": "stdout",
     "output_type": "stream",
     "text": [
      "1\n",
      "2\n",
      "3\n",
      "4\n",
      "5\n",
      "6\n",
      "7\n",
      "8\n",
      "9\n",
      "10\n"
     ]
    }
   ],
   "source": [
    "# from previous ierations I now the trend of the line, to save time I will only plot to 10\n",
    "kmeans_score=[]\n",
    "for k in np.arange(1, 11, 1):\n",
    "    print(k)\n",
    "    kmean = KMeans(n_clusters=k)\n",
    "    model = kmean.fit(population_pca)\n",
    "    kmeans_score.append(abs(model.score(population_pca)))"
   ]
  },
  {
   "cell_type": "code",
   "execution_count": 171,
   "metadata": {},
   "outputs": [
    {
     "data": {
      "image/png": "[encoded data removed]",
      "text/plain": [
       "<Figure size 720x360 with 1 Axes>"
      ]
     },
     "metadata": {
      "needs_background": "light"
     },
     "output_type": "display_data"
    }
   ],
   "source": [
    "fig = plt.figure(figsize=(10,5))\n",
    "ax = plt.subplot()\n",
    "ax.plot(np.arange(1, 11, 1), kmeans_score, linestyle='--', marker='o')\n",
    "ax.set_ylabel('Inertia')\n",
    "ax.set_xlabel('Number of Clusters')\n",
    "# plt.savefig('number_of_clusters.png', dpi=200, bbox_inches='tight');"
   ]
  },
  {
   "cell_type": "markdown",
   "metadata": {},
   "source": [
    "We can use the 'Elbow'-method to get 'right' number of clusters. A 'Elbow' is defined as the point in the above chart where the decrease in Inertia almost flattens. In my case there isn't a clear 'Elbow' point. 10 seems to be a good choice to have enough clusters to compare against but not to much to add unnecessary complexity.\n",
    "\n",
    "Now we can perform a KMeans-Clustering on both datasets."
   ]
  },
  {
   "cell_type": "code",
   "execution_count": 109,
   "metadata": {},
   "outputs": [],
   "source": [
    "# initiate KMeans and fit to data\n",
    "k_means = KMeans(10)\n",
    "model = k_means.fit(population_pca)"
   ]
  },
  {
   "cell_type": "code",
   "execution_count": 114,
   "metadata": {},
   "outputs": [],
   "source": [
    "pickle.dump(model, open('kmean_model_fit.p', 'wb'))"
   ]
  },
  {
   "cell_type": "code",
   "execution_count": 111,
   "metadata": {},
   "outputs": [],
   "source": [
    "# create DataFrame from the prediction for the population\n",
    "pred_population = model.predict(population_pca)\n",
    "azdias_clustered = pd.DataFrame(pred_population, columns = ['Cluster'])"
   ]
  },
  {
   "cell_type": "code",
   "execution_count": 112,
   "metadata": {},
   "outputs": [],
   "source": [
    "# create DataFrame from the prediction for customers\n",
    "# since we fitted KMeans already, we can just do the prediction\n",
    "pred_customers = model.predict(customers_pca)\n",
    "customers_clustered = pd.DataFrame(pred_customers, columns=['Cluster'])"
   ]
  },
  {
   "cell_type": "markdown",
   "metadata": {},
   "source": [
    "##### count the number of times each cluster is represented in each population"
   ]
  },
  {
   "cell_type": "code",
   "execution_count": 115,
   "metadata": {},
   "outputs": [],
   "source": [
    "azdias_vals = azdias_clustered['Cluster'].value_counts().sort_index().values"
   ]
  },
  {
   "cell_type": "code",
   "execution_count": 116,
   "metadata": {},
   "outputs": [],
   "source": [
    "customers_vals = customers_clustered['Cluster'].value_counts().sort_index().values"
   ]
  },
  {
   "cell_type": "code",
   "execution_count": 117,
   "metadata": {},
   "outputs": [],
   "source": [
    "result_clusters = pd.concat([pd.Series(azdias_vals), pd.Series(customers_vals)], axis=1)"
   ]
  },
  {
   "cell_type": "code",
   "execution_count": 118,
   "metadata": {},
   "outputs": [
    {
     "data": {
      "text/html": [
       "<div>\n",
       "<style scoped>\n",
       "    .dataframe tbody tr th:only-of-type {\n",
       "        vertical-align: middle;\n",
       "    }\n",
       "\n",
       "    .dataframe tbody tr th {\n",
       "        vertical-align: top;\n",
       "    }\n",
       "\n",
       "    .dataframe thead th {\n",
       "        text-align: right;\n",
       "    }\n",
       "</style>\n",
       "<table border=\"1\" class=\"dataframe\">\n",
       "  <thead>\n",
       "    <tr style=\"text-align: right;\">\n",
       "      <th></th>\n",
       "      <th>0</th>\n",
       "      <th>1</th>\n",
       "    </tr>\n",
       "  </thead>\n",
       "  <tbody>\n",
       "    <tr>\n",
       "      <td>0</td>\n",
       "      <td>107179</td>\n",
       "      <td>40696</td>\n",
       "    </tr>\n",
       "    <tr>\n",
       "      <td>1</td>\n",
       "      <td>44743</td>\n",
       "      <td>3761</td>\n",
       "    </tr>\n",
       "    <tr>\n",
       "      <td>2</td>\n",
       "      <td>83035</td>\n",
       "      <td>16283</td>\n",
       "    </tr>\n",
       "    <tr>\n",
       "      <td>3</td>\n",
       "      <td>94696</td>\n",
       "      <td>48745</td>\n",
       "    </tr>\n",
       "    <tr>\n",
       "      <td>4</td>\n",
       "      <td>62288</td>\n",
       "      <td>7160</td>\n",
       "    </tr>\n",
       "    <tr>\n",
       "      <td>5</td>\n",
       "      <td>55324</td>\n",
       "      <td>2804</td>\n",
       "    </tr>\n",
       "    <tr>\n",
       "      <td>6</td>\n",
       "      <td>52431</td>\n",
       "      <td>4310</td>\n",
       "    </tr>\n",
       "    <tr>\n",
       "      <td>7</td>\n",
       "      <td>74018</td>\n",
       "      <td>1530</td>\n",
       "    </tr>\n",
       "    <tr>\n",
       "      <td>8</td>\n",
       "      <td>74878</td>\n",
       "      <td>36951</td>\n",
       "    </tr>\n",
       "    <tr>\n",
       "      <td>9</td>\n",
       "      <td>88696</td>\n",
       "      <td>29412</td>\n",
       "    </tr>\n",
       "  </tbody>\n",
       "</table>\n",
       "</div>"
      ],
      "text/plain": [
       "        0      1\n",
       "0  107179  40696\n",
       "1   44743   3761\n",
       "2   83035  16283\n",
       "3   94696  48745\n",
       "4   62288   7160\n",
       "5   55324   2804\n",
       "6   52431   4310\n",
       "7   74018   1530\n",
       "8   74878  36951\n",
       "9   88696  29412"
      ]
     },
     "execution_count": 118,
     "metadata": {},
     "output_type": "execute_result"
    }
   ],
   "source": [
    "result_clusters"
   ]
  },
  {
   "cell_type": "code",
   "execution_count": 119,
   "metadata": {},
   "outputs": [],
   "source": [
    "result_clusters.rename(columns={0:'population', 1:'customers'}, inplace=True)"
   ]
  },
  {
   "cell_type": "code",
   "execution_count": 120,
   "metadata": {},
   "outputs": [
    {
     "data": {
      "text/html": [
       "<div>\n",
       "<style scoped>\n",
       "    .dataframe tbody tr th:only-of-type {\n",
       "        vertical-align: middle;\n",
       "    }\n",
       "\n",
       "    .dataframe tbody tr th {\n",
       "        vertical-align: top;\n",
       "    }\n",
       "\n",
       "    .dataframe thead th {\n",
       "        text-align: right;\n",
       "    }\n",
       "</style>\n",
       "<table border=\"1\" class=\"dataframe\">\n",
       "  <thead>\n",
       "    <tr style=\"text-align: right;\">\n",
       "      <th></th>\n",
       "      <th>population</th>\n",
       "      <th>customers</th>\n",
       "    </tr>\n",
       "  </thead>\n",
       "  <tbody>\n",
       "    <tr>\n",
       "      <td>0</td>\n",
       "      <td>107179</td>\n",
       "      <td>40696</td>\n",
       "    </tr>\n",
       "    <tr>\n",
       "      <td>1</td>\n",
       "      <td>44743</td>\n",
       "      <td>3761</td>\n",
       "    </tr>\n",
       "    <tr>\n",
       "      <td>2</td>\n",
       "      <td>83035</td>\n",
       "      <td>16283</td>\n",
       "    </tr>\n",
       "    <tr>\n",
       "      <td>3</td>\n",
       "      <td>94696</td>\n",
       "      <td>48745</td>\n",
       "    </tr>\n",
       "    <tr>\n",
       "      <td>4</td>\n",
       "      <td>62288</td>\n",
       "      <td>7160</td>\n",
       "    </tr>\n",
       "    <tr>\n",
       "      <td>5</td>\n",
       "      <td>55324</td>\n",
       "      <td>2804</td>\n",
       "    </tr>\n",
       "    <tr>\n",
       "      <td>6</td>\n",
       "      <td>52431</td>\n",
       "      <td>4310</td>\n",
       "    </tr>\n",
       "    <tr>\n",
       "      <td>7</td>\n",
       "      <td>74018</td>\n",
       "      <td>1530</td>\n",
       "    </tr>\n",
       "    <tr>\n",
       "      <td>8</td>\n",
       "      <td>74878</td>\n",
       "      <td>36951</td>\n",
       "    </tr>\n",
       "    <tr>\n",
       "      <td>9</td>\n",
       "      <td>88696</td>\n",
       "      <td>29412</td>\n",
       "    </tr>\n",
       "  </tbody>\n",
       "</table>\n",
       "</div>"
      ],
      "text/plain": [
       "   population  customers\n",
       "0      107179      40696\n",
       "1       44743       3761\n",
       "2       83035      16283\n",
       "3       94696      48745\n",
       "4       62288       7160\n",
       "5       55324       2804\n",
       "6       52431       4310\n",
       "7       74018       1530\n",
       "8       74878      36951\n",
       "9       88696      29412"
      ]
     },
     "execution_count": 120,
     "metadata": {},
     "output_type": "execute_result"
    }
   ],
   "source": [
    "result_clusters"
   ]
  },
  {
   "cell_type": "code",
   "execution_count": 121,
   "metadata": {},
   "outputs": [],
   "source": [
    "# create column for proportion\n",
    "result_clusters['population_pop'] = result_clusters['population']*100/result_clusters['population'].sum()\n",
    "result_clusters['customers_pop'] = result_clusters['customers']*100/result_clusters['customers'].sum()"
   ]
  },
  {
   "cell_type": "code",
   "execution_count": 122,
   "metadata": {},
   "outputs": [
    {
     "data": {
      "text/html": [
       "<div>\n",
       "<style scoped>\n",
       "    .dataframe tbody tr th:only-of-type {\n",
       "        vertical-align: middle;\n",
       "    }\n",
       "\n",
       "    .dataframe tbody tr th {\n",
       "        vertical-align: top;\n",
       "    }\n",
       "\n",
       "    .dataframe thead th {\n",
       "        text-align: right;\n",
       "    }\n",
       "</style>\n",
       "<table border=\"1\" class=\"dataframe\">\n",
       "  <thead>\n",
       "    <tr style=\"text-align: right;\">\n",
       "      <th></th>\n",
       "      <th>population</th>\n",
       "      <th>customers</th>\n",
       "      <th>population_pop</th>\n",
       "      <th>customers_pop</th>\n",
       "    </tr>\n",
       "  </thead>\n",
       "  <tbody>\n",
       "    <tr>\n",
       "      <td>0</td>\n",
       "      <td>107179</td>\n",
       "      <td>40696</td>\n",
       "      <td>14.536925</td>\n",
       "      <td>21.234321</td>\n",
       "    </tr>\n",
       "    <tr>\n",
       "      <td>1</td>\n",
       "      <td>44743</td>\n",
       "      <td>3761</td>\n",
       "      <td>6.068592</td>\n",
       "      <td>1.962411</td>\n",
       "    </tr>\n",
       "    <tr>\n",
       "      <td>2</td>\n",
       "      <td>83035</td>\n",
       "      <td>16283</td>\n",
       "      <td>11.262220</td>\n",
       "      <td>8.496128</td>\n",
       "    </tr>\n",
       "    <tr>\n",
       "      <td>3</td>\n",
       "      <td>94696</td>\n",
       "      <td>48745</td>\n",
       "      <td>12.843828</td>\n",
       "      <td>25.434120</td>\n",
       "    </tr>\n",
       "    <tr>\n",
       "      <td>4</td>\n",
       "      <td>62288</td>\n",
       "      <td>7160</td>\n",
       "      <td>8.448259</td>\n",
       "      <td>3.735938</td>\n",
       "    </tr>\n",
       "    <tr>\n",
       "      <td>5</td>\n",
       "      <td>55324</td>\n",
       "      <td>2804</td>\n",
       "      <td>7.503716</td>\n",
       "      <td>1.463068</td>\n",
       "    </tr>\n",
       "    <tr>\n",
       "      <td>6</td>\n",
       "      <td>52431</td>\n",
       "      <td>4310</td>\n",
       "      <td>7.111332</td>\n",
       "      <td>2.248868</td>\n",
       "    </tr>\n",
       "    <tr>\n",
       "      <td>7</td>\n",
       "      <td>74018</td>\n",
       "      <td>1530</td>\n",
       "      <td>10.039225</td>\n",
       "      <td>0.798322</td>\n",
       "    </tr>\n",
       "    <tr>\n",
       "      <td>8</td>\n",
       "      <td>74878</td>\n",
       "      <td>36951</td>\n",
       "      <td>10.155869</td>\n",
       "      <td>19.280258</td>\n",
       "    </tr>\n",
       "    <tr>\n",
       "      <td>9</td>\n",
       "      <td>88696</td>\n",
       "      <td>29412</td>\n",
       "      <td>12.030034</td>\n",
       "      <td>15.346566</td>\n",
       "    </tr>\n",
       "  </tbody>\n",
       "</table>\n",
       "</div>"
      ],
      "text/plain": [
       "   population  customers  population_pop  customers_pop\n",
       "0      107179      40696       14.536925      21.234321\n",
       "1       44743       3761        6.068592       1.962411\n",
       "2       83035      16283       11.262220       8.496128\n",
       "3       94696      48745       12.843828      25.434120\n",
       "4       62288       7160        8.448259       3.735938\n",
       "5       55324       2804        7.503716       1.463068\n",
       "6       52431       4310        7.111332       2.248868\n",
       "7       74018       1530       10.039225       0.798322\n",
       "8       74878      36951       10.155869      19.280258\n",
       "9       88696      29412       12.030034      15.346566"
      ]
     },
     "execution_count": 122,
     "metadata": {},
     "output_type": "execute_result"
    }
   ],
   "source": [
    "result_clusters"
   ]
  },
  {
   "cell_type": "code",
   "execution_count": 172,
   "metadata": {},
   "outputs": [
    {
     "data": {
      "image/png": "[encoded data removed]",
      "text/plain": [
       "<Figure size 720x432 with 1 Axes>"
      ]
     },
     "metadata": {
      "needs_background": "light"
     },
     "output_type": "display_data"
    }
   ],
   "source": [
    "fig = plt.figure(figsize=(10,6))\n",
    "\n",
    "ax = plt.subplot(111)\n",
    "\n",
    "ax.bar(result_clusters.index-0.1, height=result_clusters['population_pop'], width=0.2, color='b', align='center')\n",
    "ax.bar(result_clusters.index+0.1, height=result_clusters['customers_pop'], width=0.2, color='g', align='center')\n",
    "\n",
    "plt.legend(('Population', 'Customer'))\n",
    "ax.set_ylabel('Proportion of each cluster in %')\n",
    "ax.set_xlabel('Clusters')\n",
    "plt.title('Comparision of identified clusters for the population and the customers')\n",
    "plt.savefig('cluster_comp.png', dpi=200, bbox_inches='tight');"
   ]
  },
  {
   "cell_type": "markdown",
   "metadata": {},
   "source": [
    "It is clear to see that almost every cluster differentiate between the customers and the general population. For customers the clusters 3, 8 and 0 are the ones that differentiate the most and for the general population its  cluster 7, 5 and 6."
   ]
  },
  {
   "cell_type": "markdown",
   "metadata": {},
   "source": [
    "I was stuck comparing the relevant clusters. The following code is from the here: https://github.com/Nokaido/Capstone_Project/blob/master/Arvato%20Project%20Workbook_own.ipynb.\n",
    "\n",
    "I edited to function to fit my needs and added a docstring."
   ]
  },
  {
   "cell_type": "code",
   "execution_count": 156,
   "metadata": {},
   "outputs": [],
   "source": [
    "def plot_scaled_comparison(df_sample, model, cluster):\n",
    "    '''\n",
    "    helper function for plotting the relevant attributes for each cluster\n",
    "    \n",
    "    Input\n",
    "        df_sample: DataFrame with the names for the attributes \n",
    "        model: fitted kmeans model \n",
    "        cluster: number of the cluster\n",
    "        \n",
    "    Return\n",
    "        splits Dataframe to get the first and last 5 values \n",
    "    '''\n",
    "    X = pd.DataFrame.from_dict(dict(zip(df_sample.columns,\n",
    "                                        pca.inverse_transform(model.cluster_centers_[cluster]))),\n",
    "                               orient='index').rename(columns={0: 'feature_values'}).sort_values('feature_values',\n",
    "                                                                                                 ascending=False)\n",
    "    X['feature_values_abs'] = abs(X['feature_values'])\n",
    "    pd.concat((X['feature_values'][:5], X['feature_values'][-5:]), axis=0).plot(kind='barh');"
   ]
  },
  {
   "cell_type": "code",
   "execution_count": 200,
   "metadata": {},
   "outputs": [],
   "source": [
    "def plot_cluster(df, model, cluster, title, name_of_picture):\n",
    "    '''\n",
    "    plots the relevant attributes for each cluster \n",
    "    \n",
    "    Input\n",
    "        df: DataFrame with the names for the attributes \n",
    "        model: fitted kmeans model \n",
    "        cluster: number of relevant clusters\n",
    "        title: Name of the dataframe for the visualizations\n",
    "        name_of_picture: name to save the file\n",
    "    '''\n",
    "    \n",
    "    plt.figure(figsize=(10, 5))\n",
    "    plot_scaled_comparison(df, model, cluster)\n",
    "    plt.title(title + ' cluster ' + str(cluster))\n",
    "    plt.savefig(name_of_picture, dpi=200, bbox_inches='tight')\n",
    "    plt.show()"
   ]
  },
  {
   "cell_type": "code",
   "execution_count": 190,
   "metadata": {},
   "outputs": [
    {
     "data": {
      "image/png": "[encoded data removed]",
      "text/plain": [
       "<Figure size 720x360 with 1 Axes>"
      ]
     },
     "metadata": {
      "needs_background": "light"
     },
     "output_type": "display_data"
    }
   ],
   "source": [
    "plot_cluster(azdias, model, 3, 'Custumer', 'cluster_3.png')"
   ]
  },
  {
   "cell_type": "markdown",
   "metadata": {},
   "source": [
    "This individual :\n",
    "- Lives in an area with mostly family homes and low unemployment\n",
    "- Has a higher affinity for a fightfull attitude and is financial prepared.\n",
    "- But he has low financial interest, is not an investor and not got with saving money\n",
    "- Not really cultural minded, not an investor "
   ]
  },
  {
   "cell_type": "code",
   "execution_count": 191,
   "metadata": {},
   "outputs": [
    {
     "data": {
      "image/png": "[encoded data removed]",
      "text/plain": [
       "<Figure size 720x360 with 1 Axes>"
      ]
     },
     "metadata": {
      "needs_background": "light"
     },
     "output_type": "display_data"
    }
   ],
   "source": [
    "plot_cluster(azdias, model, 8, 'Custumer', 'cluster_8.png')"
   ]
  },
  {
   "cell_type": "code",
   "execution_count": 192,
   "metadata": {},
   "outputs": [
    {
     "data": {
      "image/png": "[encoded data removed]",
      "text/plain": [
       "<Figure size 720x360 with 1 Axes>"
      ]
     },
     "metadata": {
      "needs_background": "light"
     },
     "output_type": "display_data"
    }
   ],
   "source": [
    "plot_cluster(azdias, model, 0, 'Custumer', 'cluster_0.png')"
   ]
  },
  {
   "cell_type": "code",
   "execution_count": null,
   "metadata": {},
   "outputs": [],
   "source": []
  },
  {
   "cell_type": "code",
   "execution_count": 196,
   "metadata": {},
   "outputs": [
    {
     "data": {
      "image/png": "[encoded data removed]",
      "text/plain": [
       "<Figure size 720x360 with 1 Axes>"
      ]
     },
     "metadata": {
      "needs_background": "light"
     },
     "output_type": "display_data"
    }
   ],
   "source": [
    "plot_cluster(azdias, model, 7, 'Custumer', 'cluster_7.png')"
   ]
  },
  {
   "cell_type": "code",
   "execution_count": 197,
   "metadata": {},
   "outputs": [
    {
     "data": {
      "image/png": "[encoded data removed]",
      "text/plain": [
       "<Figure size 720x360 with 1 Axes>"
      ]
     },
     "metadata": {
      "needs_background": "light"
     },
     "output_type": "display_data"
    }
   ],
   "source": [
    "plot_cluster(azdias, model, 5, 'Custumer', 'cluster_5.png')"
   ]
  },
  {
   "cell_type": "code",
   "execution_count": 199,
   "metadata": {},
   "outputs": [
    {
     "data": {
      "image/png": "[encoded data removed]",
      "text/plain": [
       "<Figure size 720x360 with 1 Axes>"
      ]
     },
     "metadata": {
      "needs_background": "light"
     },
     "output_type": "display_data"
    }
   ],
   "source": [
    "plot_cluster(azdias, model, 6, 'Custumer', 'cluster_6.png')"
   ]
  },
  {
   "cell_type": "markdown",
   "metadata": {},
   "source": [
    "<a id='part2'></a>\n",
    "## Part 2: Supervised Learning Model\n",
    "\n",
    "Now that you've found which parts of the population are more likely to be customers of the mail-order company, it's time to build a prediction model. Each of the rows in the \"MAILOUT\" data files represents an individual that was targeted for a mailout campaign. Ideally, we should be able to use the demographic information from each individual to decide whether or not it will be worth it to include that person in the campaign.\n",
    "\n",
    "The \"MAILOUT\" data has been split into two approximately equal parts, each with almost 43 000 data rows. In this part, you can verify your model with the \"TRAIN\" partition, which includes a column, \"RESPONSE\", that states whether or not a person became a customer of the company following the campaign. In the next part, you'll need to create predictions on the \"TEST\" partition, where the \"RESPONSE\" column has been withheld."
   ]
  },
  {
   "cell_type": "code",
   "execution_count": 58,
   "metadata": {},
   "outputs": [],
   "source": [
    "# read both datasets to make sure that the columns are euqal \n",
    "mailout_train = pd.read_csv('data/Udacity_MAILOUT_052018_TRAIN.csv', sep=';')\n",
    "mailout_test = pd.read_csv('data/Udacity_MAILOUT_052018_TEST.csv', sep=';')"
   ]
  },
  {
   "cell_type": "code",
   "execution_count": 59,
   "metadata": {},
   "outputs": [
    {
     "data": {
      "text/html": [
       "<div>\n",
       "<style scoped>\n",
       "    .dataframe tbody tr th:only-of-type {\n",
       "        vertical-align: middle;\n",
       "    }\n",
       "\n",
       "    .dataframe tbody tr th {\n",
       "        vertical-align: top;\n",
       "    }\n",
       "\n",
       "    .dataframe thead th {\n",
       "        text-align: right;\n",
       "    }\n",
       "</style>\n",
       "<table border=\"1\" class=\"dataframe\">\n",
       "  <thead>\n",
       "    <tr style=\"text-align: right;\">\n",
       "      <th></th>\n",
       "      <th>LNR</th>\n",
       "      <th>AGER_TYP</th>\n",
       "      <th>AKT_DAT_KL</th>\n",
       "      <th>ALTER_HH</th>\n",
       "      <th>ALTER_KIND1</th>\n",
       "      <th>ALTER_KIND2</th>\n",
       "      <th>ALTER_KIND3</th>\n",
       "      <th>ALTER_KIND4</th>\n",
       "      <th>ALTERSKATEGORIE_FEIN</th>\n",
       "      <th>ANZ_HAUSHALTE_AKTIV</th>\n",
       "      <th>...</th>\n",
       "      <th>VK_DHT4A</th>\n",
       "      <th>VK_DISTANZ</th>\n",
       "      <th>VK_ZG11</th>\n",
       "      <th>W_KEIT_KIND_HH</th>\n",
       "      <th>WOHNDAUER_2008</th>\n",
       "      <th>WOHNLAGE</th>\n",
       "      <th>ZABEOTYP</th>\n",
       "      <th>RESPONSE</th>\n",
       "      <th>ANREDE_KZ</th>\n",
       "      <th>ALTERSKATEGORIE_GROB</th>\n",
       "    </tr>\n",
       "  </thead>\n",
       "  <tbody>\n",
       "    <tr>\n",
       "      <td>0</td>\n",
       "      <td>1763</td>\n",
       "      <td>2</td>\n",
       "      <td>1.0</td>\n",
       "      <td>8.0</td>\n",
       "      <td>NaN</td>\n",
       "      <td>NaN</td>\n",
       "      <td>NaN</td>\n",
       "      <td>NaN</td>\n",
       "      <td>8.0</td>\n",
       "      <td>15.0</td>\n",
       "      <td>...</td>\n",
       "      <td>5.0</td>\n",
       "      <td>2.0</td>\n",
       "      <td>1.0</td>\n",
       "      <td>6.0</td>\n",
       "      <td>9.0</td>\n",
       "      <td>3.0</td>\n",
       "      <td>3</td>\n",
       "      <td>0</td>\n",
       "      <td>2</td>\n",
       "      <td>4</td>\n",
       "    </tr>\n",
       "    <tr>\n",
       "      <td>1</td>\n",
       "      <td>1771</td>\n",
       "      <td>1</td>\n",
       "      <td>4.0</td>\n",
       "      <td>13.0</td>\n",
       "      <td>NaN</td>\n",
       "      <td>NaN</td>\n",
       "      <td>NaN</td>\n",
       "      <td>NaN</td>\n",
       "      <td>13.0</td>\n",
       "      <td>1.0</td>\n",
       "      <td>...</td>\n",
       "      <td>1.0</td>\n",
       "      <td>2.0</td>\n",
       "      <td>1.0</td>\n",
       "      <td>4.0</td>\n",
       "      <td>9.0</td>\n",
       "      <td>7.0</td>\n",
       "      <td>1</td>\n",
       "      <td>0</td>\n",
       "      <td>2</td>\n",
       "      <td>3</td>\n",
       "    </tr>\n",
       "    <tr>\n",
       "      <td>2</td>\n",
       "      <td>1776</td>\n",
       "      <td>1</td>\n",
       "      <td>1.0</td>\n",
       "      <td>9.0</td>\n",
       "      <td>NaN</td>\n",
       "      <td>NaN</td>\n",
       "      <td>NaN</td>\n",
       "      <td>NaN</td>\n",
       "      <td>7.0</td>\n",
       "      <td>0.0</td>\n",
       "      <td>...</td>\n",
       "      <td>6.0</td>\n",
       "      <td>4.0</td>\n",
       "      <td>2.0</td>\n",
       "      <td>NaN</td>\n",
       "      <td>9.0</td>\n",
       "      <td>2.0</td>\n",
       "      <td>3</td>\n",
       "      <td>0</td>\n",
       "      <td>1</td>\n",
       "      <td>4</td>\n",
       "    </tr>\n",
       "    <tr>\n",
       "      <td>3</td>\n",
       "      <td>1460</td>\n",
       "      <td>2</td>\n",
       "      <td>1.0</td>\n",
       "      <td>6.0</td>\n",
       "      <td>NaN</td>\n",
       "      <td>NaN</td>\n",
       "      <td>NaN</td>\n",
       "      <td>NaN</td>\n",
       "      <td>6.0</td>\n",
       "      <td>4.0</td>\n",
       "      <td>...</td>\n",
       "      <td>8.0</td>\n",
       "      <td>11.0</td>\n",
       "      <td>11.0</td>\n",
       "      <td>6.0</td>\n",
       "      <td>9.0</td>\n",
       "      <td>1.0</td>\n",
       "      <td>3</td>\n",
       "      <td>0</td>\n",
       "      <td>2</td>\n",
       "      <td>4</td>\n",
       "    </tr>\n",
       "    <tr>\n",
       "      <td>4</td>\n",
       "      <td>1783</td>\n",
       "      <td>2</td>\n",
       "      <td>1.0</td>\n",
       "      <td>9.0</td>\n",
       "      <td>NaN</td>\n",
       "      <td>NaN</td>\n",
       "      <td>NaN</td>\n",
       "      <td>NaN</td>\n",
       "      <td>9.0</td>\n",
       "      <td>53.0</td>\n",
       "      <td>...</td>\n",
       "      <td>2.0</td>\n",
       "      <td>2.0</td>\n",
       "      <td>1.0</td>\n",
       "      <td>6.0</td>\n",
       "      <td>9.0</td>\n",
       "      <td>3.0</td>\n",
       "      <td>3</td>\n",
       "      <td>0</td>\n",
       "      <td>1</td>\n",
       "      <td>3</td>\n",
       "    </tr>\n",
       "  </tbody>\n",
       "</table>\n",
       "<p>5 rows × 367 columns</p>\n",
       "</div>"
      ],
      "text/plain": [
       "    LNR  AGER_TYP  AKT_DAT_KL  ALTER_HH  ALTER_KIND1  ALTER_KIND2  \\\n",
       "0  1763         2         1.0       8.0          NaN          NaN   \n",
       "1  1771         1         4.0      13.0          NaN          NaN   \n",
       "2  1776         1         1.0       9.0          NaN          NaN   \n",
       "3  1460         2         1.0       6.0          NaN          NaN   \n",
       "4  1783         2         1.0       9.0          NaN          NaN   \n",
       "\n",
       "   ALTER_KIND3  ALTER_KIND4  ALTERSKATEGORIE_FEIN  ANZ_HAUSHALTE_AKTIV  ...  \\\n",
       "0          NaN          NaN                   8.0                 15.0  ...   \n",
       "1          NaN          NaN                  13.0                  1.0  ...   \n",
       "2          NaN          NaN                   7.0                  0.0  ...   \n",
       "3          NaN          NaN                   6.0                  4.0  ...   \n",
       "4          NaN          NaN                   9.0                 53.0  ...   \n",
       "\n",
       "   VK_DHT4A  VK_DISTANZ  VK_ZG11  W_KEIT_KIND_HH  WOHNDAUER_2008  WOHNLAGE  \\\n",
       "0       5.0         2.0      1.0             6.0             9.0       3.0   \n",
       "1       1.0         2.0      1.0             4.0             9.0       7.0   \n",
       "2       6.0         4.0      2.0             NaN             9.0       2.0   \n",
       "3       8.0        11.0     11.0             6.0             9.0       1.0   \n",
       "4       2.0         2.0      1.0             6.0             9.0       3.0   \n",
       "\n",
       "   ZABEOTYP RESPONSE ANREDE_KZ ALTERSKATEGORIE_GROB  \n",
       "0         3        0         2                    4  \n",
       "1         1        0         2                    3  \n",
       "2         3        0         1                    4  \n",
       "3         3        0         2                    4  \n",
       "4         3        0         1                    3  \n",
       "\n",
       "[5 rows x 367 columns]"
      ]
     },
     "execution_count": 59,
     "metadata": {},
     "output_type": "execute_result"
    }
   ],
   "source": [
    "mailout_train.head()"
   ]
  },
  {
   "cell_type": "code",
   "execution_count": 60,
   "metadata": {},
   "outputs": [
    {
     "data": {
      "text/html": [
       "<div>\n",
       "<style scoped>\n",
       "    .dataframe tbody tr th:only-of-type {\n",
       "        vertical-align: middle;\n",
       "    }\n",
       "\n",
       "    .dataframe tbody tr th {\n",
       "        vertical-align: top;\n",
       "    }\n",
       "\n",
       "    .dataframe thead th {\n",
       "        text-align: right;\n",
       "    }\n",
       "</style>\n",
       "<table border=\"1\" class=\"dataframe\">\n",
       "  <thead>\n",
       "    <tr style=\"text-align: right;\">\n",
       "      <th></th>\n",
       "      <th>LNR</th>\n",
       "      <th>AGER_TYP</th>\n",
       "      <th>AKT_DAT_KL</th>\n",
       "      <th>ALTER_HH</th>\n",
       "      <th>ALTER_KIND1</th>\n",
       "      <th>ALTER_KIND2</th>\n",
       "      <th>ALTER_KIND3</th>\n",
       "      <th>ALTER_KIND4</th>\n",
       "      <th>ALTERSKATEGORIE_FEIN</th>\n",
       "      <th>ANZ_HAUSHALTE_AKTIV</th>\n",
       "      <th>...</th>\n",
       "      <th>VHN</th>\n",
       "      <th>VK_DHT4A</th>\n",
       "      <th>VK_DISTANZ</th>\n",
       "      <th>VK_ZG11</th>\n",
       "      <th>W_KEIT_KIND_HH</th>\n",
       "      <th>WOHNDAUER_2008</th>\n",
       "      <th>WOHNLAGE</th>\n",
       "      <th>ZABEOTYP</th>\n",
       "      <th>ANREDE_KZ</th>\n",
       "      <th>ALTERSKATEGORIE_GROB</th>\n",
       "    </tr>\n",
       "  </thead>\n",
       "  <tbody>\n",
       "    <tr>\n",
       "      <td>0</td>\n",
       "      <td>1754</td>\n",
       "      <td>2</td>\n",
       "      <td>1.0</td>\n",
       "      <td>7.0</td>\n",
       "      <td>NaN</td>\n",
       "      <td>NaN</td>\n",
       "      <td>NaN</td>\n",
       "      <td>NaN</td>\n",
       "      <td>6.0</td>\n",
       "      <td>2.0</td>\n",
       "      <td>...</td>\n",
       "      <td>4.0</td>\n",
       "      <td>5.0</td>\n",
       "      <td>6.0</td>\n",
       "      <td>3.0</td>\n",
       "      <td>6.0</td>\n",
       "      <td>9.0</td>\n",
       "      <td>3.0</td>\n",
       "      <td>3</td>\n",
       "      <td>1</td>\n",
       "      <td>4</td>\n",
       "    </tr>\n",
       "    <tr>\n",
       "      <td>1</td>\n",
       "      <td>1770</td>\n",
       "      <td>-1</td>\n",
       "      <td>1.0</td>\n",
       "      <td>0.0</td>\n",
       "      <td>NaN</td>\n",
       "      <td>NaN</td>\n",
       "      <td>NaN</td>\n",
       "      <td>NaN</td>\n",
       "      <td>0.0</td>\n",
       "      <td>20.0</td>\n",
       "      <td>...</td>\n",
       "      <td>1.0</td>\n",
       "      <td>5.0</td>\n",
       "      <td>2.0</td>\n",
       "      <td>1.0</td>\n",
       "      <td>6.0</td>\n",
       "      <td>9.0</td>\n",
       "      <td>5.0</td>\n",
       "      <td>3</td>\n",
       "      <td>1</td>\n",
       "      <td>4</td>\n",
       "    </tr>\n",
       "    <tr>\n",
       "      <td>2</td>\n",
       "      <td>1465</td>\n",
       "      <td>2</td>\n",
       "      <td>9.0</td>\n",
       "      <td>16.0</td>\n",
       "      <td>NaN</td>\n",
       "      <td>NaN</td>\n",
       "      <td>NaN</td>\n",
       "      <td>NaN</td>\n",
       "      <td>11.0</td>\n",
       "      <td>2.0</td>\n",
       "      <td>...</td>\n",
       "      <td>3.0</td>\n",
       "      <td>9.0</td>\n",
       "      <td>6.0</td>\n",
       "      <td>3.0</td>\n",
       "      <td>2.0</td>\n",
       "      <td>9.0</td>\n",
       "      <td>4.0</td>\n",
       "      <td>3</td>\n",
       "      <td>2</td>\n",
       "      <td>4</td>\n",
       "    </tr>\n",
       "    <tr>\n",
       "      <td>3</td>\n",
       "      <td>1470</td>\n",
       "      <td>-1</td>\n",
       "      <td>7.0</td>\n",
       "      <td>0.0</td>\n",
       "      <td>NaN</td>\n",
       "      <td>NaN</td>\n",
       "      <td>NaN</td>\n",
       "      <td>NaN</td>\n",
       "      <td>0.0</td>\n",
       "      <td>1.0</td>\n",
       "      <td>...</td>\n",
       "      <td>2.0</td>\n",
       "      <td>6.0</td>\n",
       "      <td>6.0</td>\n",
       "      <td>3.0</td>\n",
       "      <td>NaN</td>\n",
       "      <td>9.0</td>\n",
       "      <td>2.0</td>\n",
       "      <td>3</td>\n",
       "      <td>2</td>\n",
       "      <td>4</td>\n",
       "    </tr>\n",
       "    <tr>\n",
       "      <td>4</td>\n",
       "      <td>1478</td>\n",
       "      <td>1</td>\n",
       "      <td>1.0</td>\n",
       "      <td>21.0</td>\n",
       "      <td>NaN</td>\n",
       "      <td>NaN</td>\n",
       "      <td>NaN</td>\n",
       "      <td>NaN</td>\n",
       "      <td>13.0</td>\n",
       "      <td>1.0</td>\n",
       "      <td>...</td>\n",
       "      <td>1.0</td>\n",
       "      <td>2.0</td>\n",
       "      <td>4.0</td>\n",
       "      <td>3.0</td>\n",
       "      <td>3.0</td>\n",
       "      <td>9.0</td>\n",
       "      <td>7.0</td>\n",
       "      <td>4</td>\n",
       "      <td>2</td>\n",
       "      <td>4</td>\n",
       "    </tr>\n",
       "  </tbody>\n",
       "</table>\n",
       "<p>5 rows × 366 columns</p>\n",
       "</div>"
      ],
      "text/plain": [
       "    LNR  AGER_TYP  AKT_DAT_KL  ALTER_HH  ALTER_KIND1  ALTER_KIND2  \\\n",
       "0  1754         2         1.0       7.0          NaN          NaN   \n",
       "1  1770        -1         1.0       0.0          NaN          NaN   \n",
       "2  1465         2         9.0      16.0          NaN          NaN   \n",
       "3  1470        -1         7.0       0.0          NaN          NaN   \n",
       "4  1478         1         1.0      21.0          NaN          NaN   \n",
       "\n",
       "   ALTER_KIND3  ALTER_KIND4  ALTERSKATEGORIE_FEIN  ANZ_HAUSHALTE_AKTIV  ...  \\\n",
       "0          NaN          NaN                   6.0                  2.0  ...   \n",
       "1          NaN          NaN                   0.0                 20.0  ...   \n",
       "2          NaN          NaN                  11.0                  2.0  ...   \n",
       "3          NaN          NaN                   0.0                  1.0  ...   \n",
       "4          NaN          NaN                  13.0                  1.0  ...   \n",
       "\n",
       "   VHN  VK_DHT4A  VK_DISTANZ  VK_ZG11  W_KEIT_KIND_HH  WOHNDAUER_2008  \\\n",
       "0  4.0       5.0         6.0      3.0             6.0             9.0   \n",
       "1  1.0       5.0         2.0      1.0             6.0             9.0   \n",
       "2  3.0       9.0         6.0      3.0             2.0             9.0   \n",
       "3  2.0       6.0         6.0      3.0             NaN             9.0   \n",
       "4  1.0       2.0         4.0      3.0             3.0             9.0   \n",
       "\n",
       "   WOHNLAGE ZABEOTYP ANREDE_KZ ALTERSKATEGORIE_GROB  \n",
       "0       3.0        3         1                    4  \n",
       "1       5.0        3         1                    4  \n",
       "2       4.0        3         2                    4  \n",
       "3       2.0        3         2                    4  \n",
       "4       7.0        4         2                    4  \n",
       "\n",
       "[5 rows x 366 columns]"
      ]
     },
     "execution_count": 60,
     "metadata": {},
     "output_type": "execute_result"
    }
   ],
   "source": [
    "mailout_test.head()"
   ]
  },
  {
   "cell_type": "markdown",
   "metadata": {},
   "source": [
    "mailout_train has one column more = RESPONSE"
   ]
  },
  {
   "cell_type": "code",
   "execution_count": 70,
   "metadata": {},
   "outputs": [
    {
     "data": {
      "text/plain": [
       "0        0\n",
       "1        0\n",
       "2        0\n",
       "3        0\n",
       "4        0\n",
       "        ..\n",
       "42957    0\n",
       "42958    0\n",
       "42959    0\n",
       "42960    0\n",
       "42961    0\n",
       "Name: RESPONSE, Length: 42962, dtype: int64"
      ]
     },
     "execution_count": 70,
     "metadata": {},
     "output_type": "execute_result"
    }
   ],
   "source": [
    "# get the Response column from mailout train before applying the cleaning function, since it would remove it\n",
    "y = mailout_train['RESPONSE']\n",
    "y"
   ]
  },
  {
   "cell_type": "code",
   "execution_count": 62,
   "metadata": {},
   "outputs": [
    {
     "name": "stdout",
     "output_type": "stream",
     "text": [
      "customers DataFrame has been filtered\n",
      "unkown values have been replaced with np.NaN\n",
      "features have been processed\n"
     ]
    },
    {
     "name": "stderr",
     "output_type": "stream",
     "text": [
      "/opt/anaconda3/lib/python3.7/site-packages/ipykernel_launcher.py:37: SettingWithCopyWarning: \n",
      "A value is trying to be set on a copy of a slice from a DataFrame.\n",
      "Try using .loc[row_indexer,col_indexer] = value instead\n",
      "\n",
      "See the caveats in the documentation: http://pandas.pydata.org/pandas-docs/stable/user_guide/indexing.html#returning-a-view-versus-a-copy\n",
      "/opt/anaconda3/lib/python3.7/site-packages/ipykernel_launcher.py:39: SettingWithCopyWarning: \n",
      "A value is trying to be set on a copy of a slice from a DataFrame.\n",
      "Try using .loc[row_indexer,col_indexer] = value instead\n",
      "\n",
      "See the caveats in the documentation: http://pandas.pydata.org/pandas-docs/stable/user_guide/indexing.html#returning-a-view-versus-a-copy\n"
     ]
    },
    {
     "name": "stdout",
     "output_type": "stream",
     "text": [
      "finish\n",
      "customers DataFrame has been filtered\n",
      "unkown values have been replaced with np.NaN\n",
      "features have been processed\n",
      "finish\n"
     ]
    }
   ],
   "source": [
    "# we can use the clean function for the customers dataset \n",
    "# apply the function to both datasets\n",
    "\n",
    "mailout_train_clean = clean(mailout_train, azdias_columns, unknown_vals, dummy_features)\n",
    "mailout_test_clean = clean(mailout_test, azdias_columns, unknown_vals, dummy_features)"
   ]
  },
  {
   "cell_type": "code",
   "execution_count": 63,
   "metadata": {},
   "outputs": [
    {
     "data": {
      "text/plain": [
       "(42962, 295)"
      ]
     },
     "execution_count": 63,
     "metadata": {},
     "output_type": "execute_result"
    }
   ],
   "source": [
    "mailout_train_clean.shape"
   ]
  },
  {
   "cell_type": "code",
   "execution_count": 64,
   "metadata": {},
   "outputs": [
    {
     "data": {
      "text/plain": [
       "(42833, 295)"
      ]
     },
     "execution_count": 64,
     "metadata": {},
     "output_type": "execute_result"
    }
   ],
   "source": [
    "mailout_test_clean.shape"
   ]
  },
  {
   "cell_type": "markdown",
   "metadata": {},
   "source": [
    "both dataset of the same shape lets check if the columns are the same:"
   ]
  },
  {
   "cell_type": "code",
   "execution_count": 66,
   "metadata": {},
   "outputs": [
    {
     "data": {
      "text/plain": [
       "set()"
      ]
     },
     "execution_count": 66,
     "metadata": {},
     "output_type": "execute_result"
    }
   ],
   "source": [
    "set(mailout_train_clean) - set(mailout_test_clean)\n",
    "# should be an empty set "
   ]
  },
  {
   "cell_type": "code",
   "execution_count": 68,
   "metadata": {},
   "outputs": [
    {
     "data": {
      "text/plain": [
       "295"
      ]
     },
     "execution_count": 68,
     "metadata": {},
     "output_type": "execute_result"
    }
   ],
   "source": [
    "len(set(mailout_train_clean) & set(mailout_test_clean))\n",
    "# should be the number od columns"
   ]
  },
  {
   "cell_type": "markdown",
   "metadata": {},
   "source": [
    "Now both DataFrames of the same shape. In the next step I will check for missing data, everytime a column gets dropped I will perform the same for the mailout_test set."
   ]
  },
  {
   "cell_type": "code",
   "execution_count": 71,
   "metadata": {},
   "outputs": [],
   "source": [
    "# add y to mailout train clean to check for missing values\n",
    "mailout_train_clean = pd.concat([y, mailout_train_clean], axis=1)"
   ]
  },
  {
   "cell_type": "code",
   "execution_count": 73,
   "metadata": {},
   "outputs": [
    {
     "data": {
      "text/html": [
       "<div>\n",
       "<style scoped>\n",
       "    .dataframe tbody tr th:only-of-type {\n",
       "        vertical-align: middle;\n",
       "    }\n",
       "\n",
       "    .dataframe tbody tr th {\n",
       "        vertical-align: top;\n",
       "    }\n",
       "\n",
       "    .dataframe thead th {\n",
       "        text-align: right;\n",
       "    }\n",
       "</style>\n",
       "<table border=\"1\" class=\"dataframe\">\n",
       "  <thead>\n",
       "    <tr style=\"text-align: right;\">\n",
       "      <th></th>\n",
       "      <th>RESPONSE</th>\n",
       "      <th>ALTER_HH</th>\n",
       "      <th>ANZ_HAUSHALTE_AKTIV</th>\n",
       "      <th>ANZ_HH_TITEL</th>\n",
       "      <th>ANZ_PERSONEN</th>\n",
       "      <th>ANZ_TITEL</th>\n",
       "      <th>BALLRAUM</th>\n",
       "      <th>CAMEO_DEUG_2015</th>\n",
       "      <th>D19_BANKEN_ANZ_12</th>\n",
       "      <th>D19_BANKEN_ANZ_24</th>\n",
       "      <th>...</th>\n",
       "      <th>KBA05_MODTEMP_6.0</th>\n",
       "      <th>NATIONALITAET_KZ_1.0</th>\n",
       "      <th>NATIONALITAET_KZ_2.0</th>\n",
       "      <th>NATIONALITAET_KZ_3.0</th>\n",
       "      <th>SHOPPER_TYP_0.0</th>\n",
       "      <th>SHOPPER_TYP_1.0</th>\n",
       "      <th>SHOPPER_TYP_2.0</th>\n",
       "      <th>SHOPPER_TYP_3.0</th>\n",
       "      <th>VERS_TYP_1.0</th>\n",
       "      <th>VERS_TYP_2.0</th>\n",
       "    </tr>\n",
       "  </thead>\n",
       "  <tbody>\n",
       "    <tr>\n",
       "      <td>0</td>\n",
       "      <td>0</td>\n",
       "      <td>8.0</td>\n",
       "      <td>15.0</td>\n",
       "      <td>0.0</td>\n",
       "      <td>1.0</td>\n",
       "      <td>0.0</td>\n",
       "      <td>5.0</td>\n",
       "      <td>5.0</td>\n",
       "      <td>0</td>\n",
       "      <td>0</td>\n",
       "      <td>...</td>\n",
       "      <td>0</td>\n",
       "      <td>1</td>\n",
       "      <td>0</td>\n",
       "      <td>0</td>\n",
       "      <td>0</td>\n",
       "      <td>0</td>\n",
       "      <td>0</td>\n",
       "      <td>1</td>\n",
       "      <td>0</td>\n",
       "      <td>1</td>\n",
       "    </tr>\n",
       "    <tr>\n",
       "      <td>1</td>\n",
       "      <td>0</td>\n",
       "      <td>13.0</td>\n",
       "      <td>1.0</td>\n",
       "      <td>0.0</td>\n",
       "      <td>2.0</td>\n",
       "      <td>0.0</td>\n",
       "      <td>5.0</td>\n",
       "      <td>5.0</td>\n",
       "      <td>1</td>\n",
       "      <td>1</td>\n",
       "      <td>...</td>\n",
       "      <td>0</td>\n",
       "      <td>0</td>\n",
       "      <td>1</td>\n",
       "      <td>0</td>\n",
       "      <td>0</td>\n",
       "      <td>0</td>\n",
       "      <td>1</td>\n",
       "      <td>0</td>\n",
       "      <td>1</td>\n",
       "      <td>0</td>\n",
       "    </tr>\n",
       "    <tr>\n",
       "      <td>2</td>\n",
       "      <td>0</td>\n",
       "      <td>9.0</td>\n",
       "      <td>0.0</td>\n",
       "      <td>NaN</td>\n",
       "      <td>0.0</td>\n",
       "      <td>0.0</td>\n",
       "      <td>1.0</td>\n",
       "      <td>2.0</td>\n",
       "      <td>0</td>\n",
       "      <td>1</td>\n",
       "      <td>...</td>\n",
       "      <td>0</td>\n",
       "      <td>1</td>\n",
       "      <td>0</td>\n",
       "      <td>0</td>\n",
       "      <td>0</td>\n",
       "      <td>0</td>\n",
       "      <td>0</td>\n",
       "      <td>1</td>\n",
       "      <td>1</td>\n",
       "      <td>0</td>\n",
       "    </tr>\n",
       "    <tr>\n",
       "      <td>3</td>\n",
       "      <td>0</td>\n",
       "      <td>6.0</td>\n",
       "      <td>4.0</td>\n",
       "      <td>0.0</td>\n",
       "      <td>2.0</td>\n",
       "      <td>0.0</td>\n",
       "      <td>2.0</td>\n",
       "      <td>2.0</td>\n",
       "      <td>0</td>\n",
       "      <td>0</td>\n",
       "      <td>...</td>\n",
       "      <td>0</td>\n",
       "      <td>1</td>\n",
       "      <td>0</td>\n",
       "      <td>0</td>\n",
       "      <td>0</td>\n",
       "      <td>1</td>\n",
       "      <td>0</td>\n",
       "      <td>0</td>\n",
       "      <td>0</td>\n",
       "      <td>1</td>\n",
       "    </tr>\n",
       "    <tr>\n",
       "      <td>4</td>\n",
       "      <td>0</td>\n",
       "      <td>9.0</td>\n",
       "      <td>53.0</td>\n",
       "      <td>0.0</td>\n",
       "      <td>1.0</td>\n",
       "      <td>0.0</td>\n",
       "      <td>4.0</td>\n",
       "      <td>7.0</td>\n",
       "      <td>0</td>\n",
       "      <td>0</td>\n",
       "      <td>...</td>\n",
       "      <td>0</td>\n",
       "      <td>1</td>\n",
       "      <td>0</td>\n",
       "      <td>0</td>\n",
       "      <td>0</td>\n",
       "      <td>1</td>\n",
       "      <td>0</td>\n",
       "      <td>0</td>\n",
       "      <td>1</td>\n",
       "      <td>0</td>\n",
       "    </tr>\n",
       "  </tbody>\n",
       "</table>\n",
       "<p>5 rows × 296 columns</p>\n",
       "</div>"
      ],
      "text/plain": [
       "   RESPONSE  ALTER_HH  ANZ_HAUSHALTE_AKTIV  ANZ_HH_TITEL  ANZ_PERSONEN  \\\n",
       "0         0       8.0                 15.0           0.0           1.0   \n",
       "1         0      13.0                  1.0           0.0           2.0   \n",
       "2         0       9.0                  0.0           NaN           0.0   \n",
       "3         0       6.0                  4.0           0.0           2.0   \n",
       "4         0       9.0                 53.0           0.0           1.0   \n",
       "\n",
       "   ANZ_TITEL  BALLRAUM  CAMEO_DEUG_2015  D19_BANKEN_ANZ_12  D19_BANKEN_ANZ_24  \\\n",
       "0        0.0       5.0              5.0                  0                  0   \n",
       "1        0.0       5.0              5.0                  1                  1   \n",
       "2        0.0       1.0              2.0                  0                  1   \n",
       "3        0.0       2.0              2.0                  0                  0   \n",
       "4        0.0       4.0              7.0                  0                  0   \n",
       "\n",
       "   ...  KBA05_MODTEMP_6.0  NATIONALITAET_KZ_1.0  NATIONALITAET_KZ_2.0  \\\n",
       "0  ...                  0                     1                     0   \n",
       "1  ...                  0                     0                     1   \n",
       "2  ...                  0                     1                     0   \n",
       "3  ...                  0                     1                     0   \n",
       "4  ...                  0                     1                     0   \n",
       "\n",
       "   NATIONALITAET_KZ_3.0  SHOPPER_TYP_0.0  SHOPPER_TYP_1.0  SHOPPER_TYP_2.0  \\\n",
       "0                     0                0                0                0   \n",
       "1                     0                0                0                1   \n",
       "2                     0                0                0                0   \n",
       "3                     0                0                1                0   \n",
       "4                     0                0                1                0   \n",
       "\n",
       "   SHOPPER_TYP_3.0  VERS_TYP_1.0  VERS_TYP_2.0  \n",
       "0                1             0             1  \n",
       "1                0             1             0  \n",
       "2                1             1             0  \n",
       "3                0             0             1  \n",
       "4                0             1             0  \n",
       "\n",
       "[5 rows x 296 columns]"
      ]
     },
     "execution_count": 73,
     "metadata": {},
     "output_type": "execute_result"
    }
   ],
   "source": [
    "mailout_train_clean.head()"
   ]
  },
  {
   "cell_type": "markdown",
   "metadata": {},
   "source": [
    "#### check for missing values"
   ]
  },
  {
   "cell_type": "code",
   "execution_count": 244,
   "metadata": {},
   "outputs": [],
   "source": [
    "cols_na_prop = (mailout_train_clean.shape[0] - mailout_train_clean.count(axis=0)) / mailout_train_clean.shape[0]"
   ]
  },
  {
   "cell_type": "code",
   "execution_count": 245,
   "metadata": {},
   "outputs": [
    {
     "data": {
      "image/png": "[encoded data removed]",
      "text/plain": [
       "<Figure size 504x360 with 1 Axes>"
      ]
     },
     "metadata": {
      "needs_background": "light"
     },
     "output_type": "display_data"
    }
   ],
   "source": [
    "fig = plt.figure(figsize=(7,5))\n",
    "\n",
    "ax = plt.subplot()\n",
    "ax.hist(cols_na_prop, bins=25)\n",
    "ax.set_ylabel('Count of columns')\n",
    "ax.set_xlabel('Proportion of missing values')\n",
    "# plt.savefig('P2_missing_values_cols.png', dpi=200, bbox_inches='tight')"
   ]
  },
  {
   "cell_type": "markdown",
   "metadata": {},
   "source": [
    "There are no columns that have more than 25% of missing values. I won't drop any column.\n",
    "\n",
    "Next, lets check the rows."
   ]
  },
  {
   "cell_type": "code",
   "execution_count": 74,
   "metadata": {},
   "outputs": [],
   "source": [
    "rows_na_prop = (mailout_train_clean.shape[1] - mailout_train_clean.count(axis=1)) / mailout_train_clean.shape[1]"
   ]
  },
  {
   "cell_type": "code",
   "execution_count": 75,
   "metadata": {},
   "outputs": [
    {
     "data": {
      "text/plain": [
       "Text(0.5, 0, 'Proportion of missing values')"
      ]
     },
     "execution_count": 75,
     "metadata": {},
     "output_type": "execute_result"
    },
    {
     "data": {
      "image/png": "[encoded data removed]",
      "text/plain": [
       "<Figure size 504x360 with 1 Axes>"
      ]
     },
     "metadata": {
      "needs_background": "light"
     },
     "output_type": "display_data"
    }
   ],
   "source": [
    "fig = plt.figure(figsize=(7,5))\n",
    "\n",
    "ax = plt.subplot()\n",
    "ax.hist(rows_na_prop, bins=25)\n",
    "ax.set_ylabel('Count of rows')\n",
    "ax.set_xlabel('Proportion of missing values')\n",
    "# plt.savefig('P2_missing_values_rows.png', dpi=200, bbox_inches='tight');"
   ]
  },
  {
   "cell_type": "markdown",
   "metadata": {},
   "source": [
    "There are a few rows that have more than 60% missing values. I will drop any row that has mote than 30% missing values."
   ]
  },
  {
   "cell_type": "code",
   "execution_count": 76,
   "metadata": {},
   "outputs": [
    {
     "data": {
      "text/plain": [
       "Int64Index([    8,     9,    10,    16,    18,    27,    33,    48,    62,\n",
       "               69,\n",
       "            ...\n",
       "            42892, 42896, 42899, 42911, 42917, 42919, 42920, 42924, 42926,\n",
       "            42954],\n",
       "           dtype='int64', length=7962)"
      ]
     },
     "execution_count": 76,
     "metadata": {},
     "output_type": "execute_result"
    }
   ],
   "source": [
    "rows_na_prop[rows_na_prop > 0.30].index"
   ]
  },
  {
   "cell_type": "code",
   "execution_count": 77,
   "metadata": {},
   "outputs": [],
   "source": [
    "mailout_train_clean.drop(index=rows_na_prop[rows_na_prop > 0.30].index, inplace = True)"
   ]
  },
  {
   "cell_type": "markdown",
   "metadata": {},
   "source": [
    "Since I only dropped rows I don't need do anything with mailout_test"
   ]
  },
  {
   "cell_type": "markdown",
   "metadata": {},
   "source": [
    "### Split Data"
   ]
  },
  {
   "cell_type": "code",
   "execution_count": 82,
   "metadata": {},
   "outputs": [],
   "source": [
    "# now we can split the train data in x and y\n",
    "x = mailout_train_clean.iloc[:, 1:]\n",
    "y = mailout_train_clean['RESPONSE']"
   ]
  },
  {
   "cell_type": "code",
   "execution_count": 84,
   "metadata": {},
   "outputs": [
    {
     "data": {
      "text/plain": [
       "((35000, 295), (35000,))"
      ]
     },
     "execution_count": 84,
     "metadata": {},
     "output_type": "execute_result"
    }
   ],
   "source": [
    "x.shape, y.shape"
   ]
  },
  {
   "cell_type": "markdown",
   "metadata": {},
   "source": [
    "### Impute missing values and scale features"
   ]
  },
  {
   "cell_type": "code",
   "execution_count": 85,
   "metadata": {},
   "outputs": [],
   "source": [
    "# define imputer and scaler\n",
    "imputer = SimpleImputer(strategy='median')\n",
    "scaler = StandardScaler()"
   ]
  },
  {
   "cell_type": "code",
   "execution_count": 86,
   "metadata": {},
   "outputs": [],
   "source": [
    "# apply imputer and scaler\n",
    "x_imp = pd.DataFrame(imputer.fit_transform(x))\n",
    "x_sc = pd.DataFrame(scaler.fit_transform(x_imp), columns = x.columns)"
   ]
  },
  {
   "cell_type": "code",
   "execution_count": 87,
   "metadata": {},
   "outputs": [
    {
     "data": {
      "text/html": [
       "<div>\n",
       "<style scoped>\n",
       "    .dataframe tbody tr th:only-of-type {\n",
       "        vertical-align: middle;\n",
       "    }\n",
       "\n",
       "    .dataframe tbody tr th {\n",
       "        vertical-align: top;\n",
       "    }\n",
       "\n",
       "    .dataframe thead th {\n",
       "        text-align: right;\n",
       "    }\n",
       "</style>\n",
       "<table border=\"1\" class=\"dataframe\">\n",
       "  <thead>\n",
       "    <tr style=\"text-align: right;\">\n",
       "      <th></th>\n",
       "      <th>ALTER_HH</th>\n",
       "      <th>ANZ_HAUSHALTE_AKTIV</th>\n",
       "      <th>ANZ_HH_TITEL</th>\n",
       "      <th>ANZ_PERSONEN</th>\n",
       "      <th>ANZ_TITEL</th>\n",
       "      <th>BALLRAUM</th>\n",
       "      <th>CAMEO_DEUG_2015</th>\n",
       "      <th>D19_BANKEN_ANZ_12</th>\n",
       "      <th>D19_BANKEN_ANZ_24</th>\n",
       "      <th>D19_BANKEN_DATUM</th>\n",
       "      <th>...</th>\n",
       "      <th>KBA05_MODTEMP_6.0</th>\n",
       "      <th>NATIONALITAET_KZ_1.0</th>\n",
       "      <th>NATIONALITAET_KZ_2.0</th>\n",
       "      <th>NATIONALITAET_KZ_3.0</th>\n",
       "      <th>SHOPPER_TYP_0.0</th>\n",
       "      <th>SHOPPER_TYP_1.0</th>\n",
       "      <th>SHOPPER_TYP_2.0</th>\n",
       "      <th>SHOPPER_TYP_3.0</th>\n",
       "      <th>VERS_TYP_1.0</th>\n",
       "      <th>VERS_TYP_2.0</th>\n",
       "    </tr>\n",
       "  </thead>\n",
       "  <tbody>\n",
       "    <tr>\n",
       "      <td>0</td>\n",
       "      <td>-0.378933</td>\n",
       "      <td>0.555185</td>\n",
       "      <td>-0.131472</td>\n",
       "      <td>-0.751147</td>\n",
       "      <td>-0.091728</td>\n",
       "      <td>0.337010</td>\n",
       "      <td>0.016016</td>\n",
       "      <td>-0.246177</td>\n",
       "      <td>-0.306390</td>\n",
       "      <td>0.440560</td>\n",
       "      <td>...</td>\n",
       "      <td>-0.090286</td>\n",
       "      <td>0.213951</td>\n",
       "      <td>-0.143273</td>\n",
       "      <td>-0.119159</td>\n",
       "      <td>-0.455362</td>\n",
       "      <td>-0.591473</td>\n",
       "      <td>-0.465526</td>\n",
       "      <td>1.279815</td>\n",
       "      <td>-1.012594</td>\n",
       "      <td>1.036969</td>\n",
       "    </tr>\n",
       "    <tr>\n",
       "      <td>1</td>\n",
       "      <td>0.443343</td>\n",
       "      <td>-0.378700</td>\n",
       "      <td>-0.131472</td>\n",
       "      <td>-0.016211</td>\n",
       "      <td>-0.091728</td>\n",
       "      <td>0.337010</td>\n",
       "      <td>0.016016</td>\n",
       "      <td>1.786421</td>\n",
       "      <td>1.156790</td>\n",
       "      <td>-2.415979</td>\n",
       "      <td>...</td>\n",
       "      <td>-0.090286</td>\n",
       "      <td>-4.673965</td>\n",
       "      <td>6.979678</td>\n",
       "      <td>-0.119159</td>\n",
       "      <td>-0.455362</td>\n",
       "      <td>-0.591473</td>\n",
       "      <td>2.148109</td>\n",
       "      <td>-0.781363</td>\n",
       "      <td>0.987563</td>\n",
       "      <td>-0.964349</td>\n",
       "    </tr>\n",
       "    <tr>\n",
       "      <td>2</td>\n",
       "      <td>-0.214478</td>\n",
       "      <td>-0.445406</td>\n",
       "      <td>-0.131472</td>\n",
       "      <td>-1.486084</td>\n",
       "      <td>-0.091728</td>\n",
       "      <td>-1.486004</td>\n",
       "      <td>-1.225990</td>\n",
       "      <td>-0.246177</td>\n",
       "      <td>1.156790</td>\n",
       "      <td>-1.273363</td>\n",
       "      <td>...</td>\n",
       "      <td>-0.090286</td>\n",
       "      <td>0.213951</td>\n",
       "      <td>-0.143273</td>\n",
       "      <td>-0.119159</td>\n",
       "      <td>-0.455362</td>\n",
       "      <td>-0.591473</td>\n",
       "      <td>-0.465526</td>\n",
       "      <td>1.279815</td>\n",
       "      <td>0.987563</td>\n",
       "      <td>-0.964349</td>\n",
       "    </tr>\n",
       "    <tr>\n",
       "      <td>3</td>\n",
       "      <td>-0.707843</td>\n",
       "      <td>-0.178582</td>\n",
       "      <td>-0.131472</td>\n",
       "      <td>-0.016211</td>\n",
       "      <td>-0.091728</td>\n",
       "      <td>-1.030250</td>\n",
       "      <td>-1.225990</td>\n",
       "      <td>-0.246177</td>\n",
       "      <td>-0.306390</td>\n",
       "      <td>0.440560</td>\n",
       "      <td>...</td>\n",
       "      <td>-0.090286</td>\n",
       "      <td>0.213951</td>\n",
       "      <td>-0.143273</td>\n",
       "      <td>-0.119159</td>\n",
       "      <td>-0.455362</td>\n",
       "      <td>1.690695</td>\n",
       "      <td>-0.465526</td>\n",
       "      <td>-0.781363</td>\n",
       "      <td>-1.012594</td>\n",
       "      <td>1.036969</td>\n",
       "    </tr>\n",
       "    <tr>\n",
       "      <td>4</td>\n",
       "      <td>-0.214478</td>\n",
       "      <td>3.090013</td>\n",
       "      <td>-0.131472</td>\n",
       "      <td>-0.751147</td>\n",
       "      <td>-0.091728</td>\n",
       "      <td>-0.118743</td>\n",
       "      <td>0.844020</td>\n",
       "      <td>-0.246177</td>\n",
       "      <td>-0.306390</td>\n",
       "      <td>0.440560</td>\n",
       "      <td>...</td>\n",
       "      <td>-0.090286</td>\n",
       "      <td>0.213951</td>\n",
       "      <td>-0.143273</td>\n",
       "      <td>-0.119159</td>\n",
       "      <td>-0.455362</td>\n",
       "      <td>1.690695</td>\n",
       "      <td>-0.465526</td>\n",
       "      <td>-0.781363</td>\n",
       "      <td>0.987563</td>\n",
       "      <td>-0.964349</td>\n",
       "    </tr>\n",
       "    <tr>\n",
       "      <td>...</td>\n",
       "      <td>...</td>\n",
       "      <td>...</td>\n",
       "      <td>...</td>\n",
       "      <td>...</td>\n",
       "      <td>...</td>\n",
       "      <td>...</td>\n",
       "      <td>...</td>\n",
       "      <td>...</td>\n",
       "      <td>...</td>\n",
       "      <td>...</td>\n",
       "      <td>...</td>\n",
       "      <td>...</td>\n",
       "      <td>...</td>\n",
       "      <td>...</td>\n",
       "      <td>...</td>\n",
       "      <td>...</td>\n",
       "      <td>...</td>\n",
       "      <td>...</td>\n",
       "      <td>...</td>\n",
       "      <td>...</td>\n",
       "      <td>...</td>\n",
       "    </tr>\n",
       "    <tr>\n",
       "      <td>34995</td>\n",
       "      <td>-1.694573</td>\n",
       "      <td>-0.378700</td>\n",
       "      <td>-0.131472</td>\n",
       "      <td>-0.016211</td>\n",
       "      <td>-0.091728</td>\n",
       "      <td>-1.030250</td>\n",
       "      <td>-0.811988</td>\n",
       "      <td>-0.246177</td>\n",
       "      <td>-0.306390</td>\n",
       "      <td>0.440560</td>\n",
       "      <td>...</td>\n",
       "      <td>-0.090286</td>\n",
       "      <td>0.213951</td>\n",
       "      <td>-0.143273</td>\n",
       "      <td>-0.119159</td>\n",
       "      <td>-0.455362</td>\n",
       "      <td>-0.591473</td>\n",
       "      <td>-0.465526</td>\n",
       "      <td>1.279815</td>\n",
       "      <td>0.987563</td>\n",
       "      <td>-0.964349</td>\n",
       "    </tr>\n",
       "    <tr>\n",
       "      <td>34996</td>\n",
       "      <td>-1.694573</td>\n",
       "      <td>-0.378700</td>\n",
       "      <td>-0.131472</td>\n",
       "      <td>-0.016211</td>\n",
       "      <td>-0.091728</td>\n",
       "      <td>0.792764</td>\n",
       "      <td>0.430018</td>\n",
       "      <td>-0.246177</td>\n",
       "      <td>-0.306390</td>\n",
       "      <td>0.440560</td>\n",
       "      <td>...</td>\n",
       "      <td>-0.090286</td>\n",
       "      <td>0.213951</td>\n",
       "      <td>-0.143273</td>\n",
       "      <td>-0.119159</td>\n",
       "      <td>-0.455362</td>\n",
       "      <td>-0.591473</td>\n",
       "      <td>2.148109</td>\n",
       "      <td>-0.781363</td>\n",
       "      <td>-1.012594</td>\n",
       "      <td>1.036969</td>\n",
       "    </tr>\n",
       "    <tr>\n",
       "      <td>34997</td>\n",
       "      <td>0.936708</td>\n",
       "      <td>-0.311994</td>\n",
       "      <td>-0.131472</td>\n",
       "      <td>0.718726</td>\n",
       "      <td>-0.091728</td>\n",
       "      <td>0.792764</td>\n",
       "      <td>-0.397986</td>\n",
       "      <td>-0.246177</td>\n",
       "      <td>-0.306390</td>\n",
       "      <td>0.440560</td>\n",
       "      <td>...</td>\n",
       "      <td>-0.090286</td>\n",
       "      <td>0.213951</td>\n",
       "      <td>-0.143273</td>\n",
       "      <td>-0.119159</td>\n",
       "      <td>-0.455362</td>\n",
       "      <td>-0.591473</td>\n",
       "      <td>-0.465526</td>\n",
       "      <td>1.279815</td>\n",
       "      <td>0.987563</td>\n",
       "      <td>-0.964349</td>\n",
       "    </tr>\n",
       "    <tr>\n",
       "      <td>34998</td>\n",
       "      <td>1.265618</td>\n",
       "      <td>-0.245288</td>\n",
       "      <td>-0.131472</td>\n",
       "      <td>0.718726</td>\n",
       "      <td>-0.091728</td>\n",
       "      <td>0.792764</td>\n",
       "      <td>1.258022</td>\n",
       "      <td>3.819018</td>\n",
       "      <td>4.083149</td>\n",
       "      <td>-2.415979</td>\n",
       "      <td>...</td>\n",
       "      <td>-0.090286</td>\n",
       "      <td>0.213951</td>\n",
       "      <td>-0.143273</td>\n",
       "      <td>-0.119159</td>\n",
       "      <td>-0.455362</td>\n",
       "      <td>-0.591473</td>\n",
       "      <td>-0.465526</td>\n",
       "      <td>1.279815</td>\n",
       "      <td>0.987563</td>\n",
       "      <td>-0.964349</td>\n",
       "    </tr>\n",
       "    <tr>\n",
       "      <td>34999</td>\n",
       "      <td>0.443343</td>\n",
       "      <td>-0.245288</td>\n",
       "      <td>-0.131472</td>\n",
       "      <td>-0.751147</td>\n",
       "      <td>-0.091728</td>\n",
       "      <td>0.792764</td>\n",
       "      <td>-0.397986</td>\n",
       "      <td>-0.246177</td>\n",
       "      <td>-0.306390</td>\n",
       "      <td>0.440560</td>\n",
       "      <td>...</td>\n",
       "      <td>-0.090286</td>\n",
       "      <td>0.213951</td>\n",
       "      <td>-0.143273</td>\n",
       "      <td>-0.119159</td>\n",
       "      <td>-0.455362</td>\n",
       "      <td>-0.591473</td>\n",
       "      <td>-0.465526</td>\n",
       "      <td>1.279815</td>\n",
       "      <td>0.987563</td>\n",
       "      <td>-0.964349</td>\n",
       "    </tr>\n",
       "  </tbody>\n",
       "</table>\n",
       "<p>35000 rows × 295 columns</p>\n",
       "</div>"
      ],
      "text/plain": [
       "       ALTER_HH  ANZ_HAUSHALTE_AKTIV  ANZ_HH_TITEL  ANZ_PERSONEN  ANZ_TITEL  \\\n",
       "0     -0.378933             0.555185     -0.131472     -0.751147  -0.091728   \n",
       "1      0.443343            -0.378700     -0.131472     -0.016211  -0.091728   \n",
       "2     -0.214478            -0.445406     -0.131472     -1.486084  -0.091728   \n",
       "3     -0.707843            -0.178582     -0.131472     -0.016211  -0.091728   \n",
       "4     -0.214478             3.090013     -0.131472     -0.751147  -0.091728   \n",
       "...         ...                  ...           ...           ...        ...   \n",
       "34995 -1.694573            -0.378700     -0.131472     -0.016211  -0.091728   \n",
       "34996 -1.694573            -0.378700     -0.131472     -0.016211  -0.091728   \n",
       "34997  0.936708            -0.311994     -0.131472      0.718726  -0.091728   \n",
       "34998  1.265618            -0.245288     -0.131472      0.718726  -0.091728   \n",
       "34999  0.443343            -0.245288     -0.131472     -0.751147  -0.091728   \n",
       "\n",
       "       BALLRAUM  CAMEO_DEUG_2015  D19_BANKEN_ANZ_12  D19_BANKEN_ANZ_24  \\\n",
       "0      0.337010         0.016016          -0.246177          -0.306390   \n",
       "1      0.337010         0.016016           1.786421           1.156790   \n",
       "2     -1.486004        -1.225990          -0.246177           1.156790   \n",
       "3     -1.030250        -1.225990          -0.246177          -0.306390   \n",
       "4     -0.118743         0.844020          -0.246177          -0.306390   \n",
       "...         ...              ...                ...                ...   \n",
       "34995 -1.030250        -0.811988          -0.246177          -0.306390   \n",
       "34996  0.792764         0.430018          -0.246177          -0.306390   \n",
       "34997  0.792764        -0.397986          -0.246177          -0.306390   \n",
       "34998  0.792764         1.258022           3.819018           4.083149   \n",
       "34999  0.792764        -0.397986          -0.246177          -0.306390   \n",
       "\n",
       "       D19_BANKEN_DATUM  ...  KBA05_MODTEMP_6.0  NATIONALITAET_KZ_1.0  \\\n",
       "0              0.440560  ...          -0.090286              0.213951   \n",
       "1             -2.415979  ...          -0.090286             -4.673965   \n",
       "2             -1.273363  ...          -0.090286              0.213951   \n",
       "3              0.440560  ...          -0.090286              0.213951   \n",
       "4              0.440560  ...          -0.090286              0.213951   \n",
       "...                 ...  ...                ...                   ...   \n",
       "34995          0.440560  ...          -0.090286              0.213951   \n",
       "34996          0.440560  ...          -0.090286              0.213951   \n",
       "34997          0.440560  ...          -0.090286              0.213951   \n",
       "34998         -2.415979  ...          -0.090286              0.213951   \n",
       "34999          0.440560  ...          -0.090286              0.213951   \n",
       "\n",
       "       NATIONALITAET_KZ_2.0  NATIONALITAET_KZ_3.0  SHOPPER_TYP_0.0  \\\n",
       "0                 -0.143273             -0.119159        -0.455362   \n",
       "1                  6.979678             -0.119159        -0.455362   \n",
       "2                 -0.143273             -0.119159        -0.455362   \n",
       "3                 -0.143273             -0.119159        -0.455362   \n",
       "4                 -0.143273             -0.119159        -0.455362   \n",
       "...                     ...                   ...              ...   \n",
       "34995             -0.143273             -0.119159        -0.455362   \n",
       "34996             -0.143273             -0.119159        -0.455362   \n",
       "34997             -0.143273             -0.119159        -0.455362   \n",
       "34998             -0.143273             -0.119159        -0.455362   \n",
       "34999             -0.143273             -0.119159        -0.455362   \n",
       "\n",
       "       SHOPPER_TYP_1.0  SHOPPER_TYP_2.0  SHOPPER_TYP_3.0  VERS_TYP_1.0  \\\n",
       "0            -0.591473        -0.465526         1.279815     -1.012594   \n",
       "1            -0.591473         2.148109        -0.781363      0.987563   \n",
       "2            -0.591473        -0.465526         1.279815      0.987563   \n",
       "3             1.690695        -0.465526        -0.781363     -1.012594   \n",
       "4             1.690695        -0.465526        -0.781363      0.987563   \n",
       "...                ...              ...              ...           ...   \n",
       "34995        -0.591473        -0.465526         1.279815      0.987563   \n",
       "34996        -0.591473         2.148109        -0.781363     -1.012594   \n",
       "34997        -0.591473        -0.465526         1.279815      0.987563   \n",
       "34998        -0.591473        -0.465526         1.279815      0.987563   \n",
       "34999        -0.591473        -0.465526         1.279815      0.987563   \n",
       "\n",
       "       VERS_TYP_2.0  \n",
       "0          1.036969  \n",
       "1         -0.964349  \n",
       "2         -0.964349  \n",
       "3          1.036969  \n",
       "4         -0.964349  \n",
       "...             ...  \n",
       "34995     -0.964349  \n",
       "34996      1.036969  \n",
       "34997     -0.964349  \n",
       "34998     -0.964349  \n",
       "34999     -0.964349  \n",
       "\n",
       "[35000 rows x 295 columns]"
      ]
     },
     "execution_count": 87,
     "metadata": {},
     "output_type": "execute_result"
    }
   ],
   "source": [
    "x_sc"
   ]
  },
  {
   "cell_type": "markdown",
   "metadata": {},
   "source": [
    "### Check for highly correlated features"
   ]
  },
  {
   "cell_type": "code",
   "execution_count": 88,
   "metadata": {},
   "outputs": [],
   "source": [
    "# Create correlation matrix\n",
    "corr_matrix = x_sc.corr().abs()\n",
    "# Select upper triangle of correlation matrix\n",
    "upper = corr_matrix.where(np.triu(np.ones(corr_matrix.shape), k=1).astype(np.bool))\n",
    "# Find features with correlation greater than 0.95\n",
    "to_drop = [column for column in upper.columns if any(upper[column] > 0.95)]"
   ]
  },
  {
   "cell_type": "code",
   "execution_count": 89,
   "metadata": {},
   "outputs": [
    {
     "data": {
      "text/plain": [
       "['KBA13_HERST_SONST',\n",
       " 'KBA13_KMH_250',\n",
       " 'LP_STATUS_GROB',\n",
       " 'ANREDE_KZ_2.0',\n",
       " 'KBA05_MODTEMP_5.0',\n",
       " 'VERS_TYP_2.0']"
      ]
     },
     "execution_count": 89,
     "metadata": {},
     "output_type": "execute_result"
    }
   ],
   "source": [
    "to_drop"
   ]
  },
  {
   "cell_type": "code",
   "execution_count": 93,
   "metadata": {},
   "outputs": [],
   "source": [
    "x_sc.drop(columns=to_drop, inplace=True)"
   ]
  },
  {
   "cell_type": "code",
   "execution_count": 90,
   "metadata": {},
   "outputs": [],
   "source": [
    "# the same columns need to be droped from the mailout_test_clean DataFrame\n",
    "mailout_test_clean.drop(columns=to_drop, inplace=True)"
   ]
  },
  {
   "cell_type": "code",
   "execution_count": 94,
   "metadata": {},
   "outputs": [
    {
     "data": {
      "text/plain": [
       "((35000, 289), (42833, 289))"
      ]
     },
     "execution_count": 94,
     "metadata": {},
     "output_type": "execute_result"
    }
   ],
   "source": [
    "x_sc.shape, mailout_test_clean.shape"
   ]
  },
  {
   "cell_type": "code",
   "execution_count": 97,
   "metadata": {},
   "outputs": [
    {
     "data": {
      "text/plain": [
       "289"
      ]
     },
     "execution_count": 97,
     "metadata": {},
     "output_type": "execute_result"
    }
   ],
   "source": [
    "# make sure\n",
    "len(set(x_sc) & set(mailout_test_clean))"
   ]
  },
  {
   "cell_type": "markdown",
   "metadata": {},
   "source": [
    "### Inspect RESPONSE variable"
   ]
  },
  {
   "cell_type": "code",
   "execution_count": 297,
   "metadata": {},
   "outputs": [
    {
     "data": {
      "text/plain": [
       "0    34565\n",
       "1      435\n",
       "Name: RESPONSE, dtype: int64"
      ]
     },
     "execution_count": 297,
     "metadata": {},
     "output_type": "execute_result"
    }
   ],
   "source": [
    "y.value_counts()"
   ]
  },
  {
   "cell_type": "markdown",
   "metadata": {},
   "source": [
    "Response is highly imbalanced. According to this <a href='https://towardsdatascience.com/practical-tips-for-class-imbalance-in-binary-classification-6ee29bcdb8a7'>article</a> I need to be aware of the following things:\n",
    "- stratify your data for training and validation\n",
    "- choose the right evaluation metric: ROC curve \n",
    "- use Gradient Boosting\n",
    "\n",
    "Advanced steps to deal with imbalanced data:\n",
    "- Resampling to get more balanced data\n",
    "- Class weighted / cost sensitive learning"
   ]
  },
  {
   "cell_type": "markdown",
   "metadata": {},
   "source": [
    "### Create Model"
   ]
  },
  {
   "cell_type": "code",
   "execution_count": 259,
   "metadata": {},
   "outputs": [],
   "source": [
    "# define basic classifiers\n",
    "classifiers = {\n",
    "    'LogisticRegression': LogisticRegression(),\n",
    "    'DecisionTreeClassifier': DecisionTreeClassifier(),\n",
    "    'RandomForestClassifier': RandomForestClassifier(),\n",
    "    'AdaBoostClassifier': AdaBoostClassifier(),\n",
    "    'GradientBoostingClassifier': GradientBoostingClassifier()\n",
    "}"
   ]
  },
  {
   "cell_type": "code",
   "execution_count": 260,
   "metadata": {},
   "outputs": [],
   "source": [
    "scv = StratifiedKFold(n_splits=5)"
   ]
  },
  {
   "cell_type": "code",
   "execution_count": 261,
   "metadata": {},
   "outputs": [],
   "source": [
    "def ml_pipeline(classifiers, X, y):\n",
    "    '''\n",
    "    Input\n",
    "        model: dict with classifiers\n",
    "        X: features\n",
    "        y: label\n",
    "        \n",
    "    Return\n",
    "        confusion matrix and roc_auc score for each model\n",
    "    '''\n",
    "\n",
    "    for name, model in classifiers.items():\n",
    "        score = cross_val_score(model, X, y, scoring='roc_auc', cv=scv).mean()\n",
    "        print(name, ':')\n",
    "        print(score)\n",
    "        print('-'*55)"
   ]
  },
  {
   "cell_type": "code",
   "execution_count": 262,
   "metadata": {},
   "outputs": [
    {
     "name": "stderr",
     "output_type": "stream",
     "text": [
      "/opt/anaconda3/lib/python3.7/site-packages/sklearn/linear_model/logistic.py:432: FutureWarning: Default solver will be changed to 'lbfgs' in 0.22. Specify a solver to silence this warning.\n",
      "  FutureWarning)\n",
      "/opt/anaconda3/lib/python3.7/site-packages/sklearn/linear_model/logistic.py:432: FutureWarning: Default solver will be changed to 'lbfgs' in 0.22. Specify a solver to silence this warning.\n",
      "  FutureWarning)\n",
      "/opt/anaconda3/lib/python3.7/site-packages/sklearn/linear_model/logistic.py:432: FutureWarning: Default solver will be changed to 'lbfgs' in 0.22. Specify a solver to silence this warning.\n",
      "  FutureWarning)\n",
      "/opt/anaconda3/lib/python3.7/site-packages/sklearn/linear_model/logistic.py:432: FutureWarning: Default solver will be changed to 'lbfgs' in 0.22. Specify a solver to silence this warning.\n",
      "  FutureWarning)\n",
      "/opt/anaconda3/lib/python3.7/site-packages/sklearn/linear_model/logistic.py:432: FutureWarning: Default solver will be changed to 'lbfgs' in 0.22. Specify a solver to silence this warning.\n",
      "  FutureWarning)\n"
     ]
    },
    {
     "name": "stdout",
     "output_type": "stream",
     "text": [
      "LogisticRegression :\n",
      "0.5388771114225904\n",
      "-------------------------------------------------------\n",
      "DecisionTreeClassifier :\n",
      "0.5065447241661969\n",
      "-------------------------------------------------------\n"
     ]
    },
    {
     "name": "stderr",
     "output_type": "stream",
     "text": [
      "/opt/anaconda3/lib/python3.7/site-packages/sklearn/ensemble/forest.py:245: FutureWarning: The default value of n_estimators will change from 10 in version 0.20 to 100 in 0.22.\n",
      "  \"10 in version 0.20 to 100 in 0.22.\", FutureWarning)\n",
      "/opt/anaconda3/lib/python3.7/site-packages/sklearn/ensemble/forest.py:245: FutureWarning: The default value of n_estimators will change from 10 in version 0.20 to 100 in 0.22.\n",
      "  \"10 in version 0.20 to 100 in 0.22.\", FutureWarning)\n",
      "/opt/anaconda3/lib/python3.7/site-packages/sklearn/ensemble/forest.py:245: FutureWarning: The default value of n_estimators will change from 10 in version 0.20 to 100 in 0.22.\n",
      "  \"10 in version 0.20 to 100 in 0.22.\", FutureWarning)\n",
      "/opt/anaconda3/lib/python3.7/site-packages/sklearn/ensemble/forest.py:245: FutureWarning: The default value of n_estimators will change from 10 in version 0.20 to 100 in 0.22.\n",
      "  \"10 in version 0.20 to 100 in 0.22.\", FutureWarning)\n",
      "/opt/anaconda3/lib/python3.7/site-packages/sklearn/ensemble/forest.py:245: FutureWarning: The default value of n_estimators will change from 10 in version 0.20 to 100 in 0.22.\n",
      "  \"10 in version 0.20 to 100 in 0.22.\", FutureWarning)\n"
     ]
    },
    {
     "name": "stdout",
     "output_type": "stream",
     "text": [
      "RandomForestClassifier :\n",
      "0.5025457616916987\n",
      "-------------------------------------------------------\n",
      "AdaBoostClassifier :\n",
      "0.5262902976401282\n",
      "-------------------------------------------------------\n",
      "GradientBoostingClassifier :\n",
      "0.5461740415775044\n",
      "-------------------------------------------------------\n"
     ]
    }
   ],
   "source": [
    "ml_pipeline(classifiers, x_sc, y)"
   ]
  },
  {
   "cell_type": "markdown",
   "metadata": {},
   "source": [
    "The GradientBoostingClassifier has the highest score. In the next step I will try to enhance the classifier with hyperparameter tuning:"
   ]
  },
  {
   "cell_type": "code",
   "execution_count": 215,
   "metadata": {},
   "outputs": [],
   "source": [
    "# define parameters\n",
    "hyper_params = {\n",
    "    'learning_rate': [0.01, 0.1, 1],\n",
    "    'max_depth': [3, 5, 7],\n",
    "    'n_estimators': [100, 200]\n",
    "}"
   ]
  },
  {
   "cell_type": "code",
   "execution_count": 216,
   "metadata": {},
   "outputs": [],
   "source": [
    "# reduced the number of splits to reduce processing time\n",
    "scv = StratifiedKFold(n_splits=2)"
   ]
  },
  {
   "cell_type": "code",
   "execution_count": 217,
   "metadata": {},
   "outputs": [],
   "source": [
    "find_model = GridSearchCV(estimator = GradientBoostingClassifier(),\n",
    "                          param_grid = hyper_params,\n",
    "                          n_jobs = -2,\n",
    "                          scoring = 'roc_auc',\n",
    "                          verbose = 2, \n",
    "                          cv = scv)"
   ]
  },
  {
   "cell_type": "code",
   "execution_count": 218,
   "metadata": {},
   "outputs": [
    {
     "name": "stdout",
     "output_type": "stream",
     "text": [
      "Fitting 2 folds for each of 18 candidates, totalling 36 fits\n"
     ]
    },
    {
     "name": "stderr",
     "output_type": "stream",
     "text": [
      "[Parallel(n_jobs=-2)]: Using backend LokyBackend with 3 concurrent workers.\n",
      "[Parallel(n_jobs=-2)]: Done  36 out of  36 | elapsed: 18.6min finished\n"
     ]
    },
    {
     "data": {
      "text/plain": [
       "GridSearchCV(cv=StratifiedKFold(n_splits=2, random_state=None, shuffle=False),\n",
       "             error_score='raise-deprecating',\n",
       "             estimator=GradientBoostingClassifier(criterion='friedman_mse',\n",
       "                                                  init=None, learning_rate=0.1,\n",
       "                                                  loss='deviance', max_depth=3,\n",
       "                                                  max_features=None,\n",
       "                                                  max_leaf_nodes=None,\n",
       "                                                  min_impurity_decrease=0.0,\n",
       "                                                  min_impurity_split=None,\n",
       "                                                  min_samples_leaf=1,\n",
       "                                                  min_samples_split=2,\n",
       "                                                  min_weight_fraction_leaf=0.0,\n",
       "                                                  n_estimators=100,\n",
       "                                                  n_iter_no_change=None,\n",
       "                                                  presort='auto',\n",
       "                                                  random_state=None,\n",
       "                                                  subsample=1.0, tol=0.0001,\n",
       "                                                  validation_fraction=0.1,\n",
       "                                                  verbose=0, warm_start=False),\n",
       "             iid='warn', n_jobs=-2,\n",
       "             param_grid={'learning_rate': [0.01, 0.1, 1],\n",
       "                         'max_depth': [3, 5, 7], 'n_estimators': [100, 200]},\n",
       "             pre_dispatch='2*n_jobs', refit=True, return_train_score=False,\n",
       "             scoring='roc_auc', verbose=2)"
      ]
     },
     "execution_count": 218,
     "metadata": {},
     "output_type": "execute_result"
    }
   ],
   "source": [
    "find_model.fit(x_sc, y)"
   ]
  },
  {
   "cell_type": "code",
   "execution_count": 219,
   "metadata": {},
   "outputs": [
    {
     "name": "stdout",
     "output_type": "stream",
     "text": [
      "0.5940557598698858\n",
      "GradientBoostingClassifier(criterion='friedman_mse', init=None,\n",
      "                           learning_rate=0.1, loss='deviance', max_depth=5,\n",
      "                           max_features=None, max_leaf_nodes=None,\n",
      "                           min_impurity_decrease=0.0, min_impurity_split=None,\n",
      "                           min_samples_leaf=1, min_samples_split=2,\n",
      "                           min_weight_fraction_leaf=0.0, n_estimators=200,\n",
      "                           n_iter_no_change=None, presort='auto',\n",
      "                           random_state=None, subsample=1.0, tol=0.0001,\n",
      "                           validation_fraction=0.1, verbose=0,\n",
      "                           warm_start=False)\n"
     ]
    }
   ],
   "source": [
    "print(find_model.best_score_)\n",
    "print(find_model.best_estimator_)"
   ]
  },
  {
   "cell_type": "markdown",
   "metadata": {},
   "source": [
    "I managed to increase the score from 0.548 to 0.594 with GridSearch"
   ]
  },
  {
   "cell_type": "markdown",
   "metadata": {},
   "source": [
    "<a id='part3'></a>\n",
    "## Part 3: Kaggle Competition\n",
    "\n",
    "Now that you've created a model to predict which individuals are most likely to respond to a mailout campaign, it's time to test that model in competition through Kaggle. If you click on the link [here](http://www.kaggle.com/t/21e6d45d4c574c7fa2d868f0e8c83140), you'll be taken to the competition page where, if you have a Kaggle account, you can enter. If you're one of the top performers, you may have the chance to be contacted by a hiring manager from Arvato or Bertelsmann for an interview!\n",
    "\n",
    "Your entry to the competition should be a CSV file with two columns. The first column should be a copy of \"LNR\", which acts as an ID number for each individual in the \"TEST\" partition. The second column, \"RESPONSE\", should be some measure of how likely each individual became a customer – this might not be a straightforward probability. As you should have found in Part 2, there is a large output class imbalance, where most individuals did not respond to the mailout. Thus, predicting individual classes and using accuracy does not seem to be an appropriate performance evaluation method. Instead, the competition will be using AUC to evaluate performance. The exact values of the \"RESPONSE\" column do not matter as much: only that the higher values try to capture as many of the actual customers as possible, early in the ROC curve sweep."
   ]
  },
  {
   "cell_type": "code",
   "execution_count": 99,
   "metadata": {},
   "outputs": [
    {
     "data": {
      "text/plain": [
       "(42833, 289)"
      ]
     },
     "execution_count": 99,
     "metadata": {},
     "output_type": "execute_result"
    }
   ],
   "source": [
    "mailout_test_clean.shape"
   ]
  },
  {
   "cell_type": "code",
   "execution_count": 100,
   "metadata": {},
   "outputs": [
    {
     "data": {
      "text/plain": [
       "0         1754\n",
       "1         1770\n",
       "2         1465\n",
       "3         1470\n",
       "4         1478\n",
       "         ...  \n",
       "42828    67615\n",
       "42829    67938\n",
       "42830    67942\n",
       "42831    67949\n",
       "42832    68898\n",
       "Name: LNR, Length: 42833, dtype: int64"
      ]
     },
     "execution_count": 100,
     "metadata": {},
     "output_type": "execute_result"
    }
   ],
   "source": [
    "# save the id_number to upload the data to Kaggle\n",
    "id_number = mailout_test['LNR']\n",
    "id_number"
   ]
  },
  {
   "cell_type": "markdown",
   "metadata": {},
   "source": [
    "### Impute and scale values"
   ]
  },
  {
   "cell_type": "code",
   "execution_count": 103,
   "metadata": {},
   "outputs": [],
   "source": [
    "test_x_imp = pd.DataFrame(imputer.fit_transform(mailout_test_clean))\n",
    "test_x_sc = pd.DataFrame(scaler.fit_transform(test_x_imp), columns = mailout_test_clean.columns)"
   ]
  },
  {
   "cell_type": "code",
   "execution_count": 107,
   "metadata": {},
   "outputs": [
    {
     "data": {
      "text/plain": [
       "289"
      ]
     },
     "execution_count": 107,
     "metadata": {},
     "output_type": "execute_result"
    }
   ],
   "source": [
    "# both datasets have the same columns\n",
    "len(set(test_x_sc) & set(x_sc))"
   ]
  },
  {
   "cell_type": "markdown",
   "metadata": {},
   "source": [
    "### Model"
   ]
  },
  {
   "cell_type": "code",
   "execution_count": 108,
   "metadata": {},
   "outputs": [],
   "source": [
    "# define optimal model\n",
    "best_params = {\n",
    "    'learning_rate': [0.1],\n",
    "    'max_depth': [5],\n",
    "    'n_estimators': [200]\n",
    "}"
   ]
  },
  {
   "cell_type": "code",
   "execution_count": 110,
   "metadata": {},
   "outputs": [],
   "source": [
    "# define StratifiedKFold\n",
    "scv = StratifiedKFold(n_splits=3)"
   ]
  },
  {
   "cell_type": "code",
   "execution_count": 111,
   "metadata": {},
   "outputs": [],
   "source": [
    "# initiate final model\n",
    "final_model = GridSearchCV(estimator = GradientBoostingClassifier(), \n",
    "                           param_grid = best_params, \n",
    "                           scoring = 'roc_auc', \n",
    "                           cv = scv,\n",
    "                           n_jobs= -2)"
   ]
  },
  {
   "cell_type": "code",
   "execution_count": 112,
   "metadata": {},
   "outputs": [
    {
     "data": {
      "text/plain": [
       "GridSearchCV(cv=StratifiedKFold(n_splits=3, random_state=None, shuffle=False),\n",
       "             error_score='raise-deprecating',\n",
       "             estimator=GradientBoostingClassifier(criterion='friedman_mse',\n",
       "                                                  init=None, learning_rate=0.1,\n",
       "                                                  loss='deviance', max_depth=3,\n",
       "                                                  max_features=None,\n",
       "                                                  max_leaf_nodes=None,\n",
       "                                                  min_impurity_decrease=0.0,\n",
       "                                                  min_impurity_split=None,\n",
       "                                                  min_samples_leaf=1,\n",
       "                                                  min_samples_split=2,\n",
       "                                                  min_weight_fraction_leaf=0.0,\n",
       "                                                  n_estimators=100,\n",
       "                                                  n_iter_no_change=None,\n",
       "                                                  presort='auto',\n",
       "                                                  random_state=None,\n",
       "                                                  subsample=1.0, tol=0.0001,\n",
       "                                                  validation_fraction=0.1,\n",
       "                                                  verbose=0, warm_start=False),\n",
       "             iid='warn', n_jobs=-2,\n",
       "             param_grid={'learning_rate': [0.1], 'max_depth': [5],\n",
       "                         'n_estimators': [200]},\n",
       "             pre_dispatch='2*n_jobs', refit=True, return_train_score=False,\n",
       "             scoring='roc_auc', verbose=0)"
      ]
     },
     "execution_count": 112,
     "metadata": {},
     "output_type": "execute_result"
    }
   ],
   "source": [
    "# fit model with the data from part 2 (mailout_train) to make predictions with the data from part 3 (mailout_test)\n",
    "final_model.fit(x_sc, y)"
   ]
  },
  {
   "cell_type": "code",
   "execution_count": 113,
   "metadata": {},
   "outputs": [],
   "source": [
    "# used predict_proba, to get the estimates for each label and therefore the probabilioty \n",
    "# if an individual will become a customer\n",
    "test_preds = final_model.predict_proba(test_x_sc)"
   ]
  },
  {
   "cell_type": "code",
   "execution_count": 114,
   "metadata": {},
   "outputs": [
    {
     "data": {
      "text/plain": [
       "array([[9.84076349e-01, 1.59236506e-02],\n",
       "       [9.99153580e-01, 8.46420060e-04],\n",
       "       [9.97309894e-01, 2.69010607e-03],\n",
       "       ...,\n",
       "       [9.99384771e-01, 6.15228744e-04],\n",
       "       [9.66435223e-01, 3.35647773e-02],\n",
       "       [9.98065975e-01, 1.93402538e-03]])"
      ]
     },
     "execution_count": 114,
     "metadata": {},
     "output_type": "execute_result"
    }
   ],
   "source": [
    "# first column is the probability for zero\n",
    "# scond column is the probability for one\n",
    "test_preds"
   ]
  },
  {
   "cell_type": "code",
   "execution_count": 115,
   "metadata": {},
   "outputs": [
    {
     "data": {
      "text/plain": [
       "(42833, 2)"
      ]
     },
     "execution_count": 115,
     "metadata": {},
     "output_type": "execute_result"
    }
   ],
   "source": [
    "test_preds.shape"
   ]
  },
  {
   "cell_type": "code",
   "execution_count": 116,
   "metadata": {},
   "outputs": [
    {
     "data": {
      "text/html": [
       "<div>\n",
       "<style scoped>\n",
       "    .dataframe tbody tr th:only-of-type {\n",
       "        vertical-align: middle;\n",
       "    }\n",
       "\n",
       "    .dataframe tbody tr th {\n",
       "        vertical-align: top;\n",
       "    }\n",
       "\n",
       "    .dataframe thead th {\n",
       "        text-align: right;\n",
       "    }\n",
       "</style>\n",
       "<table border=\"1\" class=\"dataframe\">\n",
       "  <thead>\n",
       "    <tr style=\"text-align: right;\">\n",
       "      <th></th>\n",
       "      <th>LNR</th>\n",
       "      <th>RESPONSE</th>\n",
       "    </tr>\n",
       "  </thead>\n",
       "  <tbody>\n",
       "    <tr>\n",
       "      <td>0</td>\n",
       "      <td>1754</td>\n",
       "      <td>0.015924</td>\n",
       "    </tr>\n",
       "    <tr>\n",
       "      <td>1</td>\n",
       "      <td>1770</td>\n",
       "      <td>0.000846</td>\n",
       "    </tr>\n",
       "    <tr>\n",
       "      <td>2</td>\n",
       "      <td>1465</td>\n",
       "      <td>0.002690</td>\n",
       "    </tr>\n",
       "    <tr>\n",
       "      <td>3</td>\n",
       "      <td>1470</td>\n",
       "      <td>0.001821</td>\n",
       "    </tr>\n",
       "    <tr>\n",
       "      <td>4</td>\n",
       "      <td>1478</td>\n",
       "      <td>0.003152</td>\n",
       "    </tr>\n",
       "  </tbody>\n",
       "</table>\n",
       "</div>"
      ],
      "text/plain": [
       "    LNR  RESPONSE\n",
       "0  1754  0.015924\n",
       "1  1770  0.000846\n",
       "2  1465  0.002690\n",
       "3  1470  0.001821\n",
       "4  1478  0.003152"
      ]
     },
     "execution_count": 116,
     "metadata": {},
     "output_type": "execute_result"
    }
   ],
   "source": [
    "kaggle = pd.DataFrame({'LNR':id_number, 'RESPONSE':test_preds[:, 1]})\n",
    "kaggle.to_csv('kaggle.csv', index = False)\n",
    "kaggle.head()"
   ]
  },
  {
   "cell_type": "markdown",
   "metadata": {},
   "source": [
    "Score on Kaggle:  0.53612"
   ]
  },
  {
   "cell_type": "markdown",
   "metadata": {},
   "source": [
    "## Conclusions\n",
    "\n",
    "To recap, the first goal of this project was to perform an unsupervised learning algorithm to uncover differences between customers and the general population. The second goal was to perform a supervised learning algorithm to predict if an individual became a customer and the last goal was to use this trained model to predict on unseen data and upload the results to Kaggle.\n",
    "\n",
    "The first part (unsupervised learning) was very challenging for me. It was the first time that I worked with a huge datafile (> 1GB). So at first it was quite frustrating working on the provided workspace, since some operations took a while. I decided to download the data to work on it on my local machine.\n",
    "\n",
    "Besides the huge dataset, the data cleaning was also very challenging and I used quite frequently methods that I didn't used before so it was on the other side quite rewarding to implement a new method and get the expected result.\n",
    "\n",
    "Again it became clear that the most work a data scientist has is the cleaning step.\n",
    "\n",
    "### Limitations\n",
    "\n",
    "My final score is compared to others on Kaggle relatively low. I looked at a few other notebooks on github to get an idea why. It seems that my approach to only keep the columns that are in the dataset and in the excel file is quite unique. To recap, I dropped roughly 100 columns that weren't in both files, with the idea that I can only use attributes for which I have the description. After the analysis I inspected the excel file and noticed that some Attributes are just spelled differently between the excel file and the DataFrame.\n",
    "So all in all I probably dropped some columns that would increase my score. "
   ]
  },
  {
   "cell_type": "code",
   "execution_count": null,
   "metadata": {},
   "outputs": [],
   "source": []
  }
 ],
 "metadata": {
  "kernelspec": {
   "display_name": "Python 3",
   "language": "python",
   "name": "python3"
  },
  "language_info": {
   "codemirror_mode": {
    "name": "ipython",
    "version": 3
   },
   "file_extension": ".py",
   "mimetype": "text/x-python",
   "name": "python",
   "nbconvert_exporter": "python",
   "pygments_lexer": "ipython3",
   "version": "3.7.4"
  }
 },
 "nbformat": 4,
 "nbformat_minor": 4
}
