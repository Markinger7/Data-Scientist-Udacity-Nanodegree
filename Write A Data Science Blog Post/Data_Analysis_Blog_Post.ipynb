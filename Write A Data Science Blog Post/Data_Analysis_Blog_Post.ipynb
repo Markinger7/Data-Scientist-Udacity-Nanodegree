{
 "cells": [
  {
   "cell_type": "markdown",
   "metadata": {},
   "source": [
    "## Write A Data Science Blog Post\n",
    "##### by Markus Müller\n",
    "\n",
    "\n",
    "Content:\n",
    "1. Gather\n",
    "2. Assess\n",
    "3. Clean\n",
    "\n",
    "\n",
    "\n",
    "Three Questions:\n",
    "1. Availability and prive development\n",
    "2. which neighborhoods are most expensive\n",
    "3. Which amenities can be expected at a given price?\n",
    "4. What feature predicts price \n",
    "\n",
    "Data: Boston Airbnb Open Data from <a href='https://www.kaggle.com/airbnb/boston'>Kaggle</a>\n",
    "\n",
    "Structure:\n",
    "- listings: full descriptions and average review score\n",
    "- reviews: unique id for each reviewer and detailed comments\n",
    "- calendar: listing id and the price and availability for that day"
   ]
  },
  {
   "cell_type": "code",
   "execution_count": 1,
   "metadata": {},
   "outputs": [],
   "source": [
    "# imports\n",
    "import datetime\n",
    "import numpy as np\n",
    "import pandas as pd\n",
    "pd.set_option(\"max_columns\", None)\n",
    "import matplotlib.pyplot as plt\n",
    "import seaborn as sns\n",
    "import requests\n",
    "import os\n",
    "import mplleaflet\n",
    "\n",
    "import plotly.express as px\n",
    "import plotly.io as pio # export plotly visualizations to HTML\n",
    "\n",
    "\n",
    "%matplotlib inline\n",
    "%config InlineBackend.figure_format = 'retina'"
   ]
  },
  {
   "cell_type": "code",
   "execution_count": 2,
   "metadata": {},
   "outputs": [],
   "source": [
    "# set seaborn style to get uniform visualizations\n",
    "\n",
    "#set base color\n",
    "b_color = sns.color_palette()[0]\n",
    "# set seaborn style for uniform \n",
    "sns.set_style('whitegrid')"
   ]
  },
  {
   "cell_type": "markdown",
   "metadata": {},
   "source": [
    "### Gather"
   ]
  },
  {
   "cell_type": "code",
   "execution_count": 3,
   "metadata": {},
   "outputs": [],
   "source": [
    "# create folder\n",
    "folder_name = 'Data'\n",
    "if not os.path.exists(folder_name):\n",
    "    os.makedirs(folder_name)"
   ]
  },
  {
   "cell_type": "code",
   "execution_count": 4,
   "metadata": {},
   "outputs": [],
   "source": [
    "calendar = pd.read_csv('Data/calendar.csv')\n",
    "listings = pd.read_csv('Data/listings.csv')\n",
    "reviews = pd.read_csv('Data/reviews.csv')"
   ]
  },
  {
   "cell_type": "markdown",
   "metadata": {},
   "source": [
    "### Assess"
   ]
  },
  {
   "cell_type": "code",
   "execution_count": null,
   "metadata": {},
   "outputs": [],
   "source": [
    "calendar"
   ]
  },
  {
   "cell_type": "code",
   "execution_count": null,
   "metadata": {},
   "outputs": [],
   "source": [
    "calendar.info()"
   ]
  },
  {
   "cell_type": "code",
   "execution_count": null,
   "metadata": {},
   "outputs": [],
   "source": [
    "calendar.isnull().sum()"
   ]
  },
  {
   "cell_type": "code",
   "execution_count": null,
   "metadata": {},
   "outputs": [],
   "source": [
    "calendar[calendar['price'].notna()]"
   ]
  },
  {
   "cell_type": "code",
   "execution_count": null,
   "metadata": {},
   "outputs": [],
   "source": [
    "# availabe (t = True / f = False)\n",
    "calendar.query('available == \"f\"')"
   ]
  },
  {
   "cell_type": "code",
   "execution_count": null,
   "metadata": {},
   "outputs": [],
   "source": [
    "listings"
   ]
  },
  {
   "cell_type": "code",
   "execution_count": null,
   "metadata": {},
   "outputs": [],
   "source": [
    "listings.info()"
   ]
  },
  {
   "cell_type": "code",
   "execution_count": null,
   "metadata": {},
   "outputs": [],
   "source": [
    "# used this cell to visually assess different columns\n",
    "listings[['id', 'price', 'weekly_price', 'monthly_price', 'cleaning_fee']]"
   ]
  },
  {
   "cell_type": "code",
   "execution_count": null,
   "metadata": {},
   "outputs": [],
   "source": [
    "# used this cell to visually assess different columns\n",
    "listings[['id', 'host_since', 'first_review', 'last_review', 'neighbourhood', 'neighbourhood_cleansed', 'property_type']]"
   ]
  },
  {
   "cell_type": "code",
   "execution_count": null,
   "metadata": {},
   "outputs": [],
   "source": [
    "# listings['price'].describe"
   ]
  },
  {
   "cell_type": "code",
   "execution_count": null,
   "metadata": {},
   "outputs": [],
   "source": [
    "# listings['price'].hist(bins=100);"
   ]
  },
  {
   "cell_type": "code",
   "execution_count": null,
   "metadata": {},
   "outputs": [],
   "source": [
    "# check distribution of reviews\n",
    "listings['review_scores_rating'].hist(bins=100);"
   ]
  },
  {
   "cell_type": "code",
   "execution_count": null,
   "metadata": {},
   "outputs": [],
   "source": [
    "# check for outliers\n",
    "#listings.query('price_clean <= 1400.0')"
   ]
  },
  {
   "cell_type": "code",
   "execution_count": null,
   "metadata": {},
   "outputs": [],
   "source": [
    "listings.isnull().sum()"
   ]
  },
  {
   "cell_type": "code",
   "execution_count": null,
   "metadata": {},
   "outputs": [],
   "source": [
    "reviews"
   ]
  },
  {
   "cell_type": "code",
   "execution_count": null,
   "metadata": {},
   "outputs": [],
   "source": [
    "reviews.info()"
   ]
  },
  {
   "cell_type": "markdown",
   "metadata": {},
   "source": [
    "#### Result Data Assessment\n",
    "\n",
    "##### calendar\n",
    "- `price` is an object \n",
    "- `date` should be a DateTimeObject\n",
    "\n",
    "##### lisitings\n",
    "- `price` in an object \n",
    "- `price` has outliers\n",
    "- `host_since` should be a DateTimeObject\n",
    "\n",
    "##### reviews\n",
    "- `date` should be a DateTimeObject\n",
    "\n",
    "### Data Cleaning"
   ]
  },
  {
   "cell_type": "code",
   "execution_count": 5,
   "metadata": {},
   "outputs": [],
   "source": [
    "# copy DataFrames\n",
    "calendar_clean = calendar.copy()\n",
    "listings_clean = listings.copy()\n",
    "reviews_clean = reviews.copy()"
   ]
  },
  {
   "cell_type": "markdown",
   "metadata": {},
   "source": [
    "##### clean price coloumns"
   ]
  },
  {
   "cell_type": "code",
   "execution_count": 6,
   "metadata": {},
   "outputs": [],
   "source": [
    "# function to clean and transform \n",
    "def clean_price(df, p_column):\n",
    "    df['price_clean'] = df[p_column].str.replace('[$,]', '')\n",
    "    df['price_clean'] = df['price_clean'].astype(float)\n",
    "    df.drop(columns=p_column, inplace=True)"
   ]
  },
  {
   "cell_type": "code",
   "execution_count": 7,
   "metadata": {},
   "outputs": [],
   "source": [
    "# apply function\n",
    "clean_price(calendar_clean, 'price')\n",
    "clean_price(listings_clean, 'price')"
   ]
  },
  {
   "cell_type": "code",
   "execution_count": 8,
   "metadata": {},
   "outputs": [
    {
     "data": {
      "text/plain": [
       "150.0     20752\n",
       "65.0      17518\n",
       "75.0      16249\n",
       "100.0     15499\n",
       "200.0     14326\n",
       "          ...  \n",
       "2415.0        1\n",
       "1148.0        1\n",
       "1149.0        1\n",
       "2046.0        1\n",
       "1617.0        1\n",
       "Name: price_clean, Length: 1246, dtype: int64"
      ]
     },
     "execution_count": 8,
     "metadata": {},
     "output_type": "execute_result"
    }
   ],
   "source": [
    "# check values\n",
    "calendar_clean['price_clean'].value_counts()"
   ]
  },
  {
   "cell_type": "code",
   "execution_count": 9,
   "metadata": {},
   "outputs": [
    {
     "data": {
      "text/plain": [
       "150.0    144\n",
       "200.0    117\n",
       "100.0    101\n",
       "250.0     95\n",
       "75.0      94\n",
       "        ... \n",
       "241.0      1\n",
       "211.0      1\n",
       "132.0      1\n",
       "599.0      1\n",
       "999.0      1\n",
       "Name: price_clean, Length: 324, dtype: int64"
      ]
     },
     "execution_count": 9,
     "metadata": {},
     "output_type": "execute_result"
    }
   ],
   "source": [
    "# check values\n",
    "listings_clean['price_clean'].value_counts()"
   ]
  },
  {
   "cell_type": "markdown",
   "metadata": {},
   "source": [
    "##### remove outliers in price columns"
   ]
  },
  {
   "cell_type": "code",
   "execution_count": 10,
   "metadata": {},
   "outputs": [],
   "source": [
    "listings_clean = listings_clean.query('price_clean <= 1400.0')"
   ]
  },
  {
   "cell_type": "code",
   "execution_count": null,
   "metadata": {},
   "outputs": [],
   "source": [
    "#calendar_clean.query('price_clean >= 4000')['price_clean'].unique()"
   ]
  },
  {
   "cell_type": "markdown",
   "metadata": {},
   "source": [
    "##### transforme date to DateTimeObject and extract day of week"
   ]
  },
  {
   "cell_type": "code",
   "execution_count": 11,
   "metadata": {},
   "outputs": [],
   "source": [
    "calendar_clean['date'] = pd.to_datetime(calendar_clean['date'], format='%Y-%m-%d')\n",
    "listings_clean['host_since'] = pd.to_datetime(listings_clean['host_since'], format='%Y-%m-%d')\n",
    "reviews_clean['date'] = pd.to_datetime(reviews_clean['date'], format='%Y-%m-%d')"
   ]
  },
  {
   "cell_type": "code",
   "execution_count": 12,
   "metadata": {},
   "outputs": [],
   "source": [
    "# get day of week from DateTimeObject\n",
    "calendar_clean['day_of_week'] = calendar_clean['date'].dt.strftime('%a')"
   ]
  },
  {
   "cell_type": "code",
   "execution_count": 13,
   "metadata": {},
   "outputs": [
    {
     "data": {
      "text/html": [
       "<div>\n",
       "<style scoped>\n",
       "    .dataframe tbody tr th:only-of-type {\n",
       "        vertical-align: middle;\n",
       "    }\n",
       "\n",
       "    .dataframe tbody tr th {\n",
       "        vertical-align: top;\n",
       "    }\n",
       "\n",
       "    .dataframe thead th {\n",
       "        text-align: right;\n",
       "    }\n",
       "</style>\n",
       "<table border=\"1\" class=\"dataframe\">\n",
       "  <thead>\n",
       "    <tr style=\"text-align: right;\">\n",
       "      <th></th>\n",
       "      <th>listing_id</th>\n",
       "      <th>date</th>\n",
       "      <th>available</th>\n",
       "      <th>price_clean</th>\n",
       "      <th>day_of_week</th>\n",
       "    </tr>\n",
       "  </thead>\n",
       "  <tbody>\n",
       "    <tr>\n",
       "      <td>0</td>\n",
       "      <td>12147973</td>\n",
       "      <td>2017-09-05</td>\n",
       "      <td>f</td>\n",
       "      <td>NaN</td>\n",
       "      <td>Tue</td>\n",
       "    </tr>\n",
       "    <tr>\n",
       "      <td>1</td>\n",
       "      <td>12147973</td>\n",
       "      <td>2017-09-04</td>\n",
       "      <td>f</td>\n",
       "      <td>NaN</td>\n",
       "      <td>Mon</td>\n",
       "    </tr>\n",
       "    <tr>\n",
       "      <td>2</td>\n",
       "      <td>12147973</td>\n",
       "      <td>2017-09-03</td>\n",
       "      <td>f</td>\n",
       "      <td>NaN</td>\n",
       "      <td>Sun</td>\n",
       "    </tr>\n",
       "    <tr>\n",
       "      <td>3</td>\n",
       "      <td>12147973</td>\n",
       "      <td>2017-09-02</td>\n",
       "      <td>f</td>\n",
       "      <td>NaN</td>\n",
       "      <td>Sat</td>\n",
       "    </tr>\n",
       "    <tr>\n",
       "      <td>4</td>\n",
       "      <td>12147973</td>\n",
       "      <td>2017-09-01</td>\n",
       "      <td>f</td>\n",
       "      <td>NaN</td>\n",
       "      <td>Fri</td>\n",
       "    </tr>\n",
       "  </tbody>\n",
       "</table>\n",
       "</div>"
      ],
      "text/plain": [
       "   listing_id       date available  price_clean day_of_week\n",
       "0    12147973 2017-09-05         f          NaN         Tue\n",
       "1    12147973 2017-09-04         f          NaN         Mon\n",
       "2    12147973 2017-09-03         f          NaN         Sun\n",
       "3    12147973 2017-09-02         f          NaN         Sat\n",
       "4    12147973 2017-09-01         f          NaN         Fri"
      ]
     },
     "execution_count": 13,
     "metadata": {},
     "output_type": "execute_result"
    }
   ],
   "source": [
    "calendar_clean.head(5)"
   ]
  },
  {
   "cell_type": "markdown",
   "metadata": {},
   "source": [
    "### Visualizations"
   ]
  },
  {
   "cell_type": "code",
   "execution_count": null,
   "metadata": {},
   "outputs": [],
   "source": [
    "def creat_price_cat(row):\n",
    "    if row['price_clean'] >= 400:\n",
    "        return 1\n",
    "    elif row['price_clean'] >= 200:\n",
    "        return 2\n",
    "    elif row['price_clean'] >= 100:\n",
    "        return 3\n",
    "    else:\n",
    "        return 4"
   ]
  },
  {
   "cell_type": "code",
   "execution_count": null,
   "metadata": {},
   "outputs": [],
   "source": [
    "listings_clean['price_cat'] = listings_clean.apply(creat_price_cat, axis=1)"
   ]
  },
  {
   "cell_type": "code",
   "execution_count": null,
   "metadata": {},
   "outputs": [],
   "source": [
    "listings_clean[['price_clean', 'price_cat']]"
   ]
  },
  {
   "cell_type": "code",
   "execution_count": null,
   "metadata": {},
   "outputs": [],
   "source": [
    "plt.hist(listings_clean['price_clean'], bins=150)\n",
    "plt.xlim(0,1500);"
   ]
  },
  {
   "cell_type": "markdown",
   "metadata": {},
   "source": [
    "I assume that the price in the listings table refelct the price from the day that the data was scraped, whereas the price in the calendar DataFrame shows the price of an individuall listing over the timeperiod"
   ]
  },
  {
   "cell_type": "code",
   "execution_count": null,
   "metadata": {},
   "outputs": [],
   "source": [
    "price_cat_1 = listings_clean.query('price_cat == 1')[['id', 'longitude', 'latitude', 'price_clean', 'price_cat']]\n",
    "price_cat_2 = listings_clean.query('price_cat == 2')[['id', 'longitude', 'latitude', 'price_clean', 'price_cat']]\n",
    "price_cat_3 = listings_clean.query('price_cat == 3')[['id', 'longitude', 'latitude', 'price_clean', 'price_cat']]\n",
    "price_cat_4 = listings_clean.query('price_cat == 4')[['id', 'longitude', 'latitude', 'price_clean', 'price_cat']]"
   ]
  },
  {
   "cell_type": "code",
   "execution_count": null,
   "metadata": {},
   "outputs": [],
   "source": [
    "plt.subplots(figsize=(8,8))\n",
    "plt.scatter(price_cat_1['longitude'], price_cat_1['latitude'], s=3, alpha=1, label = '>=400', color='red')\n",
    "plt.scatter(price_cat_2['longitude'], price_cat_2['latitude'], s=3, alpha=0.2, label = '>=200', color='blue')\n",
    "plt.scatter(price_cat_3['longitude'], price_cat_3['latitude'], s=3, alpha=0.2, label = '>=100', color='blue')\n",
    "plt.scatter(price_cat_4['longitude'], price_cat_4['latitude'], s=3, alpha=0.2, label = '<100', color='blue')\n",
    "plt.legend();"
   ]
  },
  {
   "cell_type": "code",
   "execution_count": null,
   "metadata": {},
   "outputs": [],
   "source": [
    "# knn to find clusters compare price between them"
   ]
  },
  {
   "cell_type": "markdown",
   "metadata": {},
   "source": [
    "### Question X: Availability"
   ]
  },
  {
   "cell_type": "code",
   "execution_count": null,
   "metadata": {},
   "outputs": [],
   "source": [
    "# create a DataFrame for each instance\n",
    "available = calendar_clean.query('available == \"t\"')"
   ]
  },
  {
   "cell_type": "code",
   "execution_count": null,
   "metadata": {},
   "outputs": [],
   "source": [
    "available_price = calendar_clean.query('available ==\"t\"').groupby('date')['price_clean'].mean()"
   ]
  },
  {
   "cell_type": "code",
   "execution_count": null,
   "metadata": {},
   "outputs": [],
   "source": [
    "# grouoby date to see the availability of each day\n",
    "available_plot = available.groupby('date').count()"
   ]
  },
  {
   "cell_type": "code",
   "execution_count": null,
   "metadata": {},
   "outputs": [],
   "source": [
    "fig, ax1 = plt.subplots(figsize = (10,6))\n",
    "\n",
    "color = 'tab:green'\n",
    "ax1.set_xlabel('date')\n",
    "ax1.set_ylabel('available', color=color)\n",
    "ax1.plot(available_plot.index, available_plot['listing_id'], label = 'available', color = color)\n",
    "ax1.tick_params(axis='y', labelcolor=color)\n",
    "\n",
    "ax2 = ax1.twinx()  # instantiate a second axes that shares the same x-axis\n",
    "\n",
    "color = 'tab:red'\n",
    "ax2.set_ylabel('price', color=color)  # we already handled the x-label with ax1\n",
    "ax2.plot(available_price.index, available_price.values, label = 'price', color = color)\n",
    "ax2.tick_params(axis='y', labelcolor=color)\n",
    "\n",
    "fig.tight_layout()  # otherwise the right y-label is slightly clipped\n",
    "plt.title('Availability')\n",
    "fig.legend(loc='upper right', bbox_to_anchor=(0.92, 0.96));\n",
    "# https://matplotlib.org/gallery/api/two_scales.html"
   ]
  },
  {
   "cell_type": "markdown",
   "metadata": {},
   "source": [
    "- there seems to be some seasonality in the price, because it has almost the same pattern "
   ]
  },
  {
   "cell_type": "code",
   "execution_count": null,
   "metadata": {},
   "outputs": [],
   "source": [
    "# transform to cat to polt days of week in order\n",
    "available['day_of_week'] = pd.Categorical(available['day_of_week'], \n",
    "                                          categories=['Mon','Tue','Wed','Thu','Fri','Sat', 'Sun'], \n",
    "                                          ordered=True)"
   ]
  },
  {
   "cell_type": "code",
   "execution_count": null,
   "metadata": {},
   "outputs": [],
   "source": [
    "fig = plt.subplots(figsize=(8,6))\n",
    "sns.barplot(x='day_of_week', y='price_clean', data=available, color=b_color, ci= None)\n",
    "plt.title('Averag prices on weekdays')\n",
    "plt.ylabel('Average price')\n",
    "plt.xlabel('Day of Week')\n",
    "plt.ylim(150,215);"
   ]
  },
  {
   "cell_type": "markdown",
   "metadata": {},
   "source": [
    "there is a slightly higher price on Fridays and Saturdays"
   ]
  },
  {
   "cell_type": "markdown",
   "metadata": {},
   "source": [
    "### Question X: Where to stay?"
   ]
  },
  {
   "cell_type": "code",
   "execution_count": null,
   "metadata": {},
   "outputs": [],
   "source": [
    "plt.subplots(figsize=(8,8))\n",
    "plt.scatter(listings_clean['longitude'], listings_clean['latitude'], s=3, alpha=0.5)\n",
    "#mplleaflet.display()"
   ]
  },
  {
   "cell_type": "code",
   "execution_count": null,
   "metadata": {},
   "outputs": [],
   "source": [
    "token = 'pk.eyJ1IjoibWFya2luZ2VyIiwiYSI6ImNrYXAzc2poOTBqc2gydXFudWdxeDAzb3kifQ._su7Ef8qqFBHuXa3tR1w9Q'\n",
    "fig = px.scatter_mapbox(listings_clean, lat='latitude', lon=\"longitude\", \n",
    "                        hover_data=['price_clean', 'neighbourhood_cleansed'],\n",
    "                        color='price_clean', zoom=10, height=300,\n",
    "                        #color_continuous_scale=px.colors.cyclical.IceFire)\n",
    "                       )\n",
    "fig.update_layout(mapbox_style='light', mapbox_accesstoken=token)\n",
    "fig.update_layout(margin={'r':0,'t':0,'l':0,'b':0})\n",
    "fig.show()\n",
    "# https://plotly.com/python/mapbox-layers/\n",
    "# saves the output as HTML to use it in the Blog article\n",
    "pio.write_html(fig, file='index.html', auto_open=True)\n",
    "# https://towardsdatascience.com/how-to-create-a-plotly-visualization-and-embed-it-on-websites-517c1a78568b"
   ]
  },
  {
   "cell_type": "markdown",
   "metadata": {},
   "source": [
    "### Question X: Neighberhoods"
   ]
  },
  {
   "cell_type": "code",
   "execution_count": null,
   "metadata": {},
   "outputs": [],
   "source": [
    "neighbourhoods = listings_clean[['id', 'neighbourhood', 'neighbourhood_cleansed', 'price_clean']]"
   ]
  },
  {
   "cell_type": "code",
   "execution_count": null,
   "metadata": {},
   "outputs": [],
   "source": [
    "neighbourhoods['neighbourhood_cleansed'].nunique()"
   ]
  },
  {
   "cell_type": "code",
   "execution_count": null,
   "metadata": {},
   "outputs": [],
   "source": [
    "neighbourhoods['neighbourhood_cleansed'].value_counts()"
   ]
  },
  {
   "cell_type": "code",
   "execution_count": null,
   "metadata": {},
   "outputs": [],
   "source": [
    "neighbourhoods.groupby('neighbourhood_cleansed')['price_clean'].mean().sort_values(ascending = False)"
   ]
  },
  {
   "cell_type": "code",
   "execution_count": null,
   "metadata": {},
   "outputs": [],
   "source": [
    "neighbourhoods.groupby('neighbourhood_cleansed')['price_clean'].max().sort_values(ascending = False).head(5)"
   ]
  },
  {
   "cell_type": "code",
   "execution_count": null,
   "metadata": {},
   "outputs": [],
   "source": [
    "neighbourhoods['price_clean'].mean()"
   ]
  },
  {
   "cell_type": "code",
   "execution_count": null,
   "metadata": {},
   "outputs": [],
   "source": [
    "neighbourhoods['diff_to_mean'] = neighbourhoods['price_clean'] - neighbourhoods['price_clean'].mean()"
   ]
  },
  {
   "cell_type": "code",
   "execution_count": null,
   "metadata": {},
   "outputs": [],
   "source": [
    "neighbourhoods"
   ]
  },
  {
   "cell_type": "code",
   "execution_count": null,
   "metadata": {},
   "outputs": [],
   "source": [
    "fig = plt.subplots(figsize=(6,10))\n",
    "sns.barplot(y='neighbourhood_cleansed', x='diff_to_mean', data=neighbourhoods, \n",
    "            order=neighberhoods.groupby('neighbourhood_cleansed')['diff_to_mean'].mean().sort_values().index,\n",
    "            ci= None, color=b_color)\n",
    "#plt.xticks(rotation=90)\n",
    "plt.title('Average price difference to mean price of Boston AirBnBs')\n",
    "plt.ylabel('Neighbourhoods in Boston')\n",
    "plt.xlabel('Average price difference')\n",
    "plt.tight_layout()"
   ]
  },
  {
   "cell_type": "markdown",
   "metadata": {},
   "source": [
    "### Question X: Which amenities can be expected at a given price?"
   ]
  },
  {
   "cell_type": "code",
   "execution_count": null,
   "metadata": {},
   "outputs": [],
   "source": [
    "amenities = listings_clean[['id', 'price_clean', 'amenities']]"
   ]
  },
  {
   "cell_type": "code",
   "execution_count": null,
   "metadata": {},
   "outputs": [],
   "source": [
    "amenities['amenities'] = amenities['amenities'].str.replace(\"[{}]\", \"\")"
   ]
  },
  {
   "cell_type": "code",
   "execution_count": null,
   "metadata": {},
   "outputs": [],
   "source": [
    "amenity_dummy = amenities['amenities'].str.get_dummies(sep = \",\")"
   ]
  },
  {
   "cell_type": "code",
   "execution_count": null,
   "metadata": {},
   "outputs": [],
   "source": [
    "amenity_dummy.drop(columns=['\"translation missing: en.hosting_amenity_49\"', '\"translation missing: en.hosting_amenity_50\"'], inplace=True)"
   ]
  },
  {
   "cell_type": "code",
   "execution_count": null,
   "metadata": {},
   "outputs": [],
   "source": [
    "amenity_dummy.columns = amenity_dummy.columns.str.replace('\"','')"
   ]
  },
  {
   "cell_type": "code",
   "execution_count": null,
   "metadata": {},
   "outputs": [],
   "source": [
    "amenity_dummy.head(2)"
   ]
  },
  {
   "cell_type": "markdown",
   "metadata": {},
   "source": [
    "### Question X: What contributes to a high price"
   ]
  },
  {
   "cell_type": "code",
   "execution_count": 14,
   "metadata": {},
   "outputs": [],
   "source": [
    "# prices higher than 600 will be romoved fot this question\n",
    "listings_clean = listings_clean.query('price_clean <= 600')"
   ]
  },
  {
   "cell_type": "code",
   "execution_count": 15,
   "metadata": {},
   "outputs": [],
   "source": [
    "#create a DataFrame which contains possible variables influencing price \n",
    "model = listings_clean[['id', 'bedrooms', 'beds', 'bed_type', 'room_type','bathrooms', 'property_type', \n",
    "                        'neighbourhood_cleansed', 'cancellation_policy', 'number_of_reviews',\n",
    "                        'review_scores_rating', 'reviews_per_month', 'host_is_superhost', 'amenities',\n",
    "                        'cancellation_policy', 'guests_included', 'square_feet', 'price_clean']]"
   ]
  },
  {
   "cell_type": "code",
   "execution_count": 16,
   "metadata": {},
   "outputs": [
    {
     "data": {
      "text/plain": [
       "id                           0\n",
       "bedrooms                    10\n",
       "beds                         9\n",
       "bed_type                     0\n",
       "room_type                    0\n",
       "bathrooms                   14\n",
       "property_type                3\n",
       "neighbourhood_cleansed       0\n",
       "cancellation_policy          0\n",
       "number_of_reviews            0\n",
       "review_scores_rating       798\n",
       "reviews_per_month          742\n",
       "host_is_superhost            0\n",
       "amenities                    0\n",
       "cancellation_policy          0\n",
       "guests_included              0\n",
       "square_feet               3492\n",
       "price_clean                  0\n",
       "dtype: int64"
      ]
     },
     "execution_count": 16,
     "metadata": {},
     "output_type": "execute_result"
    }
   ],
   "source": [
    "model.isnull().sum()"
   ]
  },
  {
   "cell_type": "code",
   "execution_count": 22,
   "metadata": {},
   "outputs": [
    {
     "data": {
      "text/plain": [
       "1.0    2367\n",
       "2.0     684\n",
       "0.0     287\n",
       "3.0     147\n",
       "4.0      39\n",
       "5.0      13\n",
       "Name: bedrooms, dtype: int64"
      ]
     },
     "execution_count": 22,
     "metadata": {},
     "output_type": "execute_result"
    }
   ],
   "source": [
    "model['bedrooms'].value_counts()"
   ]
  },
  {
   "cell_type": "code",
   "execution_count": 25,
   "metadata": {},
   "outputs": [
    {
     "data": {
      "text/plain": [
       "0.6975409285801463"
      ]
     },
     "execution_count": 25,
     "metadata": {},
     "output_type": "execute_result"
    }
   ],
   "source": [
    "model['beds'].corr(model['bedrooms'])"
   ]
  },
  {
   "cell_type": "code",
   "execution_count": 29,
   "metadata": {},
   "outputs": [
    {
     "data": {
      "text/plain": [
       "1.2135578828191338"
      ]
     },
     "execution_count": 29,
     "metadata": {},
     "output_type": "execute_result"
    }
   ],
   "source": [
    "model['bathrooms'].mean()#.value_counts()"
   ]
  },
  {
   "cell_type": "code",
   "execution_count": 31,
   "metadata": {},
   "outputs": [
    {
     "data": {
      "text/plain": [
       "Apartment          2586\n",
       "House               554\n",
       "Condominium         228\n",
       "Townhouse            53\n",
       "Bed & Breakfast      41\n",
       "Loft                 39\n",
       "Other                17\n",
       "Boat                 12\n",
       "Villa                 6\n",
       "Entire Floor          4\n",
       "Dorm                  2\n",
       "Guesthouse            1\n",
       "Camper/RV             1\n",
       "Name: property_type, dtype: int64"
      ]
     },
     "execution_count": 31,
     "metadata": {},
     "output_type": "execute_result"
    }
   ],
   "source": [
    "model['property_type'].value_counts()"
   ]
  },
  {
   "cell_type": "code",
   "execution_count": 36,
   "metadata": {},
   "outputs": [
    {
     "data": {
      "text/plain": [
       "(94.0, 91.88141142233539)"
      ]
     },
     "execution_count": 36,
     "metadata": {},
     "output_type": "execute_result"
    }
   ],
   "source": [
    "model['review_scores_rating'].median()"
   ]
  },
  {
   "cell_type": "code",
   "execution_count": 40,
   "metadata": {},
   "outputs": [
    {
     "data": {
      "text/plain": [
       "1.00    114\n",
       "2.00     53\n",
       "0.08     28\n",
       "3.00     26\n",
       "0.09     26\n",
       "       ... \n",
       "6.96      1\n",
       "5.83      1\n",
       "6.13      1\n",
       "4.95      1\n",
       "4.89      1\n",
       "Name: reviews_per_month, Length: 644, dtype: int64"
      ]
     },
     "execution_count": 40,
     "metadata": {},
     "output_type": "execute_result"
    }
   ],
   "source": [
    "model['reviews_per_month'].value_counts()"
   ]
  },
  {
   "cell_type": "markdown",
   "metadata": {},
   "source": [
    "How to handle missing values:\n",
    "- `square_feet` gets droped, because it has to many missing values\n",
    "- `bedrooms`: since the mean is 1.24 and mode is 1, all missing values will get filled with 1\n",
    "- `beds`: gets droped -> correlates with bedrooms\n",
    "- `bathrooms`: since the mean is 1.21 and the mode is 1, all missing values will get filled with 1\n",
    "- `property_type`: the three missing ones will be added to other\n",
    "- `review_scores_rating`: because there is no pattern behind the missing value I will use the random sample method\n",
    "- `reviews_per_month`: random sample method\n",
    "\n",
    "more methods: https://towardsdatascience.com/8-clutch-ways-to-impute-missing-data-690481c6cb2b"
   ]
  },
  {
   "cell_type": "markdown",
   "metadata": {},
   "source": [
    "##### fill missing values"
   ]
  },
  {
   "cell_type": "code",
   "execution_count": 89,
   "metadata": {},
   "outputs": [],
   "source": [
    "# drop square_feet and beds\n",
    "model.drop(columns=['square_feet', 'beds'], inplace=True)"
   ]
  },
  {
   "cell_type": "code",
   "execution_count": 92,
   "metadata": {},
   "outputs": [],
   "source": [
    "# bedrooms and bathrooms fill missing values with 1\n",
    "model['bedrooms'].fillna(value=1, inplace=True)\n",
    "model['bathrooms'].fillna(value=1, inplace=True)"
   ]
  },
  {
   "cell_type": "code",
   "execution_count": 93,
   "metadata": {},
   "outputs": [
    {
     "name": "stderr",
     "output_type": "stream",
     "text": [
      "/opt/anaconda3/lib/python3.7/site-packages/pandas/core/generic.py:6287: SettingWithCopyWarning:\n",
      "\n",
      "\n",
      "A value is trying to be set on a copy of a slice from a DataFrame\n",
      "\n",
      "See the caveats in the documentation: http://pandas.pydata.org/pandas-docs/stable/user_guide/indexing.html#returning-a-view-versus-a-copy\n",
      "\n"
     ]
    }
   ],
   "source": [
    "# change property_type \n",
    "model['property_type'].fillna(value='Other', inplace=True)"
   ]
  },
  {
   "cell_type": "code",
   "execution_count": 81,
   "metadata": {},
   "outputs": [],
   "source": [
    "#  https://stackoverflow.com/questions/36413314/filling-missing-data-by-random-choosing-from-non-missing-values-in-pandas-datafr\n",
    "def fill_with_random(df2, column):\n",
    "    '''Fill `df2`'s column with name `column` with random data based on non-NaN data from `column`'''\n",
    "    df = df2.copy()\n",
    "    df[column] = df[column].apply(lambda x: np.random.choice(df[column].dropna().values) if np.isnan(x) else x)\n",
    "    return df"
   ]
  },
  {
   "cell_type": "code",
   "execution_count": 85,
   "metadata": {},
   "outputs": [],
   "source": [
    "model = fill_with_random(model, 'review_scores_rating')\n",
    "model = fill_with_random(model, 'reviews_per_month')"
   ]
  },
  {
   "cell_type": "code",
   "execution_count": null,
   "metadata": {},
   "outputs": [],
   "source": []
  },
  {
   "cell_type": "code",
   "execution_count": null,
   "metadata": {},
   "outputs": [],
   "source": []
  },
  {
   "cell_type": "code",
   "execution_count": null,
   "metadata": {},
   "outputs": [],
   "source": []
  },
  {
   "cell_type": "code",
   "execution_count": null,
   "metadata": {},
   "outputs": [],
   "source": [
    "#colums which could be ralated to the price \n",
    "price_corr = listings_clean[['price_clean', 'bathrooms', 'bedrooms', 'beds', 'number_of_reviews', 'review_scores_rating', 'reviews_per_month']]"
   ]
  },
  {
   "cell_type": "code",
   "execution_count": null,
   "metadata": {},
   "outputs": [],
   "source": [
    "# review_score_rating is the combinatiom of the other reveiw_scores\n",
    "# listings_clean[['review_scores_rating', 'review_scores_accuracy', 'review_scores_cleanliness', 'review_scores_checkin',\n",
    "#                'review_scores_communication', 'review_scores_location', 'review_scores_value']]"
   ]
  },
  {
   "cell_type": "code",
   "execution_count": null,
   "metadata": {},
   "outputs": [],
   "source": [
    "sns.heatmap(price_corr.corr(), annot=True);"
   ]
  },
  {
   "cell_type": "markdown",
   "metadata": {},
   "source": [
    "There are some medium correlations for bathrooms, bedrooms, bad and very small correlations for review and review per month. Intersting is that a high reveiw doesn't seem to affact price."
   ]
  },
  {
   "cell_type": "code",
   "execution_count": null,
   "metadata": {},
   "outputs": [],
   "source": [
    "score = listings_clean.groupby('review_scores_rating')['price_clean'].mean().index\n",
    "mean_price = listings_clean.groupby('review_scores_rating')['price_clean'].mean().values"
   ]
  },
  {
   "cell_type": "code",
   "execution_count": null,
   "metadata": {},
   "outputs": [],
   "source": [
    "plt.bar(x=score, height=mean_price)"
   ]
  },
  {
   "cell_type": "code",
   "execution_count": null,
   "metadata": {},
   "outputs": [],
   "source": [
    "fig = plt.subplots(figsize=(8,6))\n",
    "sns.boxplot(x='host_is_superhost', y='price_clean', data=listings_clean)"
   ]
  },
  {
   "cell_type": "code",
   "execution_count": null,
   "metadata": {},
   "outputs": [],
   "source": [
    "fig = plt.subplots(figsize=(8,6))\n",
    "sns.boxplot(x='property_type', y='price_clean', data=listings_clean, \n",
    "            order=listings_clean.groupby('property_type')['price_clean'].mean().sort_values(ascending=False).index)\n",
    "plt.xticks(rotation=50)\n",
    "plt.tight_layout();"
   ]
  },
  {
   "cell_type": "code",
   "execution_count": null,
   "metadata": {},
   "outputs": [],
   "source": [
    "fig = plt.subplots(figsize=(8,6))\n",
    "sns.boxplot(x='bed_type', y='price_clean', data=listings_clean)"
   ]
  },
  {
   "cell_type": "code",
   "execution_count": null,
   "metadata": {},
   "outputs": [],
   "source": [
    "fig = plt.subplots(figsize=(8,6))\n",
    "sns.boxplot(x='room_type', y='price_clean', data=listings_clean)"
   ]
  },
  {
   "cell_type": "code",
   "execution_count": null,
   "metadata": {},
   "outputs": [],
   "source": [
    "fig = plt.subplots(figsize=(8,6))\n",
    "sns.boxplot(x='cancellation_policy', y='price_clean', data=listings_clean)"
   ]
  },
  {
   "cell_type": "code",
   "execution_count": null,
   "metadata": {},
   "outputs": [],
   "source": [
    "fig = plt.subplots(figsize=(8,6))\n",
    "sns.boxplot(x='guests_included', y='price_clean', data=listings_clean)"
   ]
  },
  {
   "cell_type": "markdown",
   "metadata": {},
   "source": [
    "#### Linear Regression to see what impacts price\n",
    "What features should the model includ?\n",
    "- `neighbourhood_cleansed` showed varianze between different neighbourhoods.\n",
    "- `bathrooms` as well as `bedromms` had a medium correlation\n",
    "- `review_scores_rating` hadn't a high correlation and the visual assesment didn't show an obvious pattern \n",
    "- `square_feet` would be interesting, but there are to many missing values\n",
    "- `guests_included`\n",
    "\n",
    "- property type\n",
    "\n",
    "To do a linear regression we need to make some transformations:\n",
    "- `price` is right skewed. To solve this we can transform the price, but then we will loose the interpretability so in this case price won't be transformed.\n",
    "- `review_scores_rating` is left skewed, wo have to log the review score\n",
    "- categorical columns like: `neighbourhood_cleansed`, `bathrooms`, `cancellation_policy`, `bedrooms`, `property_type` need to be transformed to dummy variables\n",
    "- `property_type`: unpopular tyoes will be summarized as other\n",
    "- the boxplots revealed more outliers in price so I will remove prices higher than $600\n",
    "- `guests_included`: combine 7 and more into one category "
   ]
  },
  {
   "cell_type": "code",
   "execution_count": null,
   "metadata": {},
   "outputs": [],
   "source": [
    "listings_clean['price_clean'].hist(bins=100);"
   ]
  },
  {
   "cell_type": "code",
   "execution_count": null,
   "metadata": {},
   "outputs": [],
   "source": [
    "listings_clean['review_scores_rating'].hist(bins=100);"
   ]
  },
  {
   "cell_type": "code",
   "execution_count": null,
   "metadata": {},
   "outputs": [],
   "source": [
    "listings_clean['property_type'].value_counts()\n",
    "# everything samller as Other will be included in Other"
   ]
  },
  {
   "cell_type": "code",
   "execution_count": null,
   "metadata": {},
   "outputs": [],
   "source": [
    "types = ['Boat', 'Villa', 'Entire Floor', 'Dorm', 'Camper/RV', 'Guesthouse']\n",
    "for ptype in types:\n",
    "    listings_clean['property_type'] = np.where(listings_clean['property_type'] == ptype, \n",
    "                                               'Other', listings_clean['property_type'])"
   ]
  },
  {
   "cell_type": "code",
   "execution_count": null,
   "metadata": {},
   "outputs": [],
   "source": [
    "listings_clean['property_type'].value_counts()"
   ]
  },
  {
   "cell_type": "code",
   "execution_count": null,
   "metadata": {},
   "outputs": [],
   "source": [
    "values = [7, 8, 9, 10, 11, 12, 14]\n",
    "for x in values:\n",
    "    listings_clean['guests_included'] = np.where(listings_clean['guests_included'] == x, \n",
    "                                                 7, listings_clean['guests_included'])"
   ]
  },
  {
   "cell_type": "code",
   "execution_count": null,
   "metadata": {},
   "outputs": [],
   "source": [
    "listings_clean['guests_included'].value_counts()"
   ]
  },
  {
   "cell_type": "code",
   "execution_count": null,
   "metadata": {},
   "outputs": [],
   "source": []
  },
  {
   "cell_type": "markdown",
   "metadata": {},
   "source": [
    "### Resources\n",
    "- https://matplotlib.org/gallery/api/two_scales.html\n",
    "- https://plotly.com/python/mapbox-layers/\n",
    "- https://medium.com/analytics-vidhya/plotly-for-geomaps-bb75d1de189f\n",
    "- https://towardsdatascience.com/how-to-create-a-plotly-visualization-and-embed-it-on-websites-517c1a78568b\n",
    "- https://towardsdatascience.com/8-clutch-ways-to-impute-missing-data-690481c6cb2b\n",
    "- https://stackoverflow.com/questions/36413314/filling-missing-data-by-random-choosing-from-non-missing-values-in-pandas-datafr"
   ]
  },
  {
   "cell_type": "code",
   "execution_count": null,
   "metadata": {},
   "outputs": [],
   "source": []
  }
 ],
 "metadata": {
  "kernelspec": {
   "display_name": "Python 3",
   "language": "python",
   "name": "python3"
  },
  "language_info": {
   "codemirror_mode": {
    "name": "ipython",
    "version": 3
   },
   "file_extension": ".py",
   "mimetype": "text/x-python",
   "name": "python",
   "nbconvert_exporter": "python",
   "pygments_lexer": "ipython3",
   "version": "3.7.4"
  }
 },
 "nbformat": 4,
 "nbformat_minor": 4
}
